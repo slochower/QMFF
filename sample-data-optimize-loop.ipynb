{
 "cells": [
  {
   "cell_type": "markdown",
   "metadata": {},
   "source": [
    "Before we can optimize anything, we first need to extra the target data from a simulation."
   ]
  },
  {
   "cell_type": "code",
   "execution_count": 64,
   "metadata": {
    "collapsed": false,
    "scrolled": true
   },
   "outputs": [],
   "source": [
    "import os as os\n",
    "import sys as sys\n",
    "import glob as glob\n",
    "import math as math\n",
    "import numpy as np\n",
    "import scipy as sc\n",
    "import subprocess as subprocess\n",
    "import matplotlib as mpl\n",
    "import matplotlib.pyplot as plt\n",
    "\n",
    "from numpy import genfromtxt\n",
    "from scipy import stats\n",
    "from functools import reduce\n",
    "\n",
    "import pytraj as pt"
   ]
  },
  {
   "cell_type": "code",
   "execution_count": 65,
   "metadata": {
    "collapsed": true
   },
   "outputs": [],
   "source": [
    "%matplotlib inline"
   ]
  },
  {
   "cell_type": "code",
   "execution_count": 118,
   "metadata": {
    "collapsed": true
   },
   "outputs": [],
   "source": [
    "simulation_directory = 'sample-data/pure-ethanol/'\n",
    "parameter_file       = 'full.topo'\n",
    "trajectory_files     = 'traj.001'\n",
    "dt                   = 10.0  # picoseconds (dt = 0.002 * 5000 steps/frame)"
   ]
  },
  {
   "cell_type": "code",
   "execution_count": 119,
   "metadata": {
    "collapsed": false
   },
   "outputs": [],
   "source": [
    "traj = pt.iterload(simulation_directory+trajectory_files, simulation_directory+parameter_file)"
   ]
  },
  {
   "cell_type": "code",
   "execution_count": 120,
   "metadata": {
    "collapsed": false
   },
   "outputs": [],
   "source": [
    "volumes = pt.volume(traj)"
   ]
  },
  {
   "cell_type": "code",
   "execution_count": 134,
   "metadata": {
    "collapsed": false
   },
   "outputs": [],
   "source": [
    "diffusion = pt.diffusion(traj, tstep=dt, dtype='dict')"
   ]
  },
  {
   "cell_type": "code",
   "execution_count": 135,
   "metadata": {
    "collapsed": false
   },
   "outputs": [
    {
     "data": {
      "text/plain": [
       "OrderedDict([('X',\n",
       "              array([   0.        ,    5.22245717,    8.87997824, ...,  267.18243771,\n",
       "                      272.35659023,  275.83195195])),\n",
       "             ('Y',\n",
       "              array([   0.        ,    4.94090717,    8.46863978, ...,  265.06787995,\n",
       "                      268.20348172,  270.39236137])),\n",
       "             ('Z',\n",
       "              array([   0.        ,    4.88053531,    7.59024219, ...,  249.77583838,\n",
       "                      249.9293094 ,  251.52116686])),\n",
       "             ('R',\n",
       "              array([   0.        ,   15.04389965,   24.93886021, ...,  782.02615604,\n",
       "                      790.48938135,  797.74548017])),\n",
       "             ('A',\n",
       "              array([  0.        ,   3.87864663,   4.99388228, ...,  27.96473057,\n",
       "                      28.115643  ,  28.24438847])),\n",
       "             ('D',\n",
       "              array([ 1.3031064 ,  1.3376192 ,  1.31758648,  1.25411351])),\n",
       "             ('Label', array(['df_AvgDr', 'df_AvgDx', 'df_AvgDy', 'df_AvgDz'], \n",
       "                    dtype='<U8')),\n",
       "             ('Slope',\n",
       "              array([ 0.78186384,  0.26752384,  0.2635173 ,  0.2508227 ])),\n",
       "             ('Intercept',\n",
       "              array([ 4.97660069, -2.86267454,  0.43244864,  7.4068266 ])),\n",
       "             ('Corr',\n",
       "              array([ 0.99973793,  0.99845822,  0.9989356 ,  0.99873223]))])"
      ]
     },
     "execution_count": 135,
     "metadata": {},
     "output_type": "execute_result"
    }
   ],
   "source": [
    "pt.diffusion(traj, tstep=dt, dtype='dict')"
   ]
  },
  {
   "cell_type": "code",
   "execution_count": 122,
   "metadata": {
    "collapsed": false
   },
   "outputs": [
    {
     "data": {
      "text/plain": [
       "[<matplotlib.lines.Line2D at 0x7fa944bfc320>]"
      ]
     },
     "execution_count": 122,
     "metadata": {},
     "output_type": "execute_result"
    },
    {
     "data": {
      "image/png": "[encoded data removed]",
      "text/plain": [
       "<matplotlib.figure.Figure at 0x7fa944b50b70>"
      ]
     },
     "metadata": {},
     "output_type": "display_data"
    }
   ],
   "source": [
    "plt.plot(range(traj.n_frames), diffusion['R'])"
   ]
  },
  {
   "cell_type": "code",
   "execution_count": 129,
   "metadata": {
    "collapsed": false
   },
   "outputs": [
    {
     "data": {
      "text/plain": [
       "0.78186383809593174"
      ]
     },
     "execution_count": 129,
     "metadata": {},
     "output_type": "execute_result"
    }
   ],
   "source": [
    "diffusion['Slope'][0]"
   ]
  },
  {
   "cell_type": "code",
   "execution_count": 130,
   "metadata": {
    "collapsed": false
   },
   "outputs": [],
   "source": [
    "text = '''\n",
    "parm full.topo\n",
    "trajin traj.001\n",
    "unwrap\n",
    "diffusion average 10\n",
    "'''"
   ]
  },
  {
   "cell_type": "code",
   "execution_count": 131,
   "metadata": {
    "collapsed": false
   },
   "outputs": [],
   "source": [
    "state = pt.load_cpptraj_state(text, traj)"
   ]
  },
  {
   "cell_type": "code",
   "execution_count": 132,
   "metadata": {
    "collapsed": false
   },
   "outputs": [
    {
     "data": {
      "text/plain": [
       "CpptrajState, include:\n",
       "<datasetlist: 11 datasets>"
      ]
     },
     "execution_count": 132,
     "metadata": {},
     "output_type": "execute_result"
    }
   ],
   "source": [
    "state.run()"
   ]
  },
  {
   "cell_type": "code",
   "execution_count": 133,
   "metadata": {
    "collapsed": false
   },
   "outputs": [
    {
     "data": {
      "text/plain": [
       "<pytraj.datasets.DatasetDouble: size=4, key=average[Slope]> \n",
       "values: \n",
       "[ 7.82269302  2.67437375  2.63676286  2.51155641]"
      ]
     },
     "execution_count": 133,
     "metadata": {},
     "output_type": "execute_result"
    }
   ],
   "source": [
    "state.data['average[Slope]']"
   ]
  },
  {
   "cell_type": "markdown",
   "metadata": {
    "collapsed": false
   },
   "source": [
    "# Blocking"
   ]
  },
  {
   "cell_type": "code",
   "execution_count": 58,
   "metadata": {
    "collapsed": false
   },
   "outputs": [],
   "source": [
    "trajectory = np.genfromtxt('sample-data/pure-opc/series-0.dat')"
   ]
  },
  {
   "cell_type": "code",
   "execution_count": 62,
   "metadata": {
    "collapsed": false
   },
   "outputs": [
    {
     "name": "stdout",
     "output_type": "stream",
     "text": [
      "[1, 2, 4, 5, 10, 20, 25, 50, 100, 125, 250, 500]\n",
      "[1, 2, 4, 5, 8, 10, 16, 20, 25, 32, 40, 50, 80, 100, 125, 160, 200, 250, 400, 500, 625, 800, 1000, 1250, 2000, 2500, 3125, 4000, 5000, 6250, 10000, 12500, 15625, 20000, 25000, 31250, 50000, 62500, 100000, 125000, 250000, 500000]\n"
     ]
    }
   ],
   "source": [
    "# trajectory = np.random.random(size=10)\n",
    "\n",
    "def factorize(n):    \n",
    "    return sorted(list(set(reduce(list.__add__, \n",
    "                ([i, n//i] for i in range(1, int(n**0.5) + 1) if n % i == 0)))))"
   ]
  },
  {
   "cell_type": "code",
   "execution_count": 117,
   "metadata": {
    "collapsed": false,
    "scrolled": true
   },
   "outputs": [],
   "source": [
    "def blocking_analysis(blocks, trajectory):\n",
    "    mean_for_each_block_size = np.empty((len(blocks)))\n",
    "    sem_for_each_block_size = np.empty((len(blocks)))\n",
    "    sem_error_for_each_block_size = np.empty((len(blocks)))\n",
    "    for block_size in blocks:\n",
    "        number_measurements = math.floor(len(trajectory) / block_size)\n",
    "        # Loop over all blocks of the same size...\n",
    "        mean_for_each_block = np.empty((number_measurements))\n",
    "        for block in range(number_measurements):\n",
    "            mean_for_each_block[block] = np.mean(trajectory[block * block_size: block * block_size + block_size])\n",
    "\n",
    "        # mean_for_each_block_size[blocks.index(block_size)] = np.mean(mean_for_each_block)\n",
    "        sem_for_each_block_size[blocks.index(block_size)] = stats.sem(mean_for_each_block)\n",
    "        sem_error_for_each_block_size[blocks.index(block_size)] = sem_for_each_block_size[blocks.index(block_size)] / np.sqrt(2 * (number_measurements - 1))\n",
    "    return sem_for_each_block_size, sem_error_for_each_block_size"
   ]
  },
  {
   "cell_type": "code",
   "execution_count": null,
   "metadata": {
    "collapsed": true
   },
   "outputs": [],
   "source": [
    "blocks = factorize(len(trajectory))\n",
    "sem, sem_error = blocking_analysis(blocks, trajectory)"
   ]
  },
  {
   "cell_type": "code",
   "execution_count": 57,
   "metadata": {
    "collapsed": false
   },
   "outputs": [
    {
     "data": {
      "image/png": "[encoded data removed]",
      "text/plain": [
       "<matplotlib.figure.Figure at 0x7fa9441e0208>"
      ]
     },
     "metadata": {},
     "output_type": "display_data"
    }
   ],
   "source": [
    "fig, (ax1) = plt.subplots(1, 1, figsize=(8, 6))\n",
    "# ax1.errorbar(block_sizes, block_averages, yerr=block_sems)\n",
    "ax1.errorbar(block_sizes, block_averages)\n",
    "ax1.set_xscale('log')\n",
    "y_formatter = mpl.ticker.ScalarFormatter(useOffset=False)\n",
    "ax1.yaxis.set_major_formatter(y_formatter)"
   ]
  },
  {
   "cell_type": "markdown",
   "metadata": {},
   "source": [
    "# Parmed inside optimization loop..."
   ]
  },
  {
   "cell_type": "markdown",
   "metadata": {},
   "source": [
    "# Let's test with `mdtraj`"
   ]
  },
  {
   "cell_type": "code",
   "execution_count": 26,
   "metadata": {
    "collapsed": true
   },
   "outputs": [],
   "source": [
    "import mdtraj as md"
   ]
  },
  {
   "cell_type": "code",
   "execution_count": 30,
   "metadata": {
    "collapsed": false
   },
   "outputs": [],
   "source": [
    "trajectory = md.load_netcdf(simulation_directory+trajectory_files, top=simulation_directory+'full.prmtop')"
   ]
  },
  {
   "cell_type": "code",
   "execution_count": 31,
   "metadata": {
    "collapsed": false
   },
   "outputs": [
    {
     "data": {
      "text/plain": [
       "<mdtraj.Trajectory with 100 frames, 9000 atoms, 1000 residues, and unitcells at 0x7f17c49078d0>"
      ]
     },
     "execution_count": 31,
     "metadata": {},
     "output_type": "execute_result"
    }
   ],
   "source": [
    "trajectory"
   ]
  },
  {
   "cell_type": "code",
   "execution_count": 33,
   "metadata": {
    "collapsed": false
   },
   "outputs": [
    {
     "data": {
      "text/plain": [
       "9.016185464312506e-05"
      ]
     },
     "execution_count": 33,
     "metadata": {},
     "output_type": "execute_result"
    }
   ],
   "source": [
    "md.isothermal_compressability_kappa_T(trajectory, 300)"
   ]
  },
  {
   "cell_type": "code",
   "execution_count": 36,
   "metadata": {
    "collapsed": false
   },
   "outputs": [
    {
     "name": "stdout",
     "output_type": "stream",
     "text": [
      "788.045\n",
      "0.489128446579\n"
     ]
    }
   ],
   "source": [
    "print(np.mean(md.density(trajectory)))\n",
    "print(stats.sem(md.density(trajectory)))\n"
   ]
  },
  {
   "cell_type": "code",
   "execution_count": 37,
   "metadata": {
    "collapsed": false
   },
   "outputs": [
    {
     "ename": "AttributeError",
     "evalue": "'Trajectory' object has no attribute 'select'",
     "output_type": "error",
     "traceback": [
      "\u001b[1;31m---------------------------------------------------------------------------\u001b[0m",
      "\u001b[1;31mAttributeError\u001b[0m                            Traceback (most recent call last)",
      "\u001b[1;32m<ipython-input-37-a2ad181c955d>\u001b[0m in \u001b[0;36m<module>\u001b[1;34m()\u001b[0m\n\u001b[1;32m----> 1\u001b[1;33m \u001b[0mtrajectory\u001b[0m\u001b[1;33m.\u001b[0m\u001b[0mselect\u001b[0m\u001b[1;33m(\u001b[0m\u001b[1;34m'water'\u001b[0m\u001b[1;33m)\u001b[0m\u001b[1;33m\u001b[0m\u001b[0m\n\u001b[0m",
      "\u001b[1;31mAttributeError\u001b[0m: 'Trajectory' object has no attribute 'select'"
     ]
    }
   ],
   "source": [
    "trajectory.select('water')"
   ]
  },
  {
   "cell_type": "code",
   "execution_count": null,
   "metadata": {
    "collapsed": true
   },
   "outputs": [],
   "source": [
    "experimental = dict()\n",
    "residues_names = ['eth', 'mth']\n",
    "for residue_name in residues_names:\n",
    "    if residue_name not in experimental:\n",
    "        experimental[residue_name] = {}\n",
    "    experimental[residue_name]['density'] = 2.0"
   ]
  }
 ],
 "metadata": {
  "anaconda-cloud": {},
  "kernelspec": {
   "display_name": "Python [Root]",
   "language": "python",
   "name": "Python [Root]"
  },
  "language_info": {
   "codemirror_mode": {
    "name": "ipython",
    "version": 3
   },
   "file_extension": ".py",
   "mimetype": "text/x-python",
   "name": "python",
   "nbconvert_exporter": "python",
   "pygments_lexer": "ipython3",
   "version": "3.5.1"
  }
 },
 "nbformat": 4,
 "nbformat_minor": 0
}

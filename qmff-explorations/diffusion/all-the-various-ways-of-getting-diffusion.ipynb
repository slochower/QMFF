{
 "cells": [
  {
   "cell_type": "code",
   "execution_count": 1,
   "metadata": {
    "collapsed": true
   },
   "outputs": [],
   "source": [
    "import os as os\n",
    "import sys as sys\n",
    "import subprocess as sp\n",
    "import glob as glob\n",
    "import math as math\n",
    "import numpy as np\n",
    "import scipy as sc\n",
    "import subprocess as subprocess\n",
    "import matplotlib as mpl\n",
    "import matplotlib.pyplot as plt\n",
    "\n",
    "from numpy import genfromtxt\n",
    "from scipy import stats\n",
    "from functools import reduce\n",
    "\n",
    "from aesthetics import *\n",
    "\n",
    "import pytraj as pt"
   ]
  },
  {
   "cell_type": "code",
   "execution_count": 2,
   "metadata": {
    "collapsed": true
   },
   "outputs": [],
   "source": [
    "%matplotlib inline"
   ]
  },
  {
   "cell_type": "markdown",
   "metadata": {},
   "source": [
    "# Run `cpptraj` directly"
   ]
  },
  {
   "cell_type": "code",
   "execution_count": 3,
   "metadata": {
    "collapsed": false
   },
   "outputs": [],
   "source": [
    "cpptraj_input = '''\n",
    "parm sample-data/pure-opc/full.topo\n",
    "trajin sample-data/pure-opc/traj.001\n",
    "unwrap\n",
    "diffusion average 10\n",
    "'''"
   ]
  },
  {
   "cell_type": "code",
   "execution_count": 4,
   "metadata": {
    "collapsed": true
   },
   "outputs": [],
   "source": [
    "file = open('cpptraj.in', 'w')\n",
    "file.write(cpptraj_input)\n",
    "file.close()"
   ]
  },
  {
   "cell_type": "code",
   "execution_count": 5,
   "metadata": {
    "collapsed": true
   },
   "outputs": [],
   "source": [
    "import subprocess as sp"
   ]
  },
  {
   "cell_type": "code",
   "execution_count": 6,
   "metadata": {
    "collapsed": false
   },
   "outputs": [
    {
     "data": {
      "text/plain": [
       "b'\\nCPPTRAJ: Trajectory Analysis. V15.00\\n    ___  ___  ___  ___\\n     | \\\\/ | \\\\/ | \\\\/ | \\n    _|_/\\\\_|_/\\\\_|_/\\\\_|_\\n\\n| Date/time: 08/02/16  15:21:29\\n| Available memory: 4946.67 MB\\n\\nINPUT: Reading Input from file cpptraj.in\\n  [parm sample-data/pure-opc/full.topo]\\n\\tReading \\'sample-data/pure-opc/full.topo\\' as Amber Topology\\n  [trajin sample-data/pure-opc/traj.001]\\n\\tReading \\'sample-data/pure-opc/traj.001\\' as Amber NetCDF\\n  [unwrap]\\n    UNWRAP: By atom using mask \\'*\\'\\n\\tReference is first frame.\\n  [diffusion average 10]\\n    DIFFUSION:\\n\\tAtom Mask is [*]\\n\\tOnly the average results will be printed to:\\n\\t  diffusion_x.xmgr: Mean square displacement(s) in the X direction (in \\xc3\\x85^2).\\n\\t  diffusion_y.xmgr: Mean square displacement(s) in the Y direction (in \\xc3\\x85^2).\\n\\t  diffusion_z.xmgr: Mean square displacement(s) in the Z direction (in \\xc3\\x85^2).\\n\\t  diffusion_r.xmgr: Overall mean square displacement(s) (in \\xc3\\x85^2).\\n\\t  diffusion_a.xmgr: Total distance travelled (in \\xc3\\x85).\\n\\tThe time between frames in ps is 10.000.\\n\\tTo calculate diffusion constants from a mean squared displacement plot\\n\\t(i.e. {_x|_y|_z|_r}.xmgr), calculate the slope of the line and multiply\\n\\tby 10.0/6.0; this will give units of 1x10^-5 cm^2/s\\n---------- RUN BEGIN -------------------------------------------------\\n\\nPARAMETER FILES:\\n 0: \\'full.topo\\', 4000 atoms, 1000 res, box: Orthogonal, 1000 mol, 1000 solvent, 100 frames\\n\\nINPUT TRAJECTORIES:\\n 0: \\'traj.001\\' is a NetCDF AMBER trajectory, Parm full.topo (Orthogonal box) (reading 100 of 100)\\n  Coordinate processing will occur on 100 frames.\\nTIME: Run Initialization took 0.0000 seconds.\\n\\nBEGIN TRAJECTORY PROCESSING:\\n.....................................................\\nACTION SETUP FOR PARM \\'full.topo\\' (2 actions):\\n  0: [unwrap]\\n\\tNumber of atoms to be unwrapped is 4000 based on mask \\'*\\'\\n  1: [diffusion average 10]\\n----- traj.001 (1-100, 1) -----\\n 0% 10% 20% 30% 40% 51% 61% 71% 81% 91% 100% Complete.\\n\\nRead 100 frames and processed 100 frames.\\nTIME: Trajectory processing: 0.0294 s\\nTIME: Avg. throughput= 3397.5470 frames / second.\\n\\nACTION OUTPUT:\\n\\nDATAFILES:\\n  diffusion_x.xmgr (X MSD)\\n  diffusion_y.xmgr (Y MSD)\\n  diffusion_z.xmgr (Z MSD)\\n  diffusion_r.xmgr (Overall MSD)\\n  diffusion_a.xmgr (Total Distance)\\n---------- RUN END ---------------------------------------------------\\nTIME: Total execution time: 0.0452 seconds.\\n--------------------------------------------------------------------------------\\nTo cite CPPTRAJ use:\\nDaniel R. Roe and Thomas E. Cheatham, III, \"PTRAJ and CPPTRAJ: Software for\\n  Processing and Analysis of Molecular Dynamics Trajectory Data\". J. Chem.\\n  Theory Comput., 2013, 9 (7), pp 3084-3095.\\n\\n'"
      ]
     },
     "execution_count": 6,
     "metadata": {},
     "output_type": "execute_result"
    }
   ],
   "source": [
    "sp.check_output([\"/home/dslochower/amber14gnu/bin/cpptraj -i cpptraj.in\"], shell=True)"
   ]
  },
  {
   "cell_type": "code",
   "execution_count": 7,
   "metadata": {
    "collapsed": false
   },
   "outputs": [
    {
     "data": {
      "image/png": "[encoded data removed]",
      "text/plain": [
       "<matplotlib.figure.Figure at 0x7f6ba22c74e0>"
      ]
     },
     "metadata": {},
     "output_type": "display_data"
    }
   ],
   "source": [
    "data = np.genfromtxt('diffusion_r.xmgr')\n",
    "times = data[:, 0]\n",
    "msd  = data[:, 1]\n",
    "plt.figure()\n",
    "plt.plot(times, msd, c='b', lw=2)\n",
    "plt.xlabel('Time (ps)')\n",
    "plt.ylabel('MSD')\n",
    "plt.show()"
   ]
  },
  {
   "cell_type": "markdown",
   "metadata": {},
   "source": [
    "# Read data from `cpptraj` directly."
   ]
  },
  {
   "cell_type": "code",
   "execution_count": 8,
   "metadata": {
    "collapsed": false
   },
   "outputs": [],
   "source": [
    "data = np.genfromtxt('sample-data/pure-opc/diffusion_r.xmgr')\n",
    "times = data[:, 0]\n",
    "msd  = data[:, 1]"
   ]
  },
  {
   "cell_type": "code",
   "execution_count": 9,
   "metadata": {
    "collapsed": false
   },
   "outputs": [
    {
     "data": {
      "image/png": "[encoded data removed]",
      "text/plain": [
       "<matplotlib.figure.Figure at 0x7f6ba22590b8>"
      ]
     },
     "metadata": {},
     "output_type": "display_data"
    }
   ],
   "source": [
    "plt.figure()\n",
    "plt.plot(times, msd, c='b', lw=2)\n",
    "plt.xlabel('Time (ps)')\n",
    "plt.ylabel('MSD')\n",
    "plt.show()"
   ]
  },
  {
   "cell_type": "markdown",
   "metadata": {},
   "source": [
    "The output of `cpptraj` says:\n",
    ">\tThe time between frames in ps is 10.000.\n",
    ">\tTo calculate diffusion constants from a mean squared displacement plot\n",
    ">\t(i.e. {_x|_y|_z|_r}.xmgr), calculate the slope of the line and multiply\n",
    ">\tby 10.0/6.0; this will give units of 1x10^-5 cm^2/s"
   ]
  },
  {
   "cell_type": "code",
   "execution_count": 10,
   "metadata": {
    "collapsed": false,
    "scrolled": true
   },
   "outputs": [
    {
     "name": "stdout",
     "output_type": "stream",
     "text": [
      "The slope of the MSD plot is 1.259354081632653 A**2 per ps\n",
      "This equals 2.098923469387755 $\\times 10^{-5}$ cm**2 per second\n"
     ]
    }
   ],
   "source": [
    "slope = (msd[-1] - msd[0]) / (times[-1] - times[0])\n",
    "print('The slope of the MSD plot is {} A**2 per ps'.format(slope))\n",
    "print(r'This equals {} $\\times 10^{{-5}}$ cm**2 per second'.format(10.0/6.0 * slope))"
   ]
  },
  {
   "cell_type": "markdown",
   "metadata": {},
   "source": [
    "# Run `cpptraj` through python"
   ]
  },
  {
   "cell_type": "code",
   "execution_count": 23,
   "metadata": {
    "collapsed": true
   },
   "outputs": [],
   "source": [
    "text = \"\"\"\n",
    "unwrap\n",
    "diffusion average 10\n",
    "\"\"\""
   ]
  },
  {
   "cell_type": "code",
   "execution_count": 24,
   "metadata": {
    "collapsed": true
   },
   "outputs": [],
   "source": [
    "traj = pt.iterload('sample-data/pure-opc/traj.001', 'sample-data/pure-opc/full.topo')"
   ]
  },
  {
   "cell_type": "code",
   "execution_count": 25,
   "metadata": {
    "collapsed": false
   },
   "outputs": [
    {
     "data": {
      "text/plain": [
       "CpptrajState, include:\n",
       "<datasetlist: 11 datasets>"
      ]
     },
     "execution_count": 25,
     "metadata": {},
     "output_type": "execute_result"
    }
   ],
   "source": [
    "state = pt.load_cpptraj_state(text, traj)\n",
    "state.run()"
   ]
  },
  {
   "cell_type": "code",
   "execution_count": 26,
   "metadata": {
    "collapsed": false
   },
   "outputs": [
    {
     "data": {
      "text/plain": [
       "['full.topo',\n",
       " 'average[X]',\n",
       " 'average[Y]',\n",
       " 'average[Z]',\n",
       " 'average[R]',\n",
       " 'average[A]',\n",
       " 'average[D]',\n",
       " 'average[Label]',\n",
       " 'average[Slope]',\n",
       " 'average[Intercept]',\n",
       " 'average[Corr]']"
      ]
     },
     "execution_count": 26,
     "metadata": {},
     "output_type": "execute_result"
    }
   ],
   "source": [
    "state.data.keys()"
   ]
  },
  {
   "cell_type": "code",
   "execution_count": 27,
   "metadata": {
    "collapsed": false,
    "scrolled": true
   },
   "outputs": [
    {
     "data": {
      "text/plain": [
       "<pytraj.datasets.DatasetString: size=4, key=average[Label]> \n",
       "values: \n",
       "['average_AvgDr' 'average_AvgDx' 'average_AvgDy' 'average_AvgDz']"
      ]
     },
     "execution_count": 27,
     "metadata": {},
     "output_type": "execute_result"
    }
   ],
   "source": [
    "state.data['average[Label]']"
   ]
  },
  {
   "cell_type": "code",
   "execution_count": 28,
   "metadata": {
    "collapsed": false
   },
   "outputs": [
    {
     "data": {
      "text/plain": [
       "<pytraj.datasets.DatasetDouble: size=4, key=average[Slope]> \n",
       "values: \n",
       "[ 12.65209011   4.24151462   3.92319491   4.48738058]"
      ]
     },
     "execution_count": 28,
     "metadata": {},
     "output_type": "execute_result"
    }
   ],
   "source": [
    "state.data['average[Slope]']"
   ]
  },
  {
   "cell_type": "code",
   "execution_count": 29,
   "metadata": {
    "collapsed": false
   },
   "outputs": [
    {
     "data": {
      "image/png": "[encoded data removed]",
      "text/plain": [
       "<matplotlib.figure.Figure at 0x7fe16f631128>"
      ]
     },
     "metadata": {},
     "output_type": "display_data"
    }
   ],
   "source": [
    "plt.figure()\n",
    "plt.plot(range(len(state.data['average[R]'])), state.data['average[R]'], c='b', lw=2)\n",
    "plt.xlabel('Timestep')\n",
    "plt.ylabel('MSD')\n",
    "plt.title('$\\gamma$')\n",
    "plt.show()"
   ]
  },
  {
   "cell_type": "markdown",
   "metadata": {},
   "source": [
    "# Run `pytraj` directly"
   ]
  },
  {
   "cell_type": "code",
   "execution_count": 36,
   "metadata": {
    "collapsed": true
   },
   "outputs": [],
   "source": [
    "traj = pt.iterload('sample-data/pure-opc/traj.001', 'sample-data/pure-opc/full.topo')"
   ]
  },
  {
   "cell_type": "code",
   "execution_count": 37,
   "metadata": {
    "collapsed": true
   },
   "outputs": [],
   "source": [
    "diffusion = pt.diffusion(traj, tstep=10, dtype='dict')"
   ]
  },
  {
   "cell_type": "code",
   "execution_count": 92,
   "metadata": {
    "collapsed": false
   },
   "outputs": [
    {
     "data": {
      "text/plain": [
       "array([ 1.26312494,  0.42324363,  0.39170921,  0.4481721 ])"
      ]
     },
     "execution_count": 92,
     "metadata": {},
     "output_type": "execute_result"
    }
   ],
   "source": [
    "diffusion['Slope']"
   ]
  },
  {
   "cell_type": "code",
   "execution_count": 326,
   "metadata": {
    "collapsed": false
   },
   "outputs": [
    {
     "data": {
      "text/plain": [
       "<function __main__.diffusion>"
      ]
     },
     "execution_count": 326,
     "metadata": {},
     "output_type": "execute_result"
    }
   ],
   "source": [
    "diffusion"
   ]
  },
  {
   "cell_type": "code",
   "execution_count": 328,
   "metadata": {
    "collapsed": false
   },
   "outputs": [],
   "source": [
    "traj = pt.iterload('sample-data/dave-opc-test/traj.001', 'sample-data/dave-opc-test/full.topo')"
   ]
  },
  {
   "cell_type": "code",
   "execution_count": 329,
   "metadata": {
    "collapsed": true
   },
   "outputs": [],
   "source": [
    "pt_diffusion = pt.diffusion(traj, tstep=2, dtype='dict')"
   ]
  },
  {
   "cell_type": "code",
   "execution_count": 331,
   "metadata": {
    "collapsed": false
   },
   "outputs": [
    {
     "data": {
      "text/plain": [
       "array([ 1.96563044,  0.65052426,  0.65908333,  0.65602285])"
      ]
     },
     "execution_count": 331,
     "metadata": {},
     "output_type": "execute_result"
    }
   ],
   "source": [
    "pt_diffusion['Slope'] * 10.0/6.0"
   ]
  },
  {
   "cell_type": "markdown",
   "metadata": {
    "collapsed": true
   },
   "source": [
    "# Let's try `mdanalysis`"
   ]
  },
  {
   "cell_type": "code",
   "execution_count": 68,
   "metadata": {
    "collapsed": false
   },
   "outputs": [
    {
     "name": "stderr",
     "output_type": "stream",
     "text": [
      "/home/dslochower/anaconda3/lib/python3.5/site-packages/MDAnalysis/__init__.py:190: UserWarning: #####\n",
      "MDAnalysis on python 3 is highly experimental!\n",
      "It is mostly non functional and dramatically untested.\n",
      "Use at your own risks!!!\n",
      "\n",
      "  ''')\n"
     ]
    }
   ],
   "source": [
    "import MDAnalysis"
   ]
  },
  {
   "cell_type": "code",
   "execution_count": 3,
   "metadata": {
    "collapsed": false
   },
   "outputs": [],
   "source": [
    "def diffusion(topology, trajectory, ps_per_frame, fit=True, plot=False):\n",
    "    cpptraj_input = '''\n",
    "    parm {}\n",
    "    trajin {}\n",
    "    unwrap\n",
    "    diffusion average {}\n",
    "    '''.format(topology, trajectory, ps_per_frame)\n",
    "    file = open('diffusion.in', 'w')\n",
    "    file.write(cpptraj_input)\n",
    "    file.close()\n",
    "    # sp.check_output(['echo $AMBERHOME'], env=dict(os.environ), shell=True)\n",
    "    sp.check_output([\"$AMBERHOME/bin/cpptraj -i diffusion.in\"], env=dict(os.environ), shell=True)\n",
    "    # sp.check_output(['mv', 'cpptraj.log', 'diffusion.log'])\n",
    "    # Make a cleanup script. Check if this has run correctly...\n",
    "    data = np.genfromtxt('diffusion_r.xmgr')\n",
    "    times = data[:, 0]\n",
    "    msd  = data[:, 1]\n",
    "    if not fit:\n",
    "        slope = (msd[-1] - msd[0]) / (times[-1] - times[0])\n",
    "    else:\n",
    "        middle_eighty = np.arange(int(0.1*len(times)), int(0.9*len(times)))\n",
    "        slope, intercept, r_value, p_value, std_err = sc.stats.linregress(times[middle_eighty], msd[middle_eighty])\n",
    "    D = 10.0/6.0 * slope\n",
    "    print(r'The diffusion coefficient is {} $\\times 10^{{-5}}$ cm$^2$/s.'.format(D))\n",
    "    \n",
    "    if plot:\n",
    "        fig, ax = plt.subplots()\n",
    "        ax.plot(times, msd, c='b', lw=2)\n",
    "        ax.plot(times, slope * times + intercept, c='r', ls='--', lw=2)\n",
    "        ax.set_title(r'Slope = {0:0.2f} $\\mathrm{{\\AA}}^2$/ps, D = {1:0.2f} $\\times 10^{{-5}}$ cm$^2$/s'.format(slope, D))\n",
    "        pretty_label(ax)\n",
    "        plt.show()\n",
    "    return D"
   ]
  },
  {
   "cell_type": "code",
   "execution_count": 293,
   "metadata": {
    "collapsed": true
   },
   "outputs": [],
   "source": [
    "def difference_from_experiment(computed, experimental):\n",
    "    assert len(computed) == len(experimental)\n",
    "    for property in computed:\n",
    "        computed[property] - experimental[property]"
   ]
  },
  {
   "cell_type": "code",
   "execution_count": 59,
   "metadata": {
    "collapsed": false
   },
   "outputs": [
    {
     "name": "stdout",
     "output_type": "stream",
     "text": [
      "The diffusion coefficient is 2.1087335209235207 $\\times 10^{-5}$ cm$^2$/s.\n"
     ]
    }
   ],
   "source": [
    "diffusion('sample-data/pure-opc/full.topo', 'sample-data/pure-opc/traj.001', 10)"
   ]
  },
  {
   "cell_type": "code",
   "execution_count": 49,
   "metadata": {
    "collapsed": false
   },
   "outputs": [
    {
     "name": "stdout",
     "output_type": "stream",
     "text": [
      "The diffusion coefficient is 2.150264766027623 $\\times 10^{-5}$ cm$^2$/s.\n"
     ]
    }
   ],
   "source": [
    "diffusion('sample-data/pure-opc-2/full.topo', 'sample-data/pure-opc-2/traj.001', 10)"
   ]
  },
  {
   "cell_type": "code",
   "execution_count": 50,
   "metadata": {
    "collapsed": false
   },
   "outputs": [
    {
     "name": "stdout",
     "output_type": "stream",
     "text": [
      "The diffusion coefficient is 2.2530296021438883 $\\times 10^{-5}$ cm$^2$/s.\n"
     ]
    }
   ],
   "source": [
    "diffusion('sample-data/pure-opc-3/full.topo', 'sample-data/pure-opc-3/traj.001', 10)"
   ]
  },
  {
   "cell_type": "code",
   "execution_count": 51,
   "metadata": {
    "collapsed": false
   },
   "outputs": [
    {
     "name": "stdout",
     "output_type": "stream",
     "text": [
      "The diffusion coefficient is 2.063848111729541 $\\times 10^{-5}$ cm$^2$/s.\n"
     ]
    }
   ],
   "source": [
    "diffusion('sample-data/pure-opc-4/full.topo', 'sample-data/pure-opc-4/traj.001', 10)"
   ]
  },
  {
   "cell_type": "code",
   "execution_count": 53,
   "metadata": {
    "collapsed": false
   },
   "outputs": [
    {
     "name": "stdout",
     "output_type": "stream",
     "text": [
      "The diffusion coefficient is 2.0791517212945783 $\\times 10^{-5}$ cm$^2$/s.\n"
     ]
    }
   ],
   "source": [
    "diffusion('sample-data/pure-opc-5/full.topo', 'sample-data/pure-opc-5/traj.001', 10)"
   ]
  },
  {
   "cell_type": "code",
   "execution_count": 298,
   "metadata": {
    "collapsed": false
   },
   "outputs": [
    {
     "name": "stdout",
     "output_type": "stream",
     "text": [
      "The diffusion coefficient is 2.2670198292701986 $\\times 10^{-5}$ cm$^2$/s.\n"
     ]
    },
    {
     "data": {
      "image/png": "[encoded data removed]",
      "text/plain": [
       "<matplotlib.figure.Figure at 0x7f6b64c3fa90>"
      ]
     },
     "metadata": {},
     "output_type": "display_data"
    }
   ],
   "source": [
    "diffusion('sample-data/pure-opc-6/full.topo', 'sample-data/pure-opc-6/traj.001', 10, plot=True)"
   ]
  },
  {
   "cell_type": "markdown",
   "metadata": {},
   "source": [
    "### Samples are taken every 2 ps."
   ]
  },
  {
   "cell_type": "code",
   "execution_count": 308,
   "metadata": {
    "collapsed": false
   },
   "outputs": [
    {
     "name": "stdout",
     "output_type": "stream",
     "text": [
      "The diffusion coefficient is 1.9797317992777583 $\\times 10^{-5}$ cm$^2$/s.\n"
     ]
    },
    {
     "data": {
      "image/png": "[encoded data removed]",
      "text/plain": [
       "<matplotlib.figure.Figure at 0x7f6b6855a400>"
      ]
     },
     "metadata": {},
     "output_type": "display_data"
    }
   ],
   "source": [
    "diffusion('sample-data/dave-opc-test/full.topo', 'sample-data/dave-opc-test/traj.001', 2, plot=True)"
   ]
  },
  {
   "cell_type": "code",
   "execution_count": 309,
   "metadata": {
    "collapsed": false
   },
   "outputs": [],
   "source": [
    "def blocking_analysis(blocks, trajectory):\n",
    "    mean_for_each_block_size = np.empty((len(blocks)))\n",
    "    sem_for_each_block_size = np.empty((len(blocks)))\n",
    "    sem_error_for_each_block_size = np.empty((len(blocks)))\n",
    "    for block_size in blocks:\n",
    "        number_measurements = math.floor(len(trajectory) / block_size)\n",
    "        # Loop over all blocks of the same size...\n",
    "        mean_for_each_block = np.empty((number_measurements))\n",
    "        for block in range(number_measurements):\n",
    "            mean_for_each_block[block] = analysis(trajectory, block * block_size, \n",
    "                                                          block * block_size + block_size, \n",
    "                                                          block_size)\n",
    "        sem_for_each_block_size[blocks.index(block_size)] = stats.sem(mean_for_each_block)\n",
    "        sem_error_for_each_block_size[blocks.index(block_size)] = sem_for_each_block_size[blocks.index(block_size)] / np.sqrt(2 * (number_measurements - 1))\n",
    "        mean_for_each_block_size[blocks.index(block_size)] = np.mean(mean_for_each_block)\n",
    "    return sem_for_each_block_size, sem_error_for_each_block_size, mean_for_each_block_size"
   ]
  },
  {
   "cell_type": "code",
   "execution_count": 310,
   "metadata": {
    "collapsed": true
   },
   "outputs": [],
   "source": [
    "def analysis(trajectory, tj_start, tj_stop, block_length):\n",
    "    slope = (trajectory[tj_stop] - trajectory[tj_start]) / (2 * block_length) # Factor of 2 is for 2 ps\n",
    "    return slope"
   ]
  },
  {
   "cell_type": "code",
   "execution_count": 311,
   "metadata": {
    "collapsed": false
   },
   "outputs": [],
   "source": [
    "    cpptraj_input = '''\n",
    "    parm sample-data/dave-opc-test/full.topo\n",
    "    trajin sample-data/dave-opc-test/traj.001\n",
    "    unwrap\n",
    "    diffusion average 2\n",
    "    '''\n",
    "    file = open('diffusion.in', 'w')\n",
    "    file.write(cpptraj_input)\n",
    "    file.close()\n",
    "    # sp.check_output(['echo $AMBERHOME'], env=dict(os.environ), shell=True)\n",
    "    sp.check_output([\"$AMBERHOME/bin/cpptraj -i diffusion.in\"], env=dict(os.environ), shell=True)\n",
    "    # sp.check_output(['mv', 'cpptraj.log', 'diffusion.log'])\n",
    "    # Make a cleanup script. Check if this has run correctly...\n",
    "    data = np.genfromtxt('diffusion_r.xmgr')\n",
    "    times = data[:, 0]\n",
    "    msd  = data[:, 1]\n"
   ]
  },
  {
   "cell_type": "code",
   "execution_count": 323,
   "metadata": {
    "collapsed": false
   },
   "outputs": [
    {
     "data": {
      "text/plain": [
       "[1, 49999]"
      ]
     },
     "execution_count": 323,
     "metadata": {},
     "output_type": "execute_result"
    }
   ],
   "source": [
    "blocks = list(np.arange(2, 100000, 200))\n",
    "blocks = factorize(len(msd))\n",
    "blocks"
   ]
  },
  {
   "cell_type": "code",
   "execution_count": 325,
   "metadata": {
    "collapsed": false
   },
   "outputs": [
    {
     "data": {
      "text/plain": [
       "49999"
      ]
     },
     "execution_count": 325,
     "metadata": {},
     "output_type": "execute_result"
    }
   ],
   "source": [
    "len(msd)"
   ]
  },
  {
   "cell_type": "code",
   "execution_count": 318,
   "metadata": {
    "collapsed": false,
    "scrolled": true
   },
   "outputs": [
    {
     "name": "stderr",
     "output_type": "stream",
     "text": [
      "/home/dslochower/anaconda3/lib/python3.5/site-packages/numpy/core/_methods.py:82: RuntimeWarning: Degrees of freedom <= 0 for slice\n",
      "  warnings.warn(\"Degrees of freedom <= 0 for slice\", RuntimeWarning)\n",
      "/home/dslochower/anaconda3/lib/python3.5/site-packages/numpy/core/_methods.py:59: RuntimeWarning: Mean of empty slice.\n",
      "  warnings.warn(\"Mean of empty slice.\", RuntimeWarning)\n"
     ]
    }
   ],
   "source": [
    "sem, sem_error, means = blocking_analysis(blocks, msd)"
   ]
  },
  {
   "cell_type": "code",
   "execution_count": 319,
   "metadata": {
    "collapsed": false
   },
   "outputs": [
    {
     "data": {
      "text/plain": [
       "array([ 0.29591887,  0.05938476,  0.05453098, ...,         nan,\n",
       "               nan,         nan])"
      ]
     },
     "execution_count": 319,
     "metadata": {},
     "output_type": "execute_result"
    }
   ],
   "source": [
    "sem"
   ]
  },
  {
   "cell_type": "code",
   "execution_count": 320,
   "metadata": {
    "collapsed": false
   },
   "outputs": [
    {
     "data": {
      "image/png": "[encoded data removed]",
      "text/plain": [
       "<matplotlib.figure.Figure at 0x7f6b67b54a90>"
      ]
     },
     "metadata": {},
     "output_type": "display_data"
    }
   ],
   "source": [
    "plt.figure()\n",
    "plt.plot(blocks, sem)\n",
    "plt.show()"
   ]
  },
  {
   "cell_type": "code",
   "execution_count": 321,
   "metadata": {
    "collapsed": false
   },
   "outputs": [
    {
     "data": {
      "image/png": "[encoded data removed]",
      "text/plain": [
       "<matplotlib.figure.Figure at 0x7f6b69199e80>"
      ]
     },
     "metadata": {},
     "output_type": "display_data"
    }
   ],
   "source": [
    "plt.figure()\n",
    "plt.plot(blocks, means)\n",
    "plt.show()"
   ]
  },
  {
   "cell_type": "code",
   "execution_count": 290,
   "metadata": {
    "collapsed": false
   },
   "outputs": [
    {
     "data": {
      "text/plain": [
       "1.1321586757990865"
      ]
     },
     "execution_count": 290,
     "metadata": {},
     "output_type": "execute_result"
    }
   ],
   "source": [
    "(msd[-1] - msd[0]) / ((times[-1] - times[0]))"
   ]
  },
  {
   "cell_type": "code",
   "execution_count": 284,
   "metadata": {
    "collapsed": false
   },
   "outputs": [
    {
     "data": {
      "text/plain": [
       "8925.9389999999985"
      ]
     },
     "execution_count": 284,
     "metadata": {},
     "output_type": "execute_result"
    }
   ],
   "source": [
    "msd[-1] - msd[0]"
   ]
  },
  {
   "cell_type": "code",
   "execution_count": 39,
   "metadata": {
    "collapsed": false
   },
   "outputs": [],
   "source": [
    "dir = 'sample-data/dave-opc-test4'"
   ]
  },
  {
   "cell_type": "code",
   "execution_count": 40,
   "metadata": {
    "collapsed": false
   },
   "outputs": [],
   "source": [
    "trajectories = sorted(glob.glob(dir + '/traj.nve.*'))\n"
   ]
  },
  {
   "cell_type": "code",
   "execution_count": 41,
   "metadata": {
    "collapsed": false,
    "scrolled": true
   },
   "outputs": [
    {
     "name": "stdout",
     "output_type": "stream",
     "text": [
      "The diffusion coefficient is 2.160169117647059 $\\times 10^{-5}$ cm$^2$/s.\n",
      "The diffusion coefficient is 2.1011985294117648 $\\times 10^{-5}$ cm$^2$/s.\n",
      "The diffusion coefficient is 2.1039901960784313 $\\times 10^{-5}$ cm$^2$/s.\n",
      "The diffusion coefficient is 2.161389705882353 $\\times 10^{-5}$ cm$^2$/s.\n",
      "The diffusion coefficient is 2.591473039215686 $\\times 10^{-5}$ cm$^2$/s.\n",
      "The diffusion coefficient is 2.310156862745098 $\\times 10^{-5}$ cm$^2$/s.\n",
      "The diffusion coefficient is 2.3813651960784314 $\\times 10^{-5}$ cm$^2$/s.\n",
      "The diffusion coefficient is 2.1809779411764705 $\\times 10^{-5}$ cm$^2$/s.\n",
      "The diffusion coefficient is 2.0383897058823526 $\\times 10^{-5}$ cm$^2$/s.\n",
      "The diffusion coefficient is 2.3048774509803924 $\\times 10^{-5}$ cm$^2$/s.\n",
      "The diffusion coefficient is 2.2751911764705883 $\\times 10^{-5}$ cm$^2$/s.\n",
      "The diffusion coefficient is 2.330808823529412 $\\times 10^{-5}$ cm$^2$/s.\n",
      "The diffusion coefficient is 1.9814460784313725 $\\times 10^{-5}$ cm$^2$/s.\n",
      "The diffusion coefficient is 2.3110367647058823 $\\times 10^{-5}$ cm$^2$/s.\n",
      "The diffusion coefficient is 1.9853357843137258 $\\times 10^{-5}$ cm$^2$/s.\n",
      "The diffusion coefficient is 2.15880637254902 $\\times 10^{-5}$ cm$^2$/s.\n",
      "The diffusion coefficient is 2.059026960784314 $\\times 10^{-5}$ cm$^2$/s.\n",
      "The diffusion coefficient is 2.157139705882353 $\\times 10^{-5}$ cm$^2$/s.\n",
      "The diffusion coefficient is 2.378357843137255 $\\times 10^{-5}$ cm$^2$/s.\n",
      "The diffusion coefficient is 2.3269558823529413 $\\times 10^{-5}$ cm$^2$/s.\n",
      "The diffusion coefficient is 2.7607696078431374 $\\times 10^{-5}$ cm$^2$/s.\n",
      "The diffusion coefficient is 2.364617647058824 $\\times 10^{-5}$ cm$^2$/s.\n",
      "The diffusion coefficient is 2.040938725490196 $\\times 10^{-5}$ cm$^2$/s.\n",
      "The diffusion coefficient is 1.9803235294117647 $\\times 10^{-5}$ cm$^2$/s.\n",
      "The diffusion coefficient is 1.9103774509803921 $\\times 10^{-5}$ cm$^2$/s.\n",
      "The diffusion coefficient is 2.134916666666667 $\\times 10^{-5}$ cm$^2$/s.\n",
      "The diffusion coefficient is 2.4592598039215687 $\\times 10^{-5}$ cm$^2$/s.\n",
      "The diffusion coefficient is 2.165757352941177 $\\times 10^{-5}$ cm$^2$/s.\n",
      "The diffusion coefficient is 2.3397401960784316 $\\times 10^{-5}$ cm$^2$/s.\n",
      "The diffusion coefficient is 2.306308823529412 $\\times 10^{-5}$ cm$^2$/s.\n",
      "The diffusion coefficient is 2.2933333333333334 $\\times 10^{-5}$ cm$^2$/s.\n",
      "The diffusion coefficient is 2.8412107843137253 $\\times 10^{-5}$ cm$^2$/s.\n",
      "The diffusion coefficient is 2.3262818627450983 $\\times 10^{-5}$ cm$^2$/s.\n",
      "The diffusion coefficient is 2.0613946078431375 $\\times 10^{-5}$ cm$^2$/s.\n",
      "The diffusion coefficient is 2.495870098039216 $\\times 10^{-5}$ cm$^2$/s.\n",
      "The diffusion coefficient is 2.1057034313725493 $\\times 10^{-5}$ cm$^2$/s.\n",
      "The diffusion coefficient is 2.2347205882352945 $\\times 10^{-5}$ cm$^2$/s.\n",
      "The diffusion coefficient is 2.249821078431373 $\\times 10^{-5}$ cm$^2$/s.\n",
      "The diffusion coefficient is 2.1034240196078438 $\\times 10^{-5}$ cm$^2$/s.\n",
      "The diffusion coefficient is 1.97875 $\\times 10^{-5}$ cm$^2$/s.\n",
      "The diffusion coefficient is 2.5070073529411765 $\\times 10^{-5}$ cm$^2$/s.\n",
      "The diffusion coefficient is 2.1818995098039218 $\\times 10^{-5}$ cm$^2$/s.\n",
      "The diffusion coefficient is 2.122058823529412 $\\times 10^{-5}$ cm$^2$/s.\n",
      "The diffusion coefficient is 2.005879901960784 $\\times 10^{-5}$ cm$^2$/s.\n",
      "The diffusion coefficient is 2.2050563725490195 $\\times 10^{-5}$ cm$^2$/s.\n",
      "The diffusion coefficient is 2.0741789215686275 $\\times 10^{-5}$ cm$^2$/s.\n",
      "The diffusion coefficient is 1.950183823529412 $\\times 10^{-5}$ cm$^2$/s.\n",
      "The diffusion coefficient is 2.254492647058824 $\\times 10^{-5}$ cm$^2$/s.\n",
      "The diffusion coefficient is 2.052598039215687 $\\times 10^{-5}$ cm$^2$/s.\n",
      "The diffusion coefficient is 2.008026960784314 $\\times 10^{-5}$ cm$^2$/s.\n",
      "The diffusion coefficient is 2.4475171568627454 $\\times 10^{-5}$ cm$^2$/s.\n",
      "The diffusion coefficient is 2.3620318627450985 $\\times 10^{-5}$ cm$^2$/s.\n",
      "The diffusion coefficient is 2.168247549019608 $\\times 10^{-5}$ cm$^2$/s.\n",
      "The diffusion coefficient is 2.2324509803921573 $\\times 10^{-5}$ cm$^2$/s.\n",
      "The diffusion coefficient is 2.44734068627451 $\\times 10^{-5}$ cm$^2$/s.\n",
      "The diffusion coefficient is 2.431085784313726 $\\times 10^{-5}$ cm$^2$/s.\n",
      "The diffusion coefficient is 2.1647818627450985 $\\times 10^{-5}$ cm$^2$/s.\n",
      "The diffusion coefficient is 2.2110098039215687 $\\times 10^{-5}$ cm$^2$/s.\n",
      "The diffusion coefficient is 2.143404411764706 $\\times 10^{-5}$ cm$^2$/s.\n",
      "The diffusion coefficient is 2.0756004901960785 $\\times 10^{-5}$ cm$^2$/s.\n",
      "The diffusion coefficient is 1.9516176470588236 $\\times 10^{-5}$ cm$^2$/s.\n",
      "The diffusion coefficient is 2.299107843137255 $\\times 10^{-5}$ cm$^2$/s.\n",
      "The diffusion coefficient is 2.159463235294118 $\\times 10^{-5}$ cm$^2$/s.\n",
      "The diffusion coefficient is 2.3134117647058825 $\\times 10^{-5}$ cm$^2$/s.\n",
      "The diffusion coefficient is 1.98978431372549 $\\times 10^{-5}$ cm$^2$/s.\n",
      "The diffusion coefficient is 2.228203431372549 $\\times 10^{-5}$ cm$^2$/s.\n",
      "The diffusion coefficient is 2.426549019607843 $\\times 10^{-5}$ cm$^2$/s.\n",
      "The diffusion coefficient is 2.2696936274509807 $\\times 10^{-5}$ cm$^2$/s.\n",
      "The diffusion coefficient is 2.585473039215686 $\\times 10^{-5}$ cm$^2$/s.\n",
      "The diffusion coefficient is 2.310865196078432 $\\times 10^{-5}$ cm$^2$/s.\n",
      "The diffusion coefficient is 1.9325049019607843 $\\times 10^{-5}$ cm$^2$/s.\n",
      "The diffusion coefficient is 2.1077132352941175 $\\times 10^{-5}$ cm$^2$/s.\n",
      "The diffusion coefficient is 1.8927132352941176 $\\times 10^{-5}$ cm$^2$/s.\n",
      "The diffusion coefficient is 2.046213235294118 $\\times 10^{-5}$ cm$^2$/s.\n",
      "The diffusion coefficient is 2.099343137254902 $\\times 10^{-5}$ cm$^2$/s.\n",
      "The diffusion coefficient is 2.223372549019608 $\\times 10^{-5}$ cm$^2$/s.\n",
      "The diffusion coefficient is 2.6858112745098044 $\\times 10^{-5}$ cm$^2$/s.\n",
      "The diffusion coefficient is 2.473254901960784 $\\times 10^{-5}$ cm$^2$/s.\n",
      "The diffusion coefficient is 2.081781862745098 $\\times 10^{-5}$ cm$^2$/s.\n",
      "The diffusion coefficient is 2.0223848039215686 $\\times 10^{-5}$ cm$^2$/s.\n",
      "The diffusion coefficient is 2.010963235294118 $\\times 10^{-5}$ cm$^2$/s.\n",
      "The diffusion coefficient is 2.139232843137255 $\\times 10^{-5}$ cm$^2$/s.\n",
      "The diffusion coefficient is 2.3249264705882355 $\\times 10^{-5}$ cm$^2$/s.\n",
      "The diffusion coefficient is 2.306058823529412 $\\times 10^{-5}$ cm$^2$/s.\n",
      "The diffusion coefficient is 2.073450980392157 $\\times 10^{-5}$ cm$^2$/s.\n",
      "The diffusion coefficient is 2.018058823529412 $\\times 10^{-5}$ cm$^2$/s.\n",
      "The diffusion coefficient is 2.177019607843137 $\\times 10^{-5}$ cm$^2$/s.\n",
      "The diffusion coefficient is 2.0401593137254905 $\\times 10^{-5}$ cm$^2$/s.\n",
      "The diffusion coefficient is 2.2708039215686275 $\\times 10^{-5}$ cm$^2$/s.\n",
      "The diffusion coefficient is 2.443154411764706 $\\times 10^{-5}$ cm$^2$/s.\n",
      "The diffusion coefficient is 2.4185882352941173 $\\times 10^{-5}$ cm$^2$/s.\n",
      "The diffusion coefficient is 2.0022745098039216 $\\times 10^{-5}$ cm$^2$/s.\n",
      "The diffusion coefficient is 2.4656446078431378 $\\times 10^{-5}$ cm$^2$/s.\n",
      "The diffusion coefficient is 2.2854166666666664 $\\times 10^{-5}$ cm$^2$/s.\n",
      "The diffusion coefficient is 2.2595563725490195 $\\times 10^{-5}$ cm$^2$/s.\n",
      "The diffusion coefficient is 2.3700980392156863 $\\times 10^{-5}$ cm$^2$/s.\n",
      "The diffusion coefficient is 2.300529411764706 $\\times 10^{-5}$ cm$^2$/s.\n",
      "The diffusion coefficient is 2.3029411764705885 $\\times 10^{-5}$ cm$^2$/s.\n",
      "The diffusion coefficient is 2.4290073529411766 $\\times 10^{-5}$ cm$^2$/s.\n",
      "The diffusion coefficient is 2.417389705882353 $\\times 10^{-5}$ cm$^2$/s.\n",
      "The diffusion coefficient is 2.3039117647058824 $\\times 10^{-5}$ cm$^2$/s.\n"
     ]
    }
   ],
   "source": [
    "Ds = np.empty((len(trajectories)))\n",
    "for trajectory in trajectories:\n",
    "    # diffusion(dir + '/full.topo', trajectory, 1 )\n",
    "    # print('Trajectory {} out of {}'.format(trajectories.index(trajectory), len(trajectories)))\n",
    "    Ds[trajectories.index(trajectory)] = diffusion('sample-data/dave-opc-test/full.topo', trajectory, 1, plot=False)"
   ]
  },
  {
   "cell_type": "code",
   "execution_count": 42,
   "metadata": {
    "collapsed": false
   },
   "outputs": [
    {
     "data": {
      "text/plain": [
       "array([ 2.16016912,  2.10119853,  2.1039902 , ...,  2.42900735,\n",
       "        2.41738971,  2.30391176])"
      ]
     },
     "execution_count": 42,
     "metadata": {},
     "output_type": "execute_result"
    }
   ],
   "source": [
    "Ds"
   ]
  },
  {
   "cell_type": "code",
   "execution_count": 43,
   "metadata": {
    "collapsed": false
   },
   "outputs": [
    {
     "data": {
      "image/png": "[encoded data removed]",
      "text/plain": [
       "<matplotlib.figure.Figure at 0x7f806f821f60>"
      ]
     },
     "metadata": {},
     "output_type": "display_data"
    }
   ],
   "source": [
    "def gauss(x, *p):\n",
    "    A, mu, sigma = p\n",
    "    return A*np.exp(-(x-mu)**2/(2.*sigma**2))\n",
    "\n",
    "p0 = [1., 0., 1.]\n",
    "\n",
    "from scipy.optimize import curve_fit\n",
    "\n",
    "fig = plt.figure(figsize=(8,6))\n",
    "ax = fig.add_subplot(111)\n",
    "hist, bins = np.histogram(Ds, bins=20)\n",
    "width = 1.0 * (bins[1] - bins[0])\n",
    "center = (bins[:-1] + bins[1:]) / 2\n",
    "\n",
    "coeff, var_matrix = curve_fit(gauss, center, hist, p0=p0)\n",
    "fit_points = np.linspace(1.8, 3.0, 50)\n",
    "hist_fit = gauss(fit_points, *coeff)\n",
    "\n",
    "\n",
    "plt.bar(center, hist, align='center', width=width, edgecolor=None, lw=0, color='orange')\n",
    "plt.axvline(x = 2.3, c='k', ls='-', lw=0.5)\n",
    "plt.axvline(x = 2.3 - 0.002, c='k', ls='--', lw=0.5)\n",
    "plt.axvline(x = 2.3 + 0.002, c='k', ls='--', lw=0.5)\n",
    "# plt.plot(fit_points, hist_fit, c='r')\n",
    "plt.xlabel(r'Diffusion coefficient of OPC water ($\\times 10^{-5}$ cm$^2$/s)')\n",
    "plt.ylabel('Count (out of 101 NVE simulations)')\n",
    "ax.annotate('Onufriev with uncertainty', size=16, xy=(2.3 + 0.002, 1), xytext=(2.35, 4), arrowprops = dict(arrowstyle='simple'))\n",
    "ax.set_title(r'Gaussian fit = {0:0.2f}$\\pm$ {1:0.2f}, data = {2:0.2f}$\\pm${3:0.2f}, Onufriev  = 2.3 $\\pm$ 0.002'.\n",
    "          format(coeff[1], coeff[2], np.mean(Ds), sc.stats.sem(Ds)), y=1.05)\n",
    "plt.show()"
   ]
  },
  {
   "cell_type": "code",
   "execution_count": 44,
   "metadata": {
    "collapsed": false,
    "scrolled": true
   },
   "outputs": [
    {
     "name": "stdout",
     "output_type": "stream",
     "text": [
      "The diffusion coefficient is 2.160169117647059 $\\times 10^{-5}$ cm$^2$/s.\n",
      "The diffusion coefficient is 1.1797916666666666 $\\times 10^{-5}$ cm$^2$/s.\n",
      "The diffusion coefficient is 1.0341960784313726 $\\times 10^{-5}$ cm$^2$/s.\n",
      "The diffusion coefficient is 1.1401985294117647 $\\times 10^{-5}$ cm$^2$/s.\n",
      "The diffusion coefficient is 1.1700294117647057 $\\times 10^{-5}$ cm$^2$/s.\n",
      "The diffusion coefficient is 0.9753357843137256 $\\times 10^{-5}$ cm$^2$/s.\n",
      "The diffusion coefficient is 1.052267156862745 $\\times 10^{-5}$ cm$^2$/s.\n",
      "The diffusion coefficient is 1.0530563725490196 $\\times 10^{-5}$ cm$^2$/s.\n",
      "The diffusion coefficient is 1.230416666666667 $\\times 10^{-5}$ cm$^2$/s.\n",
      "The diffusion coefficient is 1.119924019607843 $\\times 10^{-5}$ cm$^2$/s.\n",
      "The diffusion coefficient is 1.2072254901960786 $\\times 10^{-5}$ cm$^2$/s.\n",
      "The diffusion coefficient is 1.2090122549019608 $\\times 10^{-5}$ cm$^2$/s.\n",
      "The diffusion coefficient is 1.2967818627450984 $\\times 10^{-5}$ cm$^2$/s.\n",
      "The diffusion coefficient is 1.193544117647059 $\\times 10^{-5}$ cm$^2$/s.\n",
      "The diffusion coefficient is 1.134110294117647 $\\times 10^{-5}$ cm$^2$/s.\n",
      "The diffusion coefficient is 1.0637475490196078 $\\times 10^{-5}$ cm$^2$/s.\n",
      "The diffusion coefficient is 1.0128137254901959 $\\times 10^{-5}$ cm$^2$/s.\n",
      "The diffusion coefficient is 1.1549607843137255 $\\times 10^{-5}$ cm$^2$/s.\n",
      "The diffusion coefficient is 1.0771348039215687 $\\times 10^{-5}$ cm$^2$/s.\n",
      "The diffusion coefficient is 1.261379901960784 $\\times 10^{-5}$ cm$^2$/s.\n",
      "The diffusion coefficient is 0.9109411764705883 $\\times 10^{-5}$ cm$^2$/s.\n",
      "The diffusion coefficient is 0.992875 $\\times 10^{-5}$ cm$^2$/s.\n",
      "The diffusion coefficient is 1.076203431372549 $\\times 10^{-5}$ cm$^2$/s.\n",
      "The diffusion coefficient is 1.2270514705882352 $\\times 10^{-5}$ cm$^2$/s.\n",
      "The diffusion coefficient is 0.9337549019607843 $\\times 10^{-5}$ cm$^2$/s.\n",
      "The diffusion coefficient is 1.022843137254902 $\\times 10^{-5}$ cm$^2$/s.\n",
      "The diffusion coefficient is 1.0900024509803923 $\\times 10^{-5}$ cm$^2$/s.\n",
      "The diffusion coefficient is 0.9397132352941178 $\\times 10^{-5}$ cm$^2$/s.\n",
      "The diffusion coefficient is 0.9959779411764708 $\\times 10^{-5}$ cm$^2$/s.\n",
      "The diffusion coefficient is 0.9944509803921568 $\\times 10^{-5}$ cm$^2$/s.\n",
      "The diffusion coefficient is 1.0351372549019608 $\\times 10^{-5}$ cm$^2$/s.\n",
      "The diffusion coefficient is 0.9112426470588235 $\\times 10^{-5}$ cm$^2$/s.\n",
      "The diffusion coefficient is 0.9455514705882355 $\\times 10^{-5}$ cm$^2$/s.\n",
      "The diffusion coefficient is 0.9742328431372549 $\\times 10^{-5}$ cm$^2$/s.\n",
      "The diffusion coefficient is 1.1897867647058824 $\\times 10^{-5}$ cm$^2$/s.\n",
      "The diffusion coefficient is 0.9696838235294118 $\\times 10^{-5}$ cm$^2$/s.\n",
      "The diffusion coefficient is 1.129808823529412 $\\times 10^{-5}$ cm$^2$/s.\n",
      "The diffusion coefficient is 1.1888039215686275 $\\times 10^{-5}$ cm$^2$/s.\n",
      "The diffusion coefficient is 1.3007622549019608 $\\times 10^{-5}$ cm$^2$/s.\n",
      "The diffusion coefficient is 1.2390220588235294 $\\times 10^{-5}$ cm$^2$/s.\n",
      "The diffusion coefficient is 1.2465073529411765 $\\times 10^{-5}$ cm$^2$/s.\n",
      "The diffusion coefficient is 1.1013872549019608 $\\times 10^{-5}$ cm$^2$/s.\n",
      "The diffusion coefficient is 1.1017009803921571 $\\times 10^{-5}$ cm$^2$/s.\n",
      "The diffusion coefficient is 1.0123235294117647 $\\times 10^{-5}$ cm$^2$/s.\n",
      "The diffusion coefficient is 1.1218676470588238 $\\times 10^{-5}$ cm$^2$/s.\n",
      "The diffusion coefficient is 1.2050857843137255 $\\times 10^{-5}$ cm$^2$/s.\n",
      "The diffusion coefficient is 1.2495710784313727 $\\times 10^{-5}$ cm$^2$/s.\n",
      "The diffusion coefficient is 1.0791495098039217 $\\times 10^{-5}$ cm$^2$/s.\n",
      "The diffusion coefficient is 1.1499901960784313 $\\times 10^{-5}$ cm$^2$/s.\n",
      "The diffusion coefficient is 1.2003357843137257 $\\times 10^{-5}$ cm$^2$/s.\n",
      "The diffusion coefficient is 1.0295098039215687 $\\times 10^{-5}$ cm$^2$/s.\n",
      "The diffusion coefficient is 0.9646985294117648 $\\times 10^{-5}$ cm$^2$/s.\n",
      "The diffusion coefficient is 1.095078431372549 $\\times 10^{-5}$ cm$^2$/s.\n",
      "The diffusion coefficient is 1.1573210784313723 $\\times 10^{-5}$ cm$^2$/s.\n",
      "The diffusion coefficient is 1.0238799019607845 $\\times 10^{-5}$ cm$^2$/s.\n",
      "The diffusion coefficient is 1.1108700980392159 $\\times 10^{-5}$ cm$^2$/s.\n",
      "The diffusion coefficient is 1.186691176470588 $\\times 10^{-5}$ cm$^2$/s.\n",
      "The diffusion coefficient is 1.066924019607843 $\\times 10^{-5}$ cm$^2$/s.\n",
      "The diffusion coefficient is 1.0966470588235295 $\\times 10^{-5}$ cm$^2$/s.\n",
      "The diffusion coefficient is 1.0112524509803922 $\\times 10^{-5}$ cm$^2$/s.\n",
      "The diffusion coefficient is 1.082769607843137 $\\times 10^{-5}$ cm$^2$/s.\n",
      "The diffusion coefficient is 1.1832843137254903 $\\times 10^{-5}$ cm$^2$/s.\n",
      "The diffusion coefficient is 1.1685857843137257 $\\times 10^{-5}$ cm$^2$/s.\n",
      "The diffusion coefficient is 1.1158725490196082 $\\times 10^{-5}$ cm$^2$/s.\n",
      "The diffusion coefficient is 1.1590906862745098 $\\times 10^{-5}$ cm$^2$/s.\n",
      "The diffusion coefficient is 1.1478970588235293 $\\times 10^{-5}$ cm$^2$/s.\n",
      "The diffusion coefficient is 1.1533995098039216 $\\times 10^{-5}$ cm$^2$/s.\n",
      "The diffusion coefficient is 1.018448529411765 $\\times 10^{-5}$ cm$^2$/s.\n",
      "The diffusion coefficient is 1.1176764705882354 $\\times 10^{-5}$ cm$^2$/s.\n",
      "The diffusion coefficient is 1.0174166666666666 $\\times 10^{-5}$ cm$^2$/s.\n",
      "The diffusion coefficient is 1.1883308823529413 $\\times 10^{-5}$ cm$^2$/s.\n",
      "The diffusion coefficient is 1.1811764705882353 $\\times 10^{-5}$ cm$^2$/s.\n",
      "The diffusion coefficient is 1.3566446078431371 $\\times 10^{-5}$ cm$^2$/s.\n",
      "The diffusion coefficient is 1.0878088235294117 $\\times 10^{-5}$ cm$^2$/s.\n",
      "The diffusion coefficient is 1.0312843137254903 $\\times 10^{-5}$ cm$^2$/s.\n",
      "The diffusion coefficient is 1.1123651960784315 $\\times 10^{-5}$ cm$^2$/s.\n",
      "The diffusion coefficient is 1.0730367647058823 $\\times 10^{-5}$ cm$^2$/s.\n",
      "The diffusion coefficient is 1.10359068627451 $\\times 10^{-5}$ cm$^2$/s.\n",
      "The diffusion coefficient is 0.984764705882353 $\\times 10^{-5}$ cm$^2$/s.\n",
      "The diffusion coefficient is 0.9939068627450981 $\\times 10^{-5}$ cm$^2$/s.\n",
      "The diffusion coefficient is 1.007948529411765 $\\times 10^{-5}$ cm$^2$/s.\n",
      "The diffusion coefficient is 1.0659313725490196 $\\times 10^{-5}$ cm$^2$/s.\n",
      "The diffusion coefficient is 1.0427671568627452 $\\times 10^{-5}$ cm$^2$/s.\n",
      "The diffusion coefficient is 1.1292769607843138 $\\times 10^{-5}$ cm$^2$/s.\n",
      "The diffusion coefficient is 1.0053210784313726 $\\times 10^{-5}$ cm$^2$/s.\n",
      "The diffusion coefficient is 1.0768651960784312 $\\times 10^{-5}$ cm$^2$/s.\n",
      "The diffusion coefficient is 1.2346029411764707 $\\times 10^{-5}$ cm$^2$/s.\n",
      "The diffusion coefficient is 1.0803897058823528 $\\times 10^{-5}$ cm$^2$/s.\n",
      "The diffusion coefficient is 1.2060661764705884 $\\times 10^{-5}$ cm$^2$/s.\n",
      "The diffusion coefficient is 1.1521029411764705 $\\times 10^{-5}$ cm$^2$/s.\n",
      "The diffusion coefficient is 1.204610294117647 $\\times 10^{-5}$ cm$^2$/s.\n",
      "The diffusion coefficient is 1.2989901960784316 $\\times 10^{-5}$ cm$^2$/s.\n",
      "The diffusion coefficient is 0.9862671568627451 $\\times 10^{-5}$ cm$^2$/s.\n",
      "The diffusion coefficient is 1.3038553921568627 $\\times 10^{-5}$ cm$^2$/s.\n",
      "The diffusion coefficient is 1.4058112745098044 $\\times 10^{-5}$ cm$^2$/s.\n",
      "The diffusion coefficient is 1.0756544117647058 $\\times 10^{-5}$ cm$^2$/s.\n",
      "The diffusion coefficient is 1.1352990196078432 $\\times 10^{-5}$ cm$^2$/s.\n",
      "The diffusion coefficient is 1.1796764705882354 $\\times 10^{-5}$ cm$^2$/s.\n",
      "The diffusion coefficient is 1.0457107843137257 $\\times 10^{-5}$ cm$^2$/s.\n",
      "The diffusion coefficient is 1.001700980392157 $\\times 10^{-5}$ cm$^2$/s.\n",
      "The diffusion coefficient is 1.18975 $\\times 10^{-5}$ cm$^2$/s.\n",
      "The diffusion coefficient is 1.193857843137255 $\\times 10^{-5}$ cm$^2$/s.\n",
      "The diffusion coefficient is 0.9491151960784313 $\\times 10^{-5}$ cm$^2$/s.\n",
      "The diffusion coefficient is 1.1833406862745097 $\\times 10^{-5}$ cm$^2$/s.\n",
      "The diffusion coefficient is 1.0748504901960785 $\\times 10^{-5}$ cm$^2$/s.\n",
      "The diffusion coefficient is 1.0513578431372548 $\\times 10^{-5}$ cm$^2$/s.\n",
      "The diffusion coefficient is 1.2408063725490197 $\\times 10^{-5}$ cm$^2$/s.\n",
      "The diffusion coefficient is 1.2006642156862743 $\\times 10^{-5}$ cm$^2$/s.\n",
      "The diffusion coefficient is 0.9367426470588236 $\\times 10^{-5}$ cm$^2$/s.\n",
      "The diffusion coefficient is 1.0772254901960785 $\\times 10^{-5}$ cm$^2$/s.\n",
      "The diffusion coefficient is 1.0568406862745099 $\\times 10^{-5}$ cm$^2$/s.\n",
      "The diffusion coefficient is 1.822553921568628 $\\times 10^{-5}$ cm$^2$/s.\n",
      "The diffusion coefficient is 1.1856764705882352 $\\times 10^{-5}$ cm$^2$/s.\n",
      "The diffusion coefficient is 1.1230269607843135 $\\times 10^{-5}$ cm$^2$/s.\n",
      "The diffusion coefficient is 1.14475 $\\times 10^{-5}$ cm$^2$/s.\n",
      "The diffusion coefficient is 0.849468137254902 $\\times 10^{-5}$ cm$^2$/s.\n",
      "The diffusion coefficient is 0.9960490196078431 $\\times 10^{-5}$ cm$^2$/s.\n",
      "The diffusion coefficient is 0.9416740196078432 $\\times 10^{-5}$ cm$^2$/s.\n",
      "The diffusion coefficient is 0.9434975490196079 $\\times 10^{-5}$ cm$^2$/s.\n",
      "The diffusion coefficient is 1.033357843137255 $\\times 10^{-5}$ cm$^2$/s.\n",
      "The diffusion coefficient is 1.0265220588235293 $\\times 10^{-5}$ cm$^2$/s.\n",
      "The diffusion coefficient is 1.149764705882353 $\\times 10^{-5}$ cm$^2$/s.\n",
      "The diffusion coefficient is 1.103345588235294 $\\times 10^{-5}$ cm$^2$/s.\n",
      "The diffusion coefficient is 1.3191299019607843 $\\times 10^{-5}$ cm$^2$/s.\n",
      "The diffusion coefficient is 1.1058700980392158 $\\times 10^{-5}$ cm$^2$/s.\n",
      "The diffusion coefficient is 1.2751813725490198 $\\times 10^{-5}$ cm$^2$/s.\n",
      "The diffusion coefficient is 1.2915710784313725 $\\times 10^{-5}$ cm$^2$/s.\n",
      "The diffusion coefficient is 0.9649019607843137 $\\times 10^{-5}$ cm$^2$/s.\n",
      "The diffusion coefficient is 0.9213995098039215 $\\times 10^{-5}$ cm$^2$/s.\n",
      "The diffusion coefficient is 0.8316127450980392 $\\times 10^{-5}$ cm$^2$/s.\n",
      "The diffusion coefficient is 1.1112573529411764 $\\times 10^{-5}$ cm$^2$/s.\n",
      "The diffusion coefficient is 0.9246764705882354 $\\times 10^{-5}$ cm$^2$/s.\n",
      "The diffusion coefficient is 1.0776348039215689 $\\times 10^{-5}$ cm$^2$/s.\n",
      "The diffusion coefficient is 1.0602083333333332 $\\times 10^{-5}$ cm$^2$/s.\n",
      "The diffusion coefficient is 1.2425024509803921 $\\times 10^{-5}$ cm$^2$/s.\n",
      "The diffusion coefficient is 1.0612058823529413 $\\times 10^{-5}$ cm$^2$/s.\n",
      "The diffusion coefficient is 1.0726495098039215 $\\times 10^{-5}$ cm$^2$/s.\n",
      "The diffusion coefficient is 0.9747794117647057 $\\times 10^{-5}$ cm$^2$/s.\n",
      "The diffusion coefficient is 1.0017107843137254 $\\times 10^{-5}$ cm$^2$/s.\n",
      "The diffusion coefficient is 1.3123995098039218 $\\times 10^{-5}$ cm$^2$/s.\n",
      "The diffusion coefficient is 1.0913039215686273 $\\times 10^{-5}$ cm$^2$/s.\n",
      "The diffusion coefficient is 1.1459215686274513 $\\times 10^{-5}$ cm$^2$/s.\n",
      "The diffusion coefficient is 1.053218137254902 $\\times 10^{-5}$ cm$^2$/s.\n",
      "The diffusion coefficient is 1.119171568627451 $\\times 10^{-5}$ cm$^2$/s.\n",
      "The diffusion coefficient is 1.1228137254901962 $\\times 10^{-5}$ cm$^2$/s.\n",
      "The diffusion coefficient is 1.1849460784313726 $\\times 10^{-5}$ cm$^2$/s.\n",
      "The diffusion coefficient is 1.1644387254901962 $\\times 10^{-5}$ cm$^2$/s.\n",
      "The diffusion coefficient is 1.0938235294117646 $\\times 10^{-5}$ cm$^2$/s.\n",
      "The diffusion coefficient is 0.9848676470588236 $\\times 10^{-5}$ cm$^2$/s.\n",
      "The diffusion coefficient is 1.1883259803921569 $\\times 10^{-5}$ cm$^2$/s.\n",
      "The diffusion coefficient is 1.0950318627450981 $\\times 10^{-5}$ cm$^2$/s.\n",
      "The diffusion coefficient is 1.1319803921568625 $\\times 10^{-5}$ cm$^2$/s.\n",
      "The diffusion coefficient is 1.0898161764705883 $\\times 10^{-5}$ cm$^2$/s.\n",
      "The diffusion coefficient is 1.0126029411764705 $\\times 10^{-5}$ cm$^2$/s.\n",
      "The diffusion coefficient is 1.0867156862745098 $\\times 10^{-5}$ cm$^2$/s.\n",
      "The diffusion coefficient is 1.065343137254902 $\\times 10^{-5}$ cm$^2$/s.\n",
      "The diffusion coefficient is 0.9748455882352943 $\\times 10^{-5}$ cm$^2$/s.\n",
      "The diffusion coefficient is 0.9171568627450981 $\\times 10^{-5}$ cm$^2$/s.\n",
      "The diffusion coefficient is 1.2782426470588235 $\\times 10^{-5}$ cm$^2$/s.\n",
      "The diffusion coefficient is 1.1836053921568626 $\\times 10^{-5}$ cm$^2$/s.\n",
      "The diffusion coefficient is 1.0976029411764707 $\\times 10^{-5}$ cm$^2$/s.\n",
      "The diffusion coefficient is 1.1727426470588236 $\\times 10^{-5}$ cm$^2$/s.\n",
      "The diffusion coefficient is 1.0564803921568628 $\\times 10^{-5}$ cm$^2$/s.\n",
      "The diffusion coefficient is 1.0505710784313727 $\\times 10^{-5}$ cm$^2$/s.\n",
      "The diffusion coefficient is 1.0395245098039216 $\\times 10^{-5}$ cm$^2$/s.\n",
      "The diffusion coefficient is 1.2938897058823526 $\\times 10^{-5}$ cm$^2$/s.\n",
      "The diffusion coefficient is 1.1535 $\\times 10^{-5}$ cm$^2$/s.\n",
      "The diffusion coefficient is 1.1799485294117649 $\\times 10^{-5}$ cm$^2$/s.\n",
      "The diffusion coefficient is 1.3115931372549023 $\\times 10^{-5}$ cm$^2$/s.\n",
      "The diffusion coefficient is 1.077642156862745 $\\times 10^{-5}$ cm$^2$/s.\n",
      "The diffusion coefficient is 1.3021151960784314 $\\times 10^{-5}$ cm$^2$/s.\n",
      "The diffusion coefficient is 1.0746029411764706 $\\times 10^{-5}$ cm$^2$/s.\n",
      "The diffusion coefficient is 1.088093137254902 $\\times 10^{-5}$ cm$^2$/s.\n",
      "The diffusion coefficient is 0.9360710784313725 $\\times 10^{-5}$ cm$^2$/s.\n",
      "The diffusion coefficient is 1.14209068627451 $\\times 10^{-5}$ cm$^2$/s.\n",
      "The diffusion coefficient is 0.9966519607843138 $\\times 10^{-5}$ cm$^2$/s.\n",
      "The diffusion coefficient is 1.088154411764706 $\\times 10^{-5}$ cm$^2$/s.\n",
      "The diffusion coefficient is 1.1382965686274509 $\\times 10^{-5}$ cm$^2$/s.\n",
      "The diffusion coefficient is 1.123811274509804 $\\times 10^{-5}$ cm$^2$/s.\n",
      "The diffusion coefficient is 1.1365637254901961 $\\times 10^{-5}$ cm$^2$/s.\n",
      "The diffusion coefficient is 0.9014044117647058 $\\times 10^{-5}$ cm$^2$/s.\n",
      "The diffusion coefficient is 1.0776078431372549 $\\times 10^{-5}$ cm$^2$/s.\n",
      "The diffusion coefficient is 0.9987303921568627 $\\times 10^{-5}$ cm$^2$/s.\n",
      "The diffusion coefficient is 1.142686274509804 $\\times 10^{-5}$ cm$^2$/s.\n",
      "The diffusion coefficient is 1.0990490196078433 $\\times 10^{-5}$ cm$^2$/s.\n",
      "The diffusion coefficient is 1.015950980392157 $\\times 10^{-5}$ cm$^2$/s.\n",
      "The diffusion coefficient is 1.1653284313725492 $\\times 10^{-5}$ cm$^2$/s.\n",
      "The diffusion coefficient is 1.2058921568627452 $\\times 10^{-5}$ cm$^2$/s.\n",
      "The diffusion coefficient is 1.1997941176470592 $\\times 10^{-5}$ cm$^2$/s.\n",
      "The diffusion coefficient is 1.0640049019607845 $\\times 10^{-5}$ cm$^2$/s.\n",
      "The diffusion coefficient is 1.2897598039215685 $\\times 10^{-5}$ cm$^2$/s.\n",
      "The diffusion coefficient is 1.2678823529411767 $\\times 10^{-5}$ cm$^2$/s.\n",
      "The diffusion coefficient is 1.2892181372549019 $\\times 10^{-5}$ cm$^2$/s.\n",
      "The diffusion coefficient is 1.1778848039215686 $\\times 10^{-5}$ cm$^2$/s.\n",
      "The diffusion coefficient is 1.2342622549019608 $\\times 10^{-5}$ cm$^2$/s.\n",
      "The diffusion coefficient is 1.357191176470588 $\\times 10^{-5}$ cm$^2$/s.\n",
      "The diffusion coefficient is 1.0950024509803922 $\\times 10^{-5}$ cm$^2$/s.\n",
      "The diffusion coefficient is 1.19440931372549 $\\times 10^{-5}$ cm$^2$/s.\n",
      "The diffusion coefficient is 1.3275245098039217 $\\times 10^{-5}$ cm$^2$/s.\n",
      "The diffusion coefficient is 1.044296568627451 $\\times 10^{-5}$ cm$^2$/s.\n",
      "The diffusion coefficient is 1.3091764705882354 $\\times 10^{-5}$ cm$^2$/s.\n",
      "The diffusion coefficient is 1.220372549019608 $\\times 10^{-5}$ cm$^2$/s.\n",
      "The diffusion coefficient is 1.159387254901961 $\\times 10^{-5}$ cm$^2$/s.\n",
      "The diffusion coefficient is 1.156401960784314 $\\times 10^{-5}$ cm$^2$/s.\n",
      "The diffusion coefficient is 1.191938725490196 $\\times 10^{-5}$ cm$^2$/s.\n",
      "The diffusion coefficient is 1.0801764705882353 $\\times 10^{-5}$ cm$^2$/s.\n",
      "The diffusion coefficient is 1.1371544117647057 $\\times 10^{-5}$ cm$^2$/s.\n",
      "The diffusion coefficient is 1.3003186274509806 $\\times 10^{-5}$ cm$^2$/s.\n",
      "The diffusion coefficient is 1.071139705882353 $\\times 10^{-5}$ cm$^2$/s.\n",
      "The diffusion coefficient is 1.0728799019607844 $\\times 10^{-5}$ cm$^2$/s.\n",
      "The diffusion coefficient is 1.0953014705882356 $\\times 10^{-5}$ cm$^2$/s.\n",
      "The diffusion coefficient is 1.0470514705882354 $\\times 10^{-5}$ cm$^2$/s.\n",
      "The diffusion coefficient is 1.04996568627451 $\\times 10^{-5}$ cm$^2$/s.\n",
      "The diffusion coefficient is 1.2815318627450982 $\\times 10^{-5}$ cm$^2$/s.\n",
      "The diffusion coefficient is 0.9985931372549022 $\\times 10^{-5}$ cm$^2$/s.\n",
      "The diffusion coefficient is 0.9204558823529413 $\\times 10^{-5}$ cm$^2$/s.\n",
      "The diffusion coefficient is 1.0183553921568629 $\\times 10^{-5}$ cm$^2$/s.\n",
      "The diffusion coefficient is 1.0328382352941177 $\\times 10^{-5}$ cm$^2$/s.\n",
      "The diffusion coefficient is 1.0851029411764705 $\\times 10^{-5}$ cm$^2$/s.\n",
      "The diffusion coefficient is 0.9713088235294117 $\\times 10^{-5}$ cm$^2$/s.\n",
      "The diffusion coefficient is 0.904482843137255 $\\times 10^{-5}$ cm$^2$/s.\n",
      "The diffusion coefficient is 0.9448186274509803 $\\times 10^{-5}$ cm$^2$/s.\n",
      "The diffusion coefficient is 1.1577598039215686 $\\times 10^{-5}$ cm$^2$/s.\n",
      "The diffusion coefficient is 0.8884093137254903 $\\times 10^{-5}$ cm$^2$/s.\n",
      "The diffusion coefficient is 1.0702254901960786 $\\times 10^{-5}$ cm$^2$/s.\n",
      "The diffusion coefficient is 1.1513700980392159 $\\times 10^{-5}$ cm$^2$/s.\n",
      "The diffusion coefficient is 0.9118039215686274 $\\times 10^{-5}$ cm$^2$/s.\n",
      "The diffusion coefficient is 0.9065343137254902 $\\times 10^{-5}$ cm$^2$/s.\n",
      "The diffusion coefficient is 1.2024803921568628 $\\times 10^{-5}$ cm$^2$/s.\n",
      "The diffusion coefficient is 1.0341617647058825 $\\times 10^{-5}$ cm$^2$/s.\n",
      "The diffusion coefficient is 1.0159264705882352 $\\times 10^{-5}$ cm$^2$/s.\n",
      "The diffusion coefficient is 1.1312132352941175 $\\times 10^{-5}$ cm$^2$/s.\n",
      "The diffusion coefficient is 1.081794117647059 $\\times 10^{-5}$ cm$^2$/s.\n",
      "The diffusion coefficient is 1.0342303921568627 $\\times 10^{-5}$ cm$^2$/s.\n",
      "The diffusion coefficient is 1.1297916666666667 $\\times 10^{-5}$ cm$^2$/s.\n",
      "The diffusion coefficient is 1.1618186274509805 $\\times 10^{-5}$ cm$^2$/s.\n",
      "The diffusion coefficient is 1.0102598039215689 $\\times 10^{-5}$ cm$^2$/s.\n",
      "The diffusion coefficient is 0.9346200980392158 $\\times 10^{-5}$ cm$^2$/s.\n",
      "The diffusion coefficient is 1.0412230392156863 $\\times 10^{-5}$ cm$^2$/s.\n",
      "The diffusion coefficient is 0.9802205882352942 $\\times 10^{-5}$ cm$^2$/s.\n",
      "The diffusion coefficient is 0.9222083333333333 $\\times 10^{-5}$ cm$^2$/s.\n",
      "The diffusion coefficient is 1.0926200980392158 $\\times 10^{-5}$ cm$^2$/s.\n",
      "The diffusion coefficient is 1.110299019607843 $\\times 10^{-5}$ cm$^2$/s.\n",
      "The diffusion coefficient is 1.09125 $\\times 10^{-5}$ cm$^2$/s.\n",
      "The diffusion coefficient is 0.9319730392156863 $\\times 10^{-5}$ cm$^2$/s.\n",
      "The diffusion coefficient is 1.243732843137255 $\\times 10^{-5}$ cm$^2$/s.\n",
      "The diffusion coefficient is 1.1682156862745097 $\\times 10^{-5}$ cm$^2$/s.\n",
      "The diffusion coefficient is 0.9848382352941176 $\\times 10^{-5}$ cm$^2$/s.\n",
      "The diffusion coefficient is 1.1505073529411765 $\\times 10^{-5}$ cm$^2$/s.\n",
      "The diffusion coefficient is 1.1705171568627453 $\\times 10^{-5}$ cm$^2$/s.\n",
      "The diffusion coefficient is 1.0795661764705882 $\\times 10^{-5}$ cm$^2$/s.\n",
      "The diffusion coefficient is 1.032546568627451 $\\times 10^{-5}$ cm$^2$/s.\n",
      "The diffusion coefficient is 1.003188725490196 $\\times 10^{-5}$ cm$^2$/s.\n",
      "The diffusion coefficient is 1.132877450980392 $\\times 10^{-5}$ cm$^2$/s.\n",
      "The diffusion coefficient is 1.257325980392157 $\\times 10^{-5}$ cm$^2$/s.\n",
      "The diffusion coefficient is 1.1254019607843138 $\\times 10^{-5}$ cm$^2$/s.\n",
      "The diffusion coefficient is 1.0866053921568628 $\\times 10^{-5}$ cm$^2$/s.\n",
      "The diffusion coefficient is 1.1561666666666668 $\\times 10^{-5}$ cm$^2$/s.\n",
      "The diffusion coefficient is 1.0098088235294118 $\\times 10^{-5}$ cm$^2$/s.\n",
      "The diffusion coefficient is 1.014188725490196 $\\times 10^{-5}$ cm$^2$/s.\n",
      "The diffusion coefficient is 1.0389803921568628 $\\times 10^{-5}$ cm$^2$/s.\n",
      "The diffusion coefficient is 0.9598186274509803 $\\times 10^{-5}$ cm$^2$/s.\n",
      "The diffusion coefficient is 1.0299558823529413 $\\times 10^{-5}$ cm$^2$/s.\n",
      "The diffusion coefficient is 1.195703431372549 $\\times 10^{-5}$ cm$^2$/s.\n",
      "The diffusion coefficient is 1.035031862745098 $\\times 10^{-5}$ cm$^2$/s.\n",
      "The diffusion coefficient is 1.2468848039215688 $\\times 10^{-5}$ cm$^2$/s.\n"
     ]
    }
   ],
   "source": [
    "dir = 'sample-data/dave-opc-test3'\n",
    "trajectories = sorted(glob.glob(dir + '/traj.nve.*'))\n",
    "Ds = np.empty((len(trajectories)))\n",
    "for trajectory in trajectories:\n",
    "    # diffusion(dir + '/full.topo', trajectory, 1 )\n",
    "    # print('Trajectory {} out of {}'.format(trajectories.index(trajectory), len(trajectories)))\n",
    "    Ds[trajectories.index(trajectory)] = diffusion('sample-data/dave-opc-test/full.topo', trajectory, 1, plot=False)"
   ]
  },
  {
   "cell_type": "code",
   "execution_count": 45,
   "metadata": {
    "collapsed": false
   },
   "outputs": [
    {
     "data": {
      "image/png": "[encoded data removed]",
      "text/plain": [
       "<matplotlib.figure.Figure at 0x7f806f918208>"
      ]
     },
     "metadata": {},
     "output_type": "display_data"
    }
   ],
   "source": [
    "def gauss(x, *p):\n",
    "    A, mu, sigma = p\n",
    "    return A*np.exp(-(x-mu)**2/(2.*sigma**2))\n",
    "\n",
    "p0 = [1., 0., 1.]\n",
    "\n",
    "from scipy.optimize import curve_fit\n",
    "coeff, var_matrix = curve_fit(gauss, center, hist, p0=p0)\n",
    "\n",
    "fig = plt.figure(figsize=(8,6))\n",
    "ax = fig.add_subplot(111)\n",
    "hist, bins = np.histogram(Ds, bins=20)\n",
    "width = 1.0 * (bins[1] - bins[0])\n",
    "center = (bins[:-1] + bins[1:]) / 2\n",
    "\n",
    "coeff, var_matrix = curve_fit(gauss, center, hist, p0=p0)\n",
    "fit_points = np.linspace(1.8, 3.0, 50)\n",
    "hist_fit = gauss(fit_points, *coeff)\n",
    "\n",
    "\n",
    "plt.bar(center, hist, align='center', width=width, edgecolor=None, lw=0, color='orange')\n",
    "plt.axvline(x = 2.3, c='k', ls='-', lw=0.5)\n",
    "plt.axvline(x = 2.3 - 0.002, c='k', ls='--', lw=0.5)\n",
    "plt.axvline(x = 2.3 + 0.002, c='k', ls='--', lw=0.5)\n",
    "# plt.plot(fit_points, hist_fit, c='r')\n",
    "plt.xlabel(r'Diffusion coefficient of OPC water ($\\times 10^{-5}$ cm$^2$/s)')\n",
    "plt.ylabel('Count (out of 101 NVE simulations)')\n",
    "ax.annotate('Onufriev with uncertainty', size=16, xy=(2.3 + 0.002, 1), xytext=(2.35, 4), arrowprops = dict(arrowstyle='simple'))\n",
    "ax.set_title(r'Gaussian fit = {0:0.2f}$\\pm$ {1:0.2f}, data = {2:0.2f}$\\pm${3:0.2f}, Onufriev  = 2.3 $\\pm$ 0.002'.\n",
    "          format(coeff[1], coeff[2], np.mean(Ds), sc.stats.sem(Ds)), y=1.05)\n",
    "plt.show()"
   ]
  },
  {
   "cell_type": "code",
   "execution_count": 47,
   "metadata": {
    "collapsed": false
   },
   "outputs": [
    {
     "name": "stdout",
     "output_type": "stream",
     "text": [
      "The diffusion coefficient is 2.3142906157665872 $\\times 10^{-5}$ cm$^2$/s.\n",
      "The diffusion coefficient is 2.096512502363285 $\\times 10^{-5}$ cm$^2$/s.\n",
      "The diffusion coefficient is 2.0649192682137003 $\\times 10^{-5}$ cm$^2$/s.\n",
      "The diffusion coefficient is 2.20322767859563 $\\times 10^{-5}$ cm$^2$/s.\n",
      "The diffusion coefficient is 1.8758553224497225 $\\times 10^{-5}$ cm$^2$/s.\n",
      "The diffusion coefficient is 2.2415310342867727 $\\times 10^{-5}$ cm$^2$/s.\n",
      "The diffusion coefficient is 2.111542137448652 $\\times 10^{-5}$ cm$^2$/s.\n",
      "The diffusion coefficient is 2.183442855652899 $\\times 10^{-5}$ cm$^2$/s.\n",
      "The diffusion coefficient is 2.160829764441038 $\\times 10^{-5}$ cm$^2$/s.\n",
      "The diffusion coefficient is 2.286675123222849 $\\times 10^{-5}$ cm$^2$/s.\n",
      "The diffusion coefficient is 2.630489515608618 $\\times 10^{-5}$ cm$^2$/s.\n",
      "The diffusion coefficient is 2.19064971415971 $\\times 10^{-5}$ cm$^2$/s.\n",
      "The diffusion coefficient is 2.0822966314400495 $\\times 10^{-5}$ cm$^2$/s.\n",
      "The diffusion coefficient is 1.9608067740144905 $\\times 10^{-5}$ cm$^2$/s.\n",
      "The diffusion coefficient is 2.4176008281458254 $\\times 10^{-5}$ cm$^2$/s.\n",
      "The diffusion coefficient is 2.6475790541860222 $\\times 10^{-5}$ cm$^2$/s.\n",
      "The diffusion coefficient is 2.153292419070186 $\\times 10^{-5}$ cm$^2$/s.\n",
      "The diffusion coefficient is 2.369389564710258 $\\times 10^{-5}$ cm$^2$/s.\n",
      "The diffusion coefficient is 2.240912829785672 $\\times 10^{-5}$ cm$^2$/s.\n",
      "The diffusion coefficient is 2.01621150872892 $\\times 10^{-5}$ cm$^2$/s.\n",
      "The diffusion coefficient is 2.050805652215863 $\\times 10^{-5}$ cm$^2$/s.\n",
      "The diffusion coefficient is 2.1224381992198427 $\\times 10^{-5}$ cm$^2$/s.\n",
      "The diffusion coefficient is 2.1628113441388193 $\\times 10^{-5}$ cm$^2$/s.\n",
      "The diffusion coefficient is 2.065816474791367 $\\times 10^{-5}$ cm$^2$/s.\n",
      "The diffusion coefficient is 2.3686244202725315 $\\times 10^{-5}$ cm$^2$/s.\n",
      "The diffusion coefficient is 2.0897882268566046 $\\times 10^{-5}$ cm$^2$/s.\n",
      "The diffusion coefficient is 2.152692086179041 $\\times 10^{-5}$ cm$^2$/s.\n",
      "The diffusion coefficient is 2.3710947456949145 $\\times 10^{-5}$ cm$^2$/s.\n",
      "The diffusion coefficient is 2.365934691733894 $\\times 10^{-5}$ cm$^2$/s.\n",
      "The diffusion coefficient is 2.2356651260783225 $\\times 10^{-5}$ cm$^2$/s.\n",
      "The diffusion coefficient is 2.006028839771625 $\\times 10^{-5}$ cm$^2$/s.\n",
      "The diffusion coefficient is 2.200510324781757 $\\times 10^{-5}$ cm$^2$/s.\n",
      "The diffusion coefficient is 2.2867996156829933 $\\times 10^{-5}$ cm$^2$/s.\n",
      "The diffusion coefficient is 2.1612156151806485 $\\times 10^{-5}$ cm$^2$/s.\n",
      "The diffusion coefficient is 2.1349469012060958 $\\times 10^{-5}$ cm$^2$/s.\n",
      "The diffusion coefficient is 2.603842479363249 $\\times 10^{-5}$ cm$^2$/s.\n",
      "The diffusion coefficient is 2.33314502626176 $\\times 10^{-5}$ cm$^2$/s.\n",
      "The diffusion coefficient is 2.2001111363650567 $\\times 10^{-5}$ cm$^2$/s.\n",
      "The diffusion coefficient is 2.273898362770879 $\\times 10^{-5}$ cm$^2$/s.\n",
      "The diffusion coefficient is 2.049396437142871 $\\times 10^{-5}$ cm$^2$/s.\n",
      "The diffusion coefficient is 2.062245000187501 $\\times 10^{-5}$ cm$^2$/s.\n",
      "The diffusion coefficient is 2.2950510840251312 $\\times 10^{-5}$ cm$^2$/s.\n",
      "The diffusion coefficient is 2.369494238194122 $\\times 10^{-5}$ cm$^2$/s.\n",
      "The diffusion coefficient is 2.181734855015399 $\\times 10^{-5}$ cm$^2$/s.\n",
      "The diffusion coefficient is 2.4494733455638213 $\\times 10^{-5}$ cm$^2$/s.\n",
      "The diffusion coefficient is 2.4428357680441692 $\\times 10^{-5}$ cm$^2$/s.\n",
      "The diffusion coefficient is 2.0198468714013615 $\\times 10^{-5}$ cm$^2$/s.\n",
      "The diffusion coefficient is 2.3124678514732055 $\\times 10^{-5}$ cm$^2$/s.\n",
      "The diffusion coefficient is 2.4614082518293 $\\times 10^{-5}$ cm$^2$/s.\n",
      "The diffusion coefficient is 2.40377872697848 $\\times 10^{-5}$ cm$^2$/s.\n",
      "The diffusion coefficient is 2.1311758429310044 $\\times 10^{-5}$ cm$^2$/s.\n",
      "The diffusion coefficient is 2.048440528520358 $\\times 10^{-5}$ cm$^2$/s.\n",
      "The diffusion coefficient is 2.1164437113768924 $\\times 10^{-5}$ cm$^2$/s.\n",
      "The diffusion coefficient is 2.335190180179969 $\\times 10^{-5}$ cm$^2$/s.\n",
      "The diffusion coefficient is 1.9653974866757606 $\\times 10^{-5}$ cm$^2$/s.\n",
      "The diffusion coefficient is 2.208990861294314 $\\times 10^{-5}$ cm$^2$/s.\n",
      "The diffusion coefficient is 2.2668740987485916 $\\times 10^{-5}$ cm$^2$/s.\n",
      "The diffusion coefficient is 2.1303703335278645 $\\times 10^{-5}$ cm$^2$/s.\n",
      "The diffusion coefficient is 2.1603909364702134 $\\times 10^{-5}$ cm$^2$/s.\n",
      "The diffusion coefficient is 2.2425705188015916 $\\times 10^{-5}$ cm$^2$/s.\n",
      "The diffusion coefficient is 2.2736637666621355 $\\times 10^{-5}$ cm$^2$/s.\n",
      "The diffusion coefficient is 2.330333352708364 $\\times 10^{-5}$ cm$^2$/s.\n",
      "The diffusion coefficient is 2.0823312529394578 $\\times 10^{-5}$ cm$^2$/s.\n",
      "The diffusion coefficient is 2.212234881206846 $\\times 10^{-5}$ cm$^2$/s.\n",
      "The diffusion coefficient is 2.414633431224111 $\\times 10^{-5}$ cm$^2$/s.\n",
      "The diffusion coefficient is 2.37617447027261 $\\times 10^{-5}$ cm$^2$/s.\n",
      "The diffusion coefficient is 2.3655231643135384 $\\times 10^{-5}$ cm$^2$/s.\n",
      "The diffusion coefficient is 2.0730152454339774 $\\times 10^{-5}$ cm$^2$/s.\n",
      "The diffusion coefficient is 2.1990204789382486 $\\times 10^{-5}$ cm$^2$/s.\n",
      "The diffusion coefficient is 2.2444944337217714 $\\times 10^{-5}$ cm$^2$/s.\n",
      "The diffusion coefficient is 2.1523967634324426 $\\times 10^{-5}$ cm$^2$/s.\n",
      "The diffusion coefficient is 2.40986144939289 $\\times 10^{-5}$ cm$^2$/s.\n",
      "The diffusion coefficient is 2.259330641688503 $\\times 10^{-5}$ cm$^2$/s.\n",
      "The diffusion coefficient is 2.206482349816172 $\\times 10^{-5}$ cm$^2$/s.\n",
      "The diffusion coefficient is 2.2772340347992737 $\\times 10^{-5}$ cm$^2$/s.\n",
      "The diffusion coefficient is 2.0485915295570774 $\\times 10^{-5}$ cm$^2$/s.\n",
      "The diffusion coefficient is 2.0296778928365518 $\\times 10^{-5}$ cm$^2$/s.\n",
      "The diffusion coefficient is 2.2829991885143577 $\\times 10^{-5}$ cm$^2$/s.\n",
      "The diffusion coefficient is 2.2290824642694758 $\\times 10^{-5}$ cm$^2$/s.\n",
      "The diffusion coefficient is 2.1332228249770697 $\\times 10^{-5}$ cm$^2$/s.\n",
      "The diffusion coefficient is 2.3851723288239515 $\\times 10^{-5}$ cm$^2$/s.\n",
      "The diffusion coefficient is 2.0581546798705936 $\\times 10^{-5}$ cm$^2$/s.\n",
      "The diffusion coefficient is 2.6625325675118243 $\\times 10^{-5}$ cm$^2$/s.\n",
      "The diffusion coefficient is 2.2940026820159103 $\\times 10^{-5}$ cm$^2$/s.\n",
      "The diffusion coefficient is 2.393940128148638 $\\times 10^{-5}$ cm$^2$/s.\n",
      "The diffusion coefficient is 2.2638862438456937 $\\times 10^{-5}$ cm$^2$/s.\n",
      "The diffusion coefficient is 2.4187795691477643 $\\times 10^{-5}$ cm$^2$/s.\n",
      "The diffusion coefficient is 2.2771064587991545 $\\times 10^{-5}$ cm$^2$/s.\n",
      "The diffusion coefficient is 1.9921284894585776 $\\times 10^{-5}$ cm$^2$/s.\n",
      "The diffusion coefficient is 2.2144357541183664 $\\times 10^{-5}$ cm$^2$/s.\n",
      "The diffusion coefficient is 2.5317310424508475 $\\times 10^{-5}$ cm$^2$/s.\n",
      "The diffusion coefficient is 2.3117787324863004 $\\times 10^{-5}$ cm$^2$/s.\n",
      "The diffusion coefficient is 2.167183167336981 $\\times 10^{-5}$ cm$^2$/s.\n",
      "The diffusion coefficient is 2.466902761078533 $\\times 10^{-5}$ cm$^2$/s.\n",
      "The diffusion coefficient is 2.27526184962789 $\\times 10^{-5}$ cm$^2$/s.\n",
      "The diffusion coefficient is 2.324340202582348 $\\times 10^{-5}$ cm$^2$/s.\n",
      "The diffusion coefficient is 2.283297253257427 $\\times 10^{-5}$ cm$^2$/s.\n",
      "The diffusion coefficient is 2.2660765193969055 $\\times 10^{-5}$ cm$^2$/s.\n",
      "The diffusion coefficient is 2.17956648002575 $\\times 10^{-5}$ cm$^2$/s.\n",
      "The diffusion coefficient is 1.862369440186625 $\\times 10^{-5}$ cm$^2$/s.\n",
      "The diffusion coefficient is 2.322395764251194 $\\times 10^{-5}$ cm$^2$/s.\n"
     ]
    }
   ],
   "source": [
    "# Separate NVE trajectories\n",
    "dir = 'sample-data/dave-opc-test5'\n",
    "trajectories = sorted(glob.glob(dir + '/traj.nve.*'))\n",
    "Ds = np.empty((len(trajectories)))\n",
    "for trajectory in trajectories:\n",
    "    # diffusion(dir + '/full.topo', trajectory, 1 )\n",
    "    # print('Trajectory {} out of {}'.format(trajectories.index(trajectory), len(trajectories)))\n",
    "    Ds[trajectories.index(trajectory)] = diffusion('sample-data/dave-opc-test/full.topo', trajectory, 1, plot=False)"
   ]
  },
  {
   "cell_type": "code",
   "execution_count": 48,
   "metadata": {
    "collapsed": false
   },
   "outputs": [
    {
     "data": {
      "image/png": "[encoded data removed]",
      "text/plain": [
       "<matplotlib.figure.Figure at 0x7f806f788cc0>"
      ]
     },
     "metadata": {},
     "output_type": "display_data"
    }
   ],
   "source": [
    "def gauss(x, *p):\n",
    "    A, mu, sigma = p\n",
    "    return A*np.exp(-(x-mu)**2/(2.*sigma**2))\n",
    "\n",
    "p0 = [1., 0., 1.]\n",
    "\n",
    "from scipy.optimize import curve_fit\n",
    "\n",
    "fig = plt.figure(figsize=(8,6))\n",
    "ax = fig.add_subplot(111)\n",
    "hist, bins = np.histogram(Ds, bins=20)\n",
    "width = 1.0 * (bins[1] - bins[0])\n",
    "center = (bins[:-1] + bins[1:]) / 2\n",
    "\n",
    "coeff, var_matrix = curve_fit(gauss, center, hist, p0=p0)\n",
    "fit_points = np.linspace(1.8, 3.0, 50)\n",
    "hist_fit = gauss(fit_points, *coeff)\n",
    "\n",
    "\n",
    "plt.bar(center, hist, align='center', width=width, edgecolor=None, lw=0, color='orange')\n",
    "plt.axvline(x = 2.3, c='k', ls='-', lw=0.5)\n",
    "plt.axvline(x = 2.3 - 0.002, c='k', ls='--', lw=0.5)\n",
    "plt.axvline(x = 2.3 + 0.002, c='k', ls='--', lw=0.5)\n",
    "# plt.plot(fit_points, hist_fit, c='r')\n",
    "plt.xlabel(r'Diffusion coefficient of OPC water ($\\times 10^{-5}$ cm$^2$/s)')\n",
    "plt.ylabel('Count (out of ? NVE simulations)')\n",
    "ax.annotate('Onufriev with uncertainty', size=16, xy=(2.3 + 0.002, 1), xytext=(2.35, 1), arrowprops = dict(arrowstyle='simple'))\n",
    "ax.set_title(r'Gaussian fit = {0:0.2f}$\\pm$ {1:0.2f}, data = {2:0.2f}$\\pm${3:0.2f}, Onufriev  = 2.3 $\\pm$ 0.002'.\n",
    "          format(coeff[1], coeff[2], np.mean(Ds), sc.stats.sem(Ds)), y=1.05)\n",
    "plt.show()"
   ]
  },
  {
   "cell_type": "code",
   "execution_count": 62,
   "metadata": {
    "collapsed": false
   },
   "outputs": [
    {
     "name": "stdout",
     "output_type": "stream",
     "text": [
      "The diffusion coefficient is 2.160169117647059 $\\times 10^{-5}$ cm$^2$/s.\n",
      "The diffusion coefficient is 1.9976813725490195 $\\times 10^{-5}$ cm$^2$/s.\n",
      "The diffusion coefficient is 2.3620931372549023 $\\times 10^{-5}$ cm$^2$/s.\n",
      "The diffusion coefficient is 2.2051887254901965 $\\times 10^{-5}$ cm$^2$/s.\n",
      "The diffusion coefficient is 1.9926568627450985 $\\times 10^{-5}$ cm$^2$/s.\n",
      "The diffusion coefficient is 2.3763284313725492 $\\times 10^{-5}$ cm$^2$/s.\n",
      "The diffusion coefficient is 2.1888333333333336 $\\times 10^{-5}$ cm$^2$/s.\n",
      "The diffusion coefficient is 2.0832720588235296 $\\times 10^{-5}$ cm$^2$/s.\n",
      "The diffusion coefficient is 2.281482843137255 $\\times 10^{-5}$ cm$^2$/s.\n",
      "The diffusion coefficient is 2.5524975490196073 $\\times 10^{-5}$ cm$^2$/s.\n",
      "The diffusion coefficient is 2.103781862745098 $\\times 10^{-5}$ cm$^2$/s.\n",
      "The diffusion coefficient is 2.27430637254902 $\\times 10^{-5}$ cm$^2$/s.\n",
      "The diffusion coefficient is 2.9373946078431374 $\\times 10^{-5}$ cm$^2$/s.\n",
      "The diffusion coefficient is 2.1334387254901963 $\\times 10^{-5}$ cm$^2$/s.\n",
      "The diffusion coefficient is 2.3998186274509803 $\\times 10^{-5}$ cm$^2$/s.\n",
      "The diffusion coefficient is 2.5521691176470584 $\\times 10^{-5}$ cm$^2$/s.\n",
      "The diffusion coefficient is 2.228453431372549 $\\times 10^{-5}$ cm$^2$/s.\n",
      "The diffusion coefficient is 2.2206102941176473 $\\times 10^{-5}$ cm$^2$/s.\n",
      "The diffusion coefficient is 2.3423848039215684 $\\times 10^{-5}$ cm$^2$/s.\n",
      "The diffusion coefficient is 1.9207843137254903 $\\times 10^{-5}$ cm$^2$/s.\n",
      "The diffusion coefficient is 2.115325980392157 $\\times 10^{-5}$ cm$^2$/s.\n",
      "The diffusion coefficient is 2.5323259803921574 $\\times 10^{-5}$ cm$^2$/s.\n",
      "The diffusion coefficient is 2.229230392156863 $\\times 10^{-5}$ cm$^2$/s.\n",
      "The diffusion coefficient is 2.2282622549019604 $\\times 10^{-5}$ cm$^2$/s.\n",
      "The diffusion coefficient is 2.195232843137255 $\\times 10^{-5}$ cm$^2$/s.\n",
      "The diffusion coefficient is 2.0213651960784316 $\\times 10^{-5}$ cm$^2$/s.\n",
      "The diffusion coefficient is 2.127924019607843 $\\times 10^{-5}$ cm$^2$/s.\n",
      "The diffusion coefficient is 2.141497549019608 $\\times 10^{-5}$ cm$^2$/s.\n",
      "The diffusion coefficient is 2.4076200980392155 $\\times 10^{-5}$ cm$^2$/s.\n",
      "The diffusion coefficient is 2.298558823529412 $\\times 10^{-5}$ cm$^2$/s.\n",
      "The diffusion coefficient is 2.240406862745098 $\\times 10^{-5}$ cm$^2$/s.\n",
      "The diffusion coefficient is 2.385529411764706 $\\times 10^{-5}$ cm$^2$/s.\n",
      "The diffusion coefficient is 1.9027573529411768 $\\times 10^{-5}$ cm$^2$/s.\n",
      "The diffusion coefficient is 2.0142549019607845 $\\times 10^{-5}$ cm$^2$/s.\n",
      "The diffusion coefficient is 2.207531862745098 $\\times 10^{-5}$ cm$^2$/s.\n",
      "The diffusion coefficient is 2.738024509803922 $\\times 10^{-5}$ cm$^2$/s.\n",
      "The diffusion coefficient is 2.2197083333333336 $\\times 10^{-5}$ cm$^2$/s.\n",
      "The diffusion coefficient is 2.663482843137255 $\\times 10^{-5}$ cm$^2$/s.\n",
      "The diffusion coefficient is 2.5678284313725492 $\\times 10^{-5}$ cm$^2$/s.\n",
      "The diffusion coefficient is 2.0221348039215687 $\\times 10^{-5}$ cm$^2$/s.\n",
      "The diffusion coefficient is 2.637245098039216 $\\times 10^{-5}$ cm$^2$/s.\n",
      "The diffusion coefficient is 2.5691299019607845 $\\times 10^{-5}$ cm$^2$/s.\n",
      "The diffusion coefficient is 2.458764705882353 $\\times 10^{-5}$ cm$^2$/s.\n",
      "The diffusion coefficient is 1.8672401960784317 $\\times 10^{-5}$ cm$^2$/s.\n",
      "The diffusion coefficient is 2.2245147058823536 $\\times 10^{-5}$ cm$^2$/s.\n",
      "The diffusion coefficient is 2.043904411764706 $\\times 10^{-5}$ cm$^2$/s.\n",
      "The diffusion coefficient is 2.053509803921569 $\\times 10^{-5}$ cm$^2$/s.\n",
      "The diffusion coefficient is 2.234529411764706 $\\times 10^{-5}$ cm$^2$/s.\n",
      "The diffusion coefficient is 2.1432720588235297 $\\times 10^{-5}$ cm$^2$/s.\n",
      "The diffusion coefficient is 2.076855392156863 $\\times 10^{-5}$ cm$^2$/s.\n",
      "The diffusion coefficient is 2.511178921568628 $\\times 10^{-5}$ cm$^2$/s.\n",
      "The diffusion coefficient is 2.4060661764705884 $\\times 10^{-5}$ cm$^2$/s.\n",
      "The diffusion coefficient is 2.2077843137254907 $\\times 10^{-5}$ cm$^2$/s.\n",
      "The diffusion coefficient is 2.050811274509804 $\\times 10^{-5}$ cm$^2$/s.\n",
      "The diffusion coefficient is 1.9459215686274511 $\\times 10^{-5}$ cm$^2$/s.\n",
      "The diffusion coefficient is 2.2685833333333334 $\\times 10^{-5}$ cm$^2$/s.\n",
      "The diffusion coefficient is 1.869924019607843 $\\times 10^{-5}$ cm$^2$/s.\n",
      "The diffusion coefficient is 2.330156862745098 $\\times 10^{-5}$ cm$^2$/s.\n",
      "The diffusion coefficient is 2.068544117647059 $\\times 10^{-5}$ cm$^2$/s.\n",
      "The diffusion coefficient is 2.3093480392156867 $\\times 10^{-5}$ cm$^2$/s.\n",
      "The diffusion coefficient is 2.41755637254902 $\\times 10^{-5}$ cm$^2$/s.\n",
      "The diffusion coefficient is 1.7983774509803923 $\\times 10^{-5}$ cm$^2$/s.\n",
      "The diffusion coefficient is 2.028563725490196 $\\times 10^{-5}$ cm$^2$/s.\n",
      "The diffusion coefficient is 2.470343137254902 $\\times 10^{-5}$ cm$^2$/s.\n",
      "The diffusion coefficient is 2.0397352941176474 $\\times 10^{-5}$ cm$^2$/s.\n",
      "The diffusion coefficient is 2.503186274509804 $\\times 10^{-5}$ cm$^2$/s.\n",
      "The diffusion coefficient is 2.5137549019607843 $\\times 10^{-5}$ cm$^2$/s.\n",
      "The diffusion coefficient is 2.183779411764706 $\\times 10^{-5}$ cm$^2$/s.\n",
      "The diffusion coefficient is 1.9141348039215689 $\\times 10^{-5}$ cm$^2$/s.\n",
      "The diffusion coefficient is 2.2528480392156864 $\\times 10^{-5}$ cm$^2$/s.\n",
      "The diffusion coefficient is 2.0943823529411763 $\\times 10^{-5}$ cm$^2$/s.\n",
      "The diffusion coefficient is 2.570372549019608 $\\times 10^{-5}$ cm$^2$/s.\n",
      "The diffusion coefficient is 2.2257573529411765 $\\times 10^{-5}$ cm$^2$/s.\n",
      "The diffusion coefficient is 2.3913823529411764 $\\times 10^{-5}$ cm$^2$/s.\n",
      "The diffusion coefficient is 2.6724117647058825 $\\times 10^{-5}$ cm$^2$/s.\n",
      "The diffusion coefficient is 2.3782083333333333 $\\times 10^{-5}$ cm$^2$/s.\n",
      "The diffusion coefficient is 2.2827426470588237 $\\times 10^{-5}$ cm$^2$/s.\n",
      "The diffusion coefficient is 2.191575980392157 $\\times 10^{-5}$ cm$^2$/s.\n",
      "The diffusion coefficient is 2.0261666666666667 $\\times 10^{-5}$ cm$^2$/s.\n",
      "The diffusion coefficient is 2.5154460784313724 $\\times 10^{-5}$ cm$^2$/s.\n",
      "The diffusion coefficient is 2.205779411764706 $\\times 10^{-5}$ cm$^2$/s.\n",
      "The diffusion coefficient is 2.176639705882353 $\\times 10^{-5}$ cm$^2$/s.\n",
      "The diffusion coefficient is 2.148686274509804 $\\times 10^{-5}$ cm$^2$/s.\n",
      "The diffusion coefficient is 2.475 $\\times 10^{-5}$ cm$^2$/s.\n",
      "The diffusion coefficient is 2.379987745098039 $\\times 10^{-5}$ cm$^2$/s.\n",
      "The diffusion coefficient is 2.0566348039215687 $\\times 10^{-5}$ cm$^2$/s.\n",
      "The diffusion coefficient is 2.1936936274509806 $\\times 10^{-5}$ cm$^2$/s.\n",
      "The diffusion coefficient is 2.2560269607843138 $\\times 10^{-5}$ cm$^2$/s.\n",
      "The diffusion coefficient is 2.249732843137255 $\\times 10^{-5}$ cm$^2$/s.\n",
      "The diffusion coefficient is 2.447561274509804 $\\times 10^{-5}$ cm$^2$/s.\n",
      "The diffusion coefficient is 2.2644411764705885 $\\times 10^{-5}$ cm$^2$/s.\n",
      "The diffusion coefficient is 2.6551323529411763 $\\times 10^{-5}$ cm$^2$/s.\n",
      "The diffusion coefficient is 2.866144607843137 $\\times 10^{-5}$ cm$^2$/s.\n",
      "The diffusion coefficient is 2.363063725490196 $\\times 10^{-5}$ cm$^2$/s.\n",
      "The diffusion coefficient is 2.3894950980392156 $\\times 10^{-5}$ cm$^2$/s.\n",
      "The diffusion coefficient is 2.5033823529411765 $\\times 10^{-5}$ cm$^2$/s.\n",
      "The diffusion coefficient is 1.9850784313725494 $\\times 10^{-5}$ cm$^2$/s.\n",
      "The diffusion coefficient is 2.3945490196078434 $\\times 10^{-5}$ cm$^2$/s.\n",
      "The diffusion coefficient is 2.4993774509803925 $\\times 10^{-5}$ cm$^2$/s.\n",
      "The diffusion coefficient is 2.1557230392156863 $\\times 10^{-5}$ cm$^2$/s.\n",
      "The diffusion coefficient is 2.2263308823529417 $\\times 10^{-5}$ cm$^2$/s.\n"
     ]
    }
   ],
   "source": [
    "# test 6, iwrap off 20/80 NPT/NVE\n",
    "dir = 'sample-data/dave-opc-test6'\n",
    "trajectories = sorted(glob.glob(dir + '/traj.nve.*'))\n",
    "Ds = np.empty((len(trajectories)))\n",
    "for trajectory in trajectories:\n",
    "    # diffusion(dir + '/full.topo', trajectory, 1 )\n",
    "    # print('Trajectory {} out of {}'.format(trajectories.index(trajectory), len(trajectories)))\n",
    "    Ds[trajectories.index(trajectory)] = diffusion('sample-data/dave-opc-test/full.topo', trajectory, 1, plot=False)"
   ]
  },
  {
   "cell_type": "code",
   "execution_count": 90,
   "metadata": {
    "collapsed": false
   },
   "outputs": [
    {
     "data": {
      "image/png": "[encoded data removed]",
      "text/plain": [
       "<matplotlib.figure.Figure at 0x7f806f983160>"
      ]
     },
     "metadata": {},
     "output_type": "display_data"
    }
   ],
   "source": [
    "def gauss(x, *p):\n",
    "    A, mu, sigma = p\n",
    "    return A*np.exp(-(x-mu)**2/(2.*sigma**2))\n",
    "\n",
    "p0 = [1., 0., 1.]\n",
    "\n",
    "from scipy.optimize import curve_fit\n",
    "\n",
    "fig = plt.figure(figsize=(8,6))\n",
    "ax = fig.add_subplot(111)\n",
    "hist, bins = np.histogram(Ds, bins=20)\n",
    "width = 1.0 * (bins[1] - bins[0])\n",
    "center = (bins[:-1] + bins[1:]) / 2\n",
    "\n",
    "coeff, var_matrix = curve_fit(gauss, center, hist, p0=p0)\n",
    "fit_points = np.linspace(1.8, 3.0, 50)\n",
    "hist_fit = gauss(fit_points, *coeff)\n",
    "\n",
    "\n",
    "plt.bar(center, hist, align='center', width=width, edgecolor=None, lw=0, color='orange')\n",
    "plt.axvline(x = 2.3, c='k', ls='-', lw=0.5)\n",
    "# plt.axvline(x = 2.3 - 0.02, c='k', ls='--', lw=0.5)\n",
    "# plt.axvline(x = 2.3 + 0.02, c='k', ls='--', lw=0.5)\n",
    "plt.axvspan(2.3 - 0.02, 2.3 + 0.02, color='r', alpha=0.5)\n",
    "\n",
    "plt.axvline(x = np.mean(Ds), c='b', ls='-', lw=0.5)\n",
    "#plt.axvline(x = np.mean(Ds) - sc.stats.sem(Ds), c='b', ls='--', lw=0.5)\n",
    "#plt.axvline(x = np.mean(Ds) + sc.stats.sem(Ds), c='b', ls='--', lw=0.5)\n",
    "plt.axvspan(np.mean(Ds) - sc.stats.sem(Ds), np.mean(Ds) + sc.stats.sem(Ds), color='b', alpha=0.5)\n",
    "\n",
    "# plt.plot(fit_points, hist_fit, c='r')\n",
    "plt.xlabel(r'Diffusion coefficient of OPC water ($\\times 10^{-5}$ cm$^2$/s)')\n",
    "plt.ylabel('Count (out of 101 NVE simulations)')\n",
    "ax.annotate('Onufriev', size=16, xy=(2.3 + 0.02, 1), xytext=(2.4, 1), arrowprops = dict(arrowstyle='simple'))\n",
    "ax.annotate('Us', size=16, xy=(np.mean(Ds) + sc.stats.sem(Ds), 4), xytext=(2.4, 4), arrowprops = dict(arrowstyle='simple'))\n",
    "ax.set_title('Alternating NPT/NVE simulations with iwrap off, fit to NVE simulations\\nUs = {2:0.2f}$\\pm${3:0.2f}, Onufriev = 2.3 $\\pm$ 0.02'.\n",
    "          format(coeff[1], coeff[2], np.mean(Ds), sc.stats.sem(Ds)), y=1.05)\n",
    "plt.show()"
   ]
  },
  {
   "cell_type": "code",
   "execution_count": 52,
   "metadata": {
    "collapsed": false
   },
   "outputs": [
    {
     "name": "stdout",
     "output_type": "stream",
     "text": [
      "The diffusion coefficient is 3.613536764705882 $\\times 10^{-5}$ cm$^2$/s.\n",
      "The diffusion coefficient is 2.6747867647058827 $\\times 10^{-5}$ cm$^2$/s.\n",
      "The diffusion coefficient is 3.959536764705882 $\\times 10^{-5}$ cm$^2$/s.\n",
      "The diffusion coefficient is 4.741588235294118 $\\times 10^{-5}$ cm$^2$/s.\n",
      "The diffusion coefficient is 2.5871470588235295 $\\times 10^{-5}$ cm$^2$/s.\n",
      "The diffusion coefficient is 2.292468137254902 $\\times 10^{-5}$ cm$^2$/s.\n",
      "The diffusion coefficient is 2.5137647058823527 $\\times 10^{-5}$ cm$^2$/s.\n",
      "The diffusion coefficient is 3.7077573529411763 $\\times 10^{-5}$ cm$^2$/s.\n",
      "The diffusion coefficient is 4.505708333333334 $\\times 10^{-5}$ cm$^2$/s.\n",
      "The diffusion coefficient is 3.765625 $\\times 10^{-5}$ cm$^2$/s.\n",
      "The diffusion coefficient is 3.1187867647058827 $\\times 10^{-5}$ cm$^2$/s.\n",
      "The diffusion coefficient is 4.272156862745098 $\\times 10^{-5}$ cm$^2$/s.\n",
      "The diffusion coefficient is 2.687835784313726 $\\times 10^{-5}$ cm$^2$/s.\n",
      "The diffusion coefficient is 3.103252450980392 $\\times 10^{-5}$ cm$^2$/s.\n",
      "The diffusion coefficient is 2.443105392156863 $\\times 10^{-5}$ cm$^2$/s.\n",
      "The diffusion coefficient is 3.5559068627450983 $\\times 10^{-5}$ cm$^2$/s.\n",
      "The diffusion coefficient is 2.420299019607843 $\\times 10^{-5}$ cm$^2$/s.\n",
      "The diffusion coefficient is 2.7317254901960784 $\\times 10^{-5}$ cm$^2$/s.\n",
      "The diffusion coefficient is 3.6353235294117647 $\\times 10^{-5}$ cm$^2$/s.\n",
      "The diffusion coefficient is 2.5302009803921575 $\\times 10^{-5}$ cm$^2$/s.\n",
      "The diffusion coefficient is 3.168901960784314 $\\times 10^{-5}$ cm$^2$/s.\n",
      "The diffusion coefficient is 6.268267156862745 $\\times 10^{-5}$ cm$^2$/s.\n",
      "The diffusion coefficient is 2.3443553921568627 $\\times 10^{-5}$ cm$^2$/s.\n",
      "The diffusion coefficient is 7.08631862745098 $\\times 10^{-5}$ cm$^2$/s.\n",
      "The diffusion coefficient is 3.7809142156862747 $\\times 10^{-5}$ cm$^2$/s.\n",
      "The diffusion coefficient is 4.888926470588235 $\\times 10^{-5}$ cm$^2$/s.\n",
      "The diffusion coefficient is 2.814919117647059 $\\times 10^{-5}$ cm$^2$/s.\n",
      "The diffusion coefficient is 5.025818627450981 $\\times 10^{-5}$ cm$^2$/s.\n",
      "The diffusion coefficient is 2.1714632352941172 $\\times 10^{-5}$ cm$^2$/s.\n",
      "The diffusion coefficient is 2.842252450980393 $\\times 10^{-5}$ cm$^2$/s.\n",
      "The diffusion coefficient is 2.6637009803921567 $\\times 10^{-5}$ cm$^2$/s.\n",
      "The diffusion coefficient is 2.6343921568627455 $\\times 10^{-5}$ cm$^2$/s.\n",
      "The diffusion coefficient is 2.620218137254902 $\\times 10^{-5}$ cm$^2$/s.\n",
      "The diffusion coefficient is 2.9563602941176472 $\\times 10^{-5}$ cm$^2$/s.\n",
      "The diffusion coefficient is 4.427678921568628 $\\times 10^{-5}$ cm$^2$/s.\n",
      "The diffusion coefficient is 2.4944264705882353 $\\times 10^{-5}$ cm$^2$/s.\n",
      "The diffusion coefficient is 3.143894607843137 $\\times 10^{-5}$ cm$^2$/s.\n",
      "The diffusion coefficient is 3.079012254901961 $\\times 10^{-5}$ cm$^2$/s.\n",
      "The diffusion coefficient is 3.5279583333333338 $\\times 10^{-5}$ cm$^2$/s.\n",
      "The diffusion coefficient is 4.712718137254902 $\\times 10^{-5}$ cm$^2$/s.\n",
      "The diffusion coefficient is 3.2856715686274507 $\\times 10^{-5}$ cm$^2$/s.\n",
      "The diffusion coefficient is 3.028362745098039 $\\times 10^{-5}$ cm$^2$/s.\n",
      "The diffusion coefficient is 2.816058823529412 $\\times 10^{-5}$ cm$^2$/s.\n",
      "The diffusion coefficient is 2.412137254901961 $\\times 10^{-5}$ cm$^2$/s.\n",
      "The diffusion coefficient is 3.0384852941176477 $\\times 10^{-5}$ cm$^2$/s.\n",
      "The diffusion coefficient is 4.558095588235295 $\\times 10^{-5}$ cm$^2$/s.\n",
      "The diffusion coefficient is 3.579213235294118 $\\times 10^{-5}$ cm$^2$/s.\n",
      "The diffusion coefficient is 3.1852132352941176 $\\times 10^{-5}$ cm$^2$/s.\n",
      "The diffusion coefficient is 3.635120098039215 $\\times 10^{-5}$ cm$^2$/s.\n",
      "The diffusion coefficient is 2.8651813725490194 $\\times 10^{-5}$ cm$^2$/s.\n",
      "The diffusion coefficient is 3.9263333333333335 $\\times 10^{-5}$ cm$^2$/s.\n",
      "The diffusion coefficient is 3.9353431372549017 $\\times 10^{-5}$ cm$^2$/s.\n",
      "The diffusion coefficient is 3.261649509803922 $\\times 10^{-5}$ cm$^2$/s.\n",
      "The diffusion coefficient is 3.5863431372549024 $\\times 10^{-5}$ cm$^2$/s.\n",
      "The diffusion coefficient is 3.0963186274509806 $\\times 10^{-5}$ cm$^2$/s.\n",
      "The diffusion coefficient is 3.3517647058823528 $\\times 10^{-5}$ cm$^2$/s.\n",
      "The diffusion coefficient is 3.548093137254902 $\\times 10^{-5}$ cm$^2$/s.\n",
      "The diffusion coefficient is 3.933767156862745 $\\times 10^{-5}$ cm$^2$/s.\n",
      "The diffusion coefficient is 3.4177745098039214 $\\times 10^{-5}$ cm$^2$/s.\n",
      "The diffusion coefficient is 2.946049019607843 $\\times 10^{-5}$ cm$^2$/s.\n",
      "The diffusion coefficient is 2.53019362745098 $\\times 10^{-5}$ cm$^2$/s.\n",
      "The diffusion coefficient is 2.9035000000000006 $\\times 10^{-5}$ cm$^2$/s.\n",
      "The diffusion coefficient is 2.5951666666666666 $\\times 10^{-5}$ cm$^2$/s.\n",
      "The diffusion coefficient is 2.583578431372549 $\\times 10^{-5}$ cm$^2$/s.\n",
      "The diffusion coefficient is 4.776191176470589 $\\times 10^{-5}$ cm$^2$/s.\n",
      "The diffusion coefficient is 4.314696078431373 $\\times 10^{-5}$ cm$^2$/s.\n",
      "The diffusion coefficient is 3.2189436274509804 $\\times 10^{-5}$ cm$^2$/s.\n",
      "The diffusion coefficient is 2.1501960784313727 $\\times 10^{-5}$ cm$^2$/s.\n",
      "The diffusion coefficient is 2.1696323529411767 $\\times 10^{-5}$ cm$^2$/s.\n",
      "The diffusion coefficient is 3.434634803921569 $\\times 10^{-5}$ cm$^2$/s.\n",
      "The diffusion coefficient is 2.9482647058823526 $\\times 10^{-5}$ cm$^2$/s.\n",
      "The diffusion coefficient is 3.33821568627451 $\\times 10^{-5}$ cm$^2$/s.\n",
      "The diffusion coefficient is 3.0005539215686277 $\\times 10^{-5}$ cm$^2$/s.\n",
      "The diffusion coefficient is 3.042227941176471 $\\times 10^{-5}$ cm$^2$/s.\n",
      "The diffusion coefficient is 3.8265269607843133 $\\times 10^{-5}$ cm$^2$/s.\n",
      "The diffusion coefficient is 5.047598039215687 $\\times 10^{-5}$ cm$^2$/s.\n",
      "The diffusion coefficient is 2.9651887254901963 $\\times 10^{-5}$ cm$^2$/s.\n",
      "The diffusion coefficient is 4.001105392156863 $\\times 10^{-5}$ cm$^2$/s.\n",
      "The diffusion coefficient is 2.3758357843137254 $\\times 10^{-5}$ cm$^2$/s.\n",
      "The diffusion coefficient is 6.740553921568626 $\\times 10^{-5}$ cm$^2$/s.\n",
      "The diffusion coefficient is 2.563480392156863 $\\times 10^{-5}$ cm$^2$/s.\n",
      "The diffusion coefficient is 4.043757352941177 $\\times 10^{-5}$ cm$^2$/s.\n",
      "The diffusion coefficient is 4.490887254901961 $\\times 10^{-5}$ cm$^2$/s.\n",
      "The diffusion coefficient is 3.816178921568628 $\\times 10^{-5}$ cm$^2$/s.\n",
      "The diffusion coefficient is 3.565590686274509 $\\times 10^{-5}$ cm$^2$/s.\n",
      "The diffusion coefficient is 3.0064754901960793 $\\times 10^{-5}$ cm$^2$/s.\n",
      "The diffusion coefficient is 2.537007352941177 $\\times 10^{-5}$ cm$^2$/s.\n",
      "The diffusion coefficient is 2.660867647058824 $\\times 10^{-5}$ cm$^2$/s.\n",
      "The diffusion coefficient is 2.6217573529411764 $\\times 10^{-5}$ cm$^2$/s.\n",
      "The diffusion coefficient is 3.9067205882352947 $\\times 10^{-5}$ cm$^2$/s.\n",
      "The diffusion coefficient is 2.96405637254902 $\\times 10^{-5}$ cm$^2$/s.\n",
      "The diffusion coefficient is 2.7658970588235294 $\\times 10^{-5}$ cm$^2$/s.\n",
      "The diffusion coefficient is 3.673387254901961 $\\times 10^{-5}$ cm$^2$/s.\n",
      "The diffusion coefficient is 2.401497549019608 $\\times 10^{-5}$ cm$^2$/s.\n",
      "The diffusion coefficient is 3.5067867647058826 $\\times 10^{-5}$ cm$^2$/s.\n",
      "The diffusion coefficient is 3.3533161764705883 $\\times 10^{-5}$ cm$^2$/s.\n",
      "The diffusion coefficient is 2.7783602941176473 $\\times 10^{-5}$ cm$^2$/s.\n",
      "The diffusion coefficient is 3.2155686274509807 $\\times 10^{-5}$ cm$^2$/s.\n",
      "The diffusion coefficient is 4.101845588235294 $\\times 10^{-5}$ cm$^2$/s.\n",
      "The diffusion coefficient is 3.5491127450980393 $\\times 10^{-5}$ cm$^2$/s.\n",
      "The diffusion coefficient is 3.535718137254902 $\\times 10^{-5}$ cm$^2$/s.\n"
     ]
    }
   ],
   "source": [
    "# test 7, iwrap off, com removal off, 20/80 NPT/NVE\n",
    "dir = 'sample-data/dave-opc-test7'\n",
    "trajectories = sorted(glob.glob(dir + '/traj.nve.*'))\n",
    "Ds = np.empty((len(trajectories)))\n",
    "for trajectory in trajectories:\n",
    "    # diffusion(dir + '/full.topo', trajectory, 1 )\n",
    "    # print('Trajectory {} out of {}'.format(trajectories.index(trajectory), len(trajectories)))\n",
    "    Ds[trajectories.index(trajectory)] = diffusion('sample-data/dave-opc-test/full.topo', trajectory, 1, plot=False)"
   ]
  },
  {
   "cell_type": "code",
   "execution_count": 53,
   "metadata": {
    "collapsed": false
   },
   "outputs": [
    {
     "data": {
      "image/png": "[encoded data removed]",
      "text/plain": [
       "<matplotlib.figure.Figure at 0x7f806fb08278>"
      ]
     },
     "metadata": {},
     "output_type": "display_data"
    }
   ],
   "source": [
    "def gauss(x, *p):\n",
    "    A, mu, sigma = p\n",
    "    return A*np.exp(-(x-mu)**2/(2.*sigma**2))\n",
    "\n",
    "p0 = [1., 0., 1.]\n",
    "\n",
    "from scipy.optimize import curve_fit\n",
    "\n",
    "fig = plt.figure(figsize=(8,6))\n",
    "ax = fig.add_subplot(111)\n",
    "hist, bins = np.histogram(Ds, bins=20)\n",
    "width = 1.0 * (bins[1] - bins[0])\n",
    "center = (bins[:-1] + bins[1:]) / 2\n",
    "\n",
    "coeff, var_matrix = curve_fit(gauss, center, hist, p0=p0)\n",
    "fit_points = np.linspace(1.8, 3.0, 50)\n",
    "hist_fit = gauss(fit_points, *coeff)\n",
    "\n",
    "\n",
    "plt.bar(center, hist, align='center', width=width, edgecolor=None, lw=0, color='orange')\n",
    "plt.axvline(x = 2.3, c='k', ls='-', lw=0.5)\n",
    "plt.axvline(x = 2.3 - 0.002, c='k', ls='--', lw=0.5)\n",
    "plt.axvline(x = 2.3 + 0.002, c='k', ls='--', lw=0.5)\n",
    "# plt.plot(fit_points, hist_fit, c='r')\n",
    "plt.xlabel(r'Diffusion coefficient of OPC water ($\\times 10^{-5}$ cm$^2$/s)')\n",
    "plt.ylabel('Count (out of 101 NVE simulations)')\n",
    "ax.annotate('Onufriev with uncertainty', size=16, xy=(2.3 + 0.002, 1), xytext=(2.35, 1), arrowprops = dict(arrowstyle='simple'))\n",
    "ax.set_title(r'Gaussian fit = {0:0.2f}$\\pm$ {1:0.2f}, data = {2:0.2f}$\\pm${3:0.2f}, Onufriev  = 2.3 $\\pm$ 0.002'.\n",
    "          format(coeff[1], coeff[2], np.mean(Ds), sc.stats.sem(Ds)), y=1.05)\n",
    "plt.show()"
   ]
  },
  {
   "cell_type": "code",
   "execution_count": 55,
   "metadata": {
    "collapsed": false
   },
   "outputs": [
    {
     "name": "stdout",
     "output_type": "stream",
     "text": [
      "The diffusion coefficient is 3.613536764705882 $\\times 10^{-5}$ cm$^2$/s.\n",
      "The diffusion coefficient is 2.636078431372549 $\\times 10^{-5}$ cm$^2$/s.\n",
      "The diffusion coefficient is 2.4837254901960786 $\\times 10^{-5}$ cm$^2$/s.\n",
      "The diffusion coefficient is 3.4939632352941175 $\\times 10^{-5}$ cm$^2$/s.\n",
      "The diffusion coefficient is 2.7174632352941175 $\\times 10^{-5}$ cm$^2$/s.\n",
      "The diffusion coefficient is 3.2163480392156862 $\\times 10^{-5}$ cm$^2$/s.\n",
      "The diffusion coefficient is 2.751884803921569 $\\times 10^{-5}$ cm$^2$/s.\n",
      "The diffusion coefficient is 3.209573529411765 $\\times 10^{-5}$ cm$^2$/s.\n",
      "The diffusion coefficient is 6.600700980392157 $\\times 10^{-5}$ cm$^2$/s.\n",
      "The diffusion coefficient is 3.0371446078431372 $\\times 10^{-5}$ cm$^2$/s.\n",
      "The diffusion coefficient is 4.845865196078431 $\\times 10^{-5}$ cm$^2$/s.\n",
      "The diffusion coefficient is 8.508821078431373 $\\times 10^{-5}$ cm$^2$/s.\n",
      "The diffusion coefficient is 4.052661764705882 $\\times 10^{-5}$ cm$^2$/s.\n",
      "The diffusion coefficient is 8.734365196078432 $\\times 10^{-5}$ cm$^2$/s.\n",
      "The diffusion coefficient is 3.0742401960784314 $\\times 10^{-5}$ cm$^2$/s.\n",
      "The diffusion coefficient is 3.0225661764705882 $\\times 10^{-5}$ cm$^2$/s.\n",
      "The diffusion coefficient is 2.3544583333333335 $\\times 10^{-5}$ cm$^2$/s.\n",
      "The diffusion coefficient is 3.9508259803921564 $\\times 10^{-5}$ cm$^2$/s.\n",
      "The diffusion coefficient is 3.308683823529412 $\\times 10^{-5}$ cm$^2$/s.\n",
      "The diffusion coefficient is 4.4044019607843135 $\\times 10^{-5}$ cm$^2$/s.\n",
      "The diffusion coefficient is 2.8292083333333333 $\\times 10^{-5}$ cm$^2$/s.\n",
      "The diffusion coefficient is 2.3200245098039214 $\\times 10^{-5}$ cm$^2$/s.\n",
      "The diffusion coefficient is 3.5969558823529413 $\\times 10^{-5}$ cm$^2$/s.\n",
      "The diffusion coefficient is 3.9717671568627453 $\\times 10^{-5}$ cm$^2$/s.\n",
      "The diffusion coefficient is 2.830588235294118 $\\times 10^{-5}$ cm$^2$/s.\n",
      "The diffusion coefficient is 2.59630637254902 $\\times 10^{-5}$ cm$^2$/s.\n",
      "The diffusion coefficient is 2.994799019607843 $\\times 10^{-5}$ cm$^2$/s.\n",
      "The diffusion coefficient is 3.2865049019607846 $\\times 10^{-5}$ cm$^2$/s.\n",
      "The diffusion coefficient is 3.5812450980392163 $\\times 10^{-5}$ cm$^2$/s.\n",
      "The diffusion coefficient is 1.8997254901960785 $\\times 10^{-5}$ cm$^2$/s.\n",
      "The diffusion coefficient is 3.3012941176470587 $\\times 10^{-5}$ cm$^2$/s.\n",
      "The diffusion coefficient is 3.013242647058823 $\\times 10^{-5}$ cm$^2$/s.\n",
      "The diffusion coefficient is 4.574683823529412 $\\times 10^{-5}$ cm$^2$/s.\n",
      "The diffusion coefficient is 3.9696053921568626 $\\times 10^{-5}$ cm$^2$/s.\n",
      "The diffusion coefficient is 2.5229607843137254 $\\times 10^{-5}$ cm$^2$/s.\n",
      "The diffusion coefficient is 3.6820073529411768 $\\times 10^{-5}$ cm$^2$/s.\n",
      "The diffusion coefficient is 3.4177107843137255 $\\times 10^{-5}$ cm$^2$/s.\n",
      "The diffusion coefficient is 2.463683823529412 $\\times 10^{-5}$ cm$^2$/s.\n",
      "The diffusion coefficient is 4.04518137254902 $\\times 10^{-5}$ cm$^2$/s.\n",
      "The diffusion coefficient is 4.743093137254903 $\\times 10^{-5}$ cm$^2$/s.\n",
      "The diffusion coefficient is 4.220392156862745 $\\times 10^{-5}$ cm$^2$/s.\n",
      "The diffusion coefficient is 5.067973039215687 $\\times 10^{-5}$ cm$^2$/s.\n",
      "The diffusion coefficient is 3.8315906862745104 $\\times 10^{-5}$ cm$^2$/s.\n",
      "The diffusion coefficient is 5.645252450980393 $\\times 10^{-5}$ cm$^2$/s.\n",
      "The diffusion coefficient is 2.7853210784313727 $\\times 10^{-5}$ cm$^2$/s.\n",
      "The diffusion coefficient is 2.866720588235294 $\\times 10^{-5}$ cm$^2$/s.\n",
      "The diffusion coefficient is 4.140281862745098 $\\times 10^{-5}$ cm$^2$/s.\n",
      "The diffusion coefficient is 3.1636789215686276 $\\times 10^{-5}$ cm$^2$/s.\n",
      "The diffusion coefficient is 4.059019607843138 $\\times 10^{-5}$ cm$^2$/s.\n",
      "The diffusion coefficient is 3.7736568627450984 $\\times 10^{-5}$ cm$^2$/s.\n",
      "The diffusion coefficient is 3.9882647058823535 $\\times 10^{-5}$ cm$^2$/s.\n",
      "The diffusion coefficient is 4.130656862745098 $\\times 10^{-5}$ cm$^2$/s.\n",
      "The diffusion coefficient is 2.6266764705882357 $\\times 10^{-5}$ cm$^2$/s.\n",
      "The diffusion coefficient is 2.8274754901960786 $\\times 10^{-5}$ cm$^2$/s.\n",
      "The diffusion coefficient is 4.779208333333335 $\\times 10^{-5}$ cm$^2$/s.\n",
      "The diffusion coefficient is 2.4185980392156865 $\\times 10^{-5}$ cm$^2$/s.\n",
      "The diffusion coefficient is 2.6466862745098045 $\\times 10^{-5}$ cm$^2$/s.\n",
      "The diffusion coefficient is 3.4367401960784316 $\\times 10^{-5}$ cm$^2$/s.\n",
      "The diffusion coefficient is 5.500551470588237 $\\times 10^{-5}$ cm$^2$/s.\n",
      "The diffusion coefficient is 6.001213235294117 $\\times 10^{-5}$ cm$^2$/s.\n",
      "The diffusion coefficient is 3.4249191176470593 $\\times 10^{-5}$ cm$^2$/s.\n",
      "The diffusion coefficient is 3.0871151960784315 $\\times 10^{-5}$ cm$^2$/s.\n",
      "The diffusion coefficient is 3.4368063725490194 $\\times 10^{-5}$ cm$^2$/s.\n",
      "The diffusion coefficient is 4.286250000000002 $\\times 10^{-5}$ cm$^2$/s.\n",
      "The diffusion coefficient is 2.8158480392156866 $\\times 10^{-5}$ cm$^2$/s.\n",
      "The diffusion coefficient is 3.091078431372549 $\\times 10^{-5}$ cm$^2$/s.\n",
      "The diffusion coefficient is 2.876017156862745 $\\times 10^{-5}$ cm$^2$/s.\n",
      "The diffusion coefficient is 2.4042401960784314 $\\times 10^{-5}$ cm$^2$/s.\n",
      "The diffusion coefficient is 5.219169117647059 $\\times 10^{-5}$ cm$^2$/s.\n",
      "The diffusion coefficient is 2.852335784313726 $\\times 10^{-5}$ cm$^2$/s.\n",
      "The diffusion coefficient is 4.105776960784314 $\\times 10^{-5}$ cm$^2$/s.\n",
      "The diffusion coefficient is 3.3490808823529417 $\\times 10^{-5}$ cm$^2$/s.\n",
      "The diffusion coefficient is 3.554460784313726 $\\times 10^{-5}$ cm$^2$/s.\n",
      "The diffusion coefficient is 6.294132352941176 $\\times 10^{-5}$ cm$^2$/s.\n",
      "The diffusion coefficient is 3.749100490196078 $\\times 10^{-5}$ cm$^2$/s.\n",
      "The diffusion coefficient is 3.4775710784313736 $\\times 10^{-5}$ cm$^2$/s.\n",
      "The diffusion coefficient is 3.2909607843137256 $\\times 10^{-5}$ cm$^2$/s.\n",
      "The diffusion coefficient is 4.530401960784314 $\\times 10^{-5}$ cm$^2$/s.\n",
      "The diffusion coefficient is 3.0491176470588233 $\\times 10^{-5}$ cm$^2$/s.\n",
      "The diffusion coefficient is 4.235686274509804 $\\times 10^{-5}$ cm$^2$/s.\n",
      "The diffusion coefficient is 3.0140612745098045 $\\times 10^{-5}$ cm$^2$/s.\n",
      "The diffusion coefficient is 2.9471299019607846 $\\times 10^{-5}$ cm$^2$/s.\n",
      "The diffusion coefficient is 3.970009803921568 $\\times 10^{-5}$ cm$^2$/s.\n",
      "The diffusion coefficient is 5.74052205882353 $\\times 10^{-5}$ cm$^2$/s.\n",
      "The diffusion coefficient is 6.099151960784313 $\\times 10^{-5}$ cm$^2$/s.\n",
      "The diffusion coefficient is 5.705529411764706 $\\times 10^{-5}$ cm$^2$/s.\n",
      "The diffusion coefficient is 4.358963235294118 $\\times 10^{-5}$ cm$^2$/s.\n",
      "The diffusion coefficient is 2.5698676470588238 $\\times 10^{-5}$ cm$^2$/s.\n",
      "The diffusion coefficient is 2.9508823529411767 $\\times 10^{-5}$ cm$^2$/s.\n",
      "The diffusion coefficient is 3.7626813725490194 $\\times 10^{-5}$ cm$^2$/s.\n",
      "The diffusion coefficient is 3.8617107843137255 $\\times 10^{-5}$ cm$^2$/s.\n",
      "The diffusion coefficient is 2.4452892156862744 $\\times 10^{-5}$ cm$^2$/s.\n",
      "The diffusion coefficient is 2.536303921568628 $\\times 10^{-5}$ cm$^2$/s.\n",
      "The diffusion coefficient is 3.286397058823529 $\\times 10^{-5}$ cm$^2$/s.\n",
      "The diffusion coefficient is 2.3858308823529413 $\\times 10^{-5}$ cm$^2$/s.\n",
      "The diffusion coefficient is 2.1696544117647063 $\\times 10^{-5}$ cm$^2$/s.\n",
      "The diffusion coefficient is 4.2896004901960785 $\\times 10^{-5}$ cm$^2$/s.\n",
      "The diffusion coefficient is 4.6752254901960795 $\\times 10^{-5}$ cm$^2$/s.\n",
      "The diffusion coefficient is 3.7024534313725495 $\\times 10^{-5}$ cm$^2$/s.\n",
      "The diffusion coefficient is 3.670875 $\\times 10^{-5}$ cm$^2$/s.\n",
      "The diffusion coefficient is 5.310529411764706 $\\times 10^{-5}$ cm$^2$/s.\n"
     ]
    }
   ],
   "source": [
    "# test 8, iwrap off, com removal off... \n",
    "dir = 'sample-data/dave-opc-test8'\n",
    "trajectories = sorted(glob.glob(dir + '/traj.nve.*'))\n",
    "Ds = np.empty((len(trajectories)))\n",
    "for trajectory in trajectories:\n",
    "    # diffusion(dir + '/full.topo', trajectory, 1 )\n",
    "    # print('Trajectory {} out of {}'.format(trajectories.index(trajectory), len(trajectories)))\n",
    "    Ds[trajectories.index(trajectory)] = diffusion('sample-data/dave-opc-test/full.topo', trajectory, 1, plot=False)"
   ]
  },
  {
   "cell_type": "code",
   "execution_count": 56,
   "metadata": {
    "collapsed": false
   },
   "outputs": [
    {
     "data": {
      "image/png": "[encoded data removed]",
      "text/plain": [
       "<matplotlib.figure.Figure at 0x7f806fb2bb70>"
      ]
     },
     "metadata": {},
     "output_type": "display_data"
    }
   ],
   "source": [
    "def gauss(x, *p):\n",
    "    A, mu, sigma = p\n",
    "    return A*np.exp(-(x-mu)**2/(2.*sigma**2))\n",
    "\n",
    "p0 = [1., 0., 1.]\n",
    "\n",
    "from scipy.optimize import curve_fit\n",
    "\n",
    "fig = plt.figure(figsize=(8,6))\n",
    "ax = fig.add_subplot(111)\n",
    "hist, bins = np.histogram(Ds, bins=20)\n",
    "width = 1.0 * (bins[1] - bins[0])\n",
    "center = (bins[:-1] + bins[1:]) / 2\n",
    "\n",
    "coeff, var_matrix = curve_fit(gauss, center, hist, p0=p0)\n",
    "fit_points = np.linspace(1.8, 3.0, 50)\n",
    "hist_fit = gauss(fit_points, *coeff)\n",
    "\n",
    "\n",
    "plt.bar(center, hist, align='center', width=width, edgecolor=None, lw=0, color='orange')\n",
    "plt.axvline(x = 2.3, c='k', ls='-', lw=0.5)\n",
    "plt.axvline(x = 2.3 - 0.02, c='k', ls='--', lw=0.5)\n",
    "plt.axvline(x = 2.3 + 0.02, c='k', ls='--', lw=0.5)\n",
    "# plt.plot(fit_points, hist_fit, c='r')\n",
    "plt.xlabel(r'Diffusion coefficient of OPC water ($\\times 10^{-5}$ cm$^2$/s)')\n",
    "plt.ylabel('Count (out of 101 NVE simulations)')\n",
    "ax.annotate('Onufriev with uncertainty', size=16, xy=(2.3 + 0.002, 1), xytext=(2.35, 1), arrowprops = dict(arrowstyle='simple'))\n",
    "ax.set_title(r'Gaussian fit = {0:0.2f}$\\pm$ {1:0.2f}, data = {2:0.2f}$\\pm${3:0.2f}, Onufriev  = 2.3 $\\pm$ 0.002'.\n",
    "          format(coeff[1], coeff[2], np.mean(Ds), sc.stats.sem(Ds)), y=1.05)\n",
    "plt.show()"
   ]
  },
  {
   "cell_type": "code",
   "execution_count": 59,
   "metadata": {
    "collapsed": false
   },
   "outputs": [
    {
     "name": "stdout",
     "output_type": "stream",
     "text": [
      "The diffusion coefficient is 5.312026960784313 $\\times 10^{-5}$ cm$^2$/s.\n",
      "The diffusion coefficient is 5.624740196078432 $\\times 10^{-5}$ cm$^2$/s.\n",
      "The diffusion coefficient is 5.783264705882353 $\\times 10^{-5}$ cm$^2$/s.\n",
      "The diffusion coefficient is 5.461960784313725 $\\times 10^{-5}$ cm$^2$/s.\n",
      "The diffusion coefficient is 5.987659313725491 $\\times 10^{-5}$ cm$^2$/s.\n",
      "The diffusion coefficient is 5.583529411764706 $\\times 10^{-5}$ cm$^2$/s.\n",
      "The diffusion coefficient is 5.310843137254903 $\\times 10^{-5}$ cm$^2$/s.\n",
      "The diffusion coefficient is 5.296872549019608 $\\times 10^{-5}$ cm$^2$/s.\n",
      "The diffusion coefficient is 5.876556372549019 $\\times 10^{-5}$ cm$^2$/s.\n",
      "The diffusion coefficient is 5.339102941176471 $\\times 10^{-5}$ cm$^2$/s.\n",
      "The diffusion coefficient is 5.143840686274509 $\\times 10^{-5}$ cm$^2$/s.\n",
      "The diffusion coefficient is 5.225938725490197 $\\times 10^{-5}$ cm$^2$/s.\n",
      "The diffusion coefficient is 5.712188725490196 $\\times 10^{-5}$ cm$^2$/s.\n",
      "The diffusion coefficient is 5.44580637254902 $\\times 10^{-5}$ cm$^2$/s.\n",
      "The diffusion coefficient is 5.5337475490196075 $\\times 10^{-5}$ cm$^2$/s.\n",
      "The diffusion coefficient is 5.812691176470589 $\\times 10^{-5}$ cm$^2$/s.\n",
      "The diffusion coefficient is 5.159279411764706 $\\times 10^{-5}$ cm$^2$/s.\n",
      "The diffusion coefficient is 5.409786764705883 $\\times 10^{-5}$ cm$^2$/s.\n",
      "The diffusion coefficient is 5.677404411764705 $\\times 10^{-5}$ cm$^2$/s.\n",
      "The diffusion coefficient is 5.912174019607844 $\\times 10^{-5}$ cm$^2$/s.\n",
      "The diffusion coefficient is 5.615860294117646 $\\times 10^{-5}$ cm$^2$/s.\n",
      "The diffusion coefficient is 5.254438725490197 $\\times 10^{-5}$ cm$^2$/s.\n",
      "The diffusion coefficient is 5.654367647058824 $\\times 10^{-5}$ cm$^2$/s.\n",
      "The diffusion coefficient is 5.880460784313726 $\\times 10^{-5}$ cm$^2$/s.\n",
      "The diffusion coefficient is 5.375193627450981 $\\times 10^{-5}$ cm$^2$/s.\n",
      "The diffusion coefficient is 5.43411274509804 $\\times 10^{-5}$ cm$^2$/s.\n",
      "The diffusion coefficient is 5.550671568627451 $\\times 10^{-5}$ cm$^2$/s.\n",
      "The diffusion coefficient is 5.410041666666666 $\\times 10^{-5}$ cm$^2$/s.\n",
      "The diffusion coefficient is 5.869303921568627 $\\times 10^{-5}$ cm$^2$/s.\n",
      "The diffusion coefficient is 5.30447549019608 $\\times 10^{-5}$ cm$^2$/s.\n",
      "The diffusion coefficient is 5.850085784313726 $\\times 10^{-5}$ cm$^2$/s.\n",
      "The diffusion coefficient is 5.516879901960784 $\\times 10^{-5}$ cm$^2$/s.\n",
      "The diffusion coefficient is 5.657963235294118 $\\times 10^{-5}$ cm$^2$/s.\n",
      "The diffusion coefficient is 6.037382352941177 $\\times 10^{-5}$ cm$^2$/s.\n",
      "The diffusion coefficient is 5.666727941176472 $\\times 10^{-5}$ cm$^2$/s.\n",
      "The diffusion coefficient is 5.646865196078433 $\\times 10^{-5}$ cm$^2$/s.\n",
      "The diffusion coefficient is 4.782877450980393 $\\times 10^{-5}$ cm$^2$/s.\n",
      "The diffusion coefficient is 5.994151960784314 $\\times 10^{-5}$ cm$^2$/s.\n",
      "The diffusion coefficient is 6.488715686274509 $\\times 10^{-5}$ cm$^2$/s.\n",
      "The diffusion coefficient is 6.103875000000001 $\\times 10^{-5}$ cm$^2$/s.\n",
      "The diffusion coefficient is 4.905698529411765 $\\times 10^{-5}$ cm$^2$/s.\n",
      "The diffusion coefficient is 5.279137254901961 $\\times 10^{-5}$ cm$^2$/s.\n",
      "The diffusion coefficient is 5.333879901960785 $\\times 10^{-5}$ cm$^2$/s.\n",
      "The diffusion coefficient is 5.769075980392157 $\\times 10^{-5}$ cm$^2$/s.\n",
      "The diffusion coefficient is 5.8575098039215705 $\\times 10^{-5}$ cm$^2$/s.\n",
      "The diffusion coefficient is 5.654901960784313 $\\times 10^{-5}$ cm$^2$/s.\n",
      "The diffusion coefficient is 6.0332622549019606 $\\times 10^{-5}$ cm$^2$/s.\n",
      "The diffusion coefficient is 5.104791666666667 $\\times 10^{-5}$ cm$^2$/s.\n",
      "The diffusion coefficient is 5.306740196078431 $\\times 10^{-5}$ cm$^2$/s.\n",
      "The diffusion coefficient is 5.449355392156862 $\\times 10^{-5}$ cm$^2$/s.\n",
      "The diffusion coefficient is 5.332424019607843 $\\times 10^{-5}$ cm$^2$/s.\n",
      "The diffusion coefficient is 5.430774509803923 $\\times 10^{-5}$ cm$^2$/s.\n",
      "The diffusion coefficient is 5.188676470588235 $\\times 10^{-5}$ cm$^2$/s.\n",
      "The diffusion coefficient is 5.282433823529413 $\\times 10^{-5}$ cm$^2$/s.\n",
      "The diffusion coefficient is 5.155274509803921 $\\times 10^{-5}$ cm$^2$/s.\n",
      "The diffusion coefficient is 5.794188725490196 $\\times 10^{-5}$ cm$^2$/s.\n",
      "The diffusion coefficient is 5.472732843137255 $\\times 10^{-5}$ cm$^2$/s.\n",
      "The diffusion coefficient is 5.285813725490196 $\\times 10^{-5}$ cm$^2$/s.\n",
      "The diffusion coefficient is 5.814139705882353 $\\times 10^{-5}$ cm$^2$/s.\n",
      "The diffusion coefficient is 6.0059313725490195 $\\times 10^{-5}$ cm$^2$/s.\n",
      "The diffusion coefficient is 5.466901960784314 $\\times 10^{-5}$ cm$^2$/s.\n",
      "The diffusion coefficient is 6.525289215686275 $\\times 10^{-5}$ cm$^2$/s.\n",
      "The diffusion coefficient is 5.65132843137255 $\\times 10^{-5}$ cm$^2$/s.\n",
      "The diffusion coefficient is 4.795321078431373 $\\times 10^{-5}$ cm$^2$/s.\n",
      "The diffusion coefficient is 5.980924019607844 $\\times 10^{-5}$ cm$^2$/s.\n",
      "The diffusion coefficient is 5.537426470588237 $\\times 10^{-5}$ cm$^2$/s.\n",
      "The diffusion coefficient is 5.300017156862745 $\\times 10^{-5}$ cm$^2$/s.\n",
      "The diffusion coefficient is 6.082291666666666 $\\times 10^{-5}$ cm$^2$/s.\n",
      "The diffusion coefficient is 5.469242647058824 $\\times 10^{-5}$ cm$^2$/s.\n",
      "The diffusion coefficient is 5.898441176470588 $\\times 10^{-5}$ cm$^2$/s.\n",
      "The diffusion coefficient is 5.099953431372549 $\\times 10^{-5}$ cm$^2$/s.\n",
      "The diffusion coefficient is 5.6131593137254905 $\\times 10^{-5}$ cm$^2$/s.\n",
      "The diffusion coefficient is 5.474004901960784 $\\times 10^{-5}$ cm$^2$/s.\n",
      "The diffusion coefficient is 5.503607843137256 $\\times 10^{-5}$ cm$^2$/s.\n",
      "The diffusion coefficient is 6.295330882352943 $\\times 10^{-5}$ cm$^2$/s.\n",
      "The diffusion coefficient is 5.875796568627451 $\\times 10^{-5}$ cm$^2$/s.\n",
      "The diffusion coefficient is 5.332115196078431 $\\times 10^{-5}$ cm$^2$/s.\n",
      "The diffusion coefficient is 5.505573529411766 $\\times 10^{-5}$ cm$^2$/s.\n",
      "The diffusion coefficient is 5.77589705882353 $\\times 10^{-5}$ cm$^2$/s.\n",
      "The diffusion coefficient is 5.595992647058824 $\\times 10^{-5}$ cm$^2$/s.\n",
      "The diffusion coefficient is 5.4640073529411755 $\\times 10^{-5}$ cm$^2$/s.\n",
      "The diffusion coefficient is 5.973700980392159 $\\times 10^{-5}$ cm$^2$/s.\n",
      "The diffusion coefficient is 5.154345588235294 $\\times 10^{-5}$ cm$^2$/s.\n",
      "The diffusion coefficient is 5.385026960784314 $\\times 10^{-5}$ cm$^2$/s.\n",
      "The diffusion coefficient is 5.238838235294118 $\\times 10^{-5}$ cm$^2$/s.\n",
      "The diffusion coefficient is 5.7677916666666675 $\\times 10^{-5}$ cm$^2$/s.\n",
      "The diffusion coefficient is 5.365438725490196 $\\times 10^{-5}$ cm$^2$/s.\n",
      "The diffusion coefficient is 5.353544117647058 $\\times 10^{-5}$ cm$^2$/s.\n",
      "The diffusion coefficient is 5.7855098039215695 $\\times 10^{-5}$ cm$^2$/s.\n",
      "The diffusion coefficient is 5.729522058823529 $\\times 10^{-5}$ cm$^2$/s.\n",
      "The diffusion coefficient is 5.461703431372549 $\\times 10^{-5}$ cm$^2$/s.\n",
      "The diffusion coefficient is 5.7288700980392155 $\\times 10^{-5}$ cm$^2$/s.\n",
      "The diffusion coefficient is 5.806340686274509 $\\times 10^{-5}$ cm$^2$/s.\n",
      "The diffusion coefficient is 5.719789215686275 $\\times 10^{-5}$ cm$^2$/s.\n",
      "The diffusion coefficient is 5.961007352941176 $\\times 10^{-5}$ cm$^2$/s.\n",
      "The diffusion coefficient is 5.360686274509804 $\\times 10^{-5}$ cm$^2$/s.\n",
      "The diffusion coefficient is 6.482401960784313 $\\times 10^{-5}$ cm$^2$/s.\n",
      "The diffusion coefficient is 5.6874142156862755 $\\times 10^{-5}$ cm$^2$/s.\n",
      "The diffusion coefficient is 5.500068627450982 $\\times 10^{-5}$ cm$^2$/s.\n",
      "The diffusion coefficient is 4.679482843137255 $\\times 10^{-5}$ cm$^2$/s.\n",
      "The diffusion coefficient is 5.382718137254903 $\\times 10^{-5}$ cm$^2$/s.\n"
     ]
    }
   ],
   "source": [
    "# test 8, iwrap off, com removal off... \n",
    "dir = 'sample-data/dave-tp3-test2'\n",
    "trajectories = sorted(glob.glob(dir + '/traj.nve.*'))\n",
    "Ds = np.empty((len(trajectories)))\n",
    "for trajectory in trajectories:\n",
    "    # diffusion(dir + '/full.topo', trajectory, 1 )\n",
    "    # print('Trajectory {} out of {}'.format(trajectories.index(trajectory), len(trajectories)))\n",
    "    Ds[trajectories.index(trajectory)] = diffusion('sample-data/dave-tp3-test2/full.topo', trajectory, 1, plot=False)"
   ]
  },
  {
   "cell_type": "code",
   "execution_count": 61,
   "metadata": {
    "collapsed": false
   },
   "outputs": [
    {
     "data": {
      "image/png": "[encoded data removed]",
      "text/plain": [
       "<matplotlib.figure.Figure at 0x7f806fb77438>"
      ]
     },
     "metadata": {},
     "output_type": "display_data"
    }
   ],
   "source": [
    "def gauss(x, *p):\n",
    "    A, mu, sigma = p\n",
    "    return A*np.exp(-(x-mu)**2/(2.*sigma**2))\n",
    "\n",
    "p0 = [1., 0., 1.]\n",
    "\n",
    "from scipy.optimize import curve_fit\n",
    "\n",
    "fig = plt.figure(figsize=(8,6))\n",
    "ax = fig.add_subplot(111)\n",
    "hist, bins = np.histogram(Ds, bins=20)\n",
    "width = 1.0 * (bins[1] - bins[0])\n",
    "center = (bins[:-1] + bins[1:]) / 2\n",
    "\n",
    "\n",
    "\n",
    "plt.bar(center, hist, align='center', width=width, edgecolor=None, lw=0, color='orange')\n",
    "# plt.plot(fit_points, hist_fit, c='r')\n",
    "plt.xlabel(r'Diffusion coefficient of OPC water ($\\times 10^{-5}$ cm$^2$/s)')\n",
    "plt.ylabel('Count (out of 101 NVE simulations)')\n",
    "ax.annotate('Onufriev with uncertainty', size=16, xy=(2.3 + 0.002, 1), xytext=(2.35, 1), arrowprops = dict(arrowstyle='simple'))\n",
    "ax.set_title(r'Gaussian fit = {0:0.2f}$\\pm$ {1:0.2f}, data = {2:0.2f}$\\pm${3:0.2f}, Onufriev  = 2.3 $\\pm$ 0.002'.\n",
    "          format(coeff[1], coeff[2], np.mean(Ds), sc.stats.sem(Ds)), y=1.05)\n",
    "plt.show()"
   ]
  },
  {
   "cell_type": "code",
   "execution_count": null,
   "metadata": {
    "collapsed": true
   },
   "outputs": [],
   "source": []
  }
 ],
 "metadata": {
  "anaconda-cloud": {},
  "kernelspec": {
   "display_name": "Python [Root]",
   "language": "python",
   "name": "Python [Root]"
  },
  "language_info": {
   "codemirror_mode": {
    "name": "ipython",
    "version": 3
   },
   "file_extension": ".py",
   "mimetype": "text/x-python",
   "name": "python",
   "nbconvert_exporter": "python",
   "pygments_lexer": "ipython3",
   "version": "3.5.1"
  }
 },
 "nbformat": 4,
 "nbformat_minor": 0
}

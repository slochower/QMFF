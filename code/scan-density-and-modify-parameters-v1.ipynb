{
 "cells": [
  {
   "cell_type": "code",
   "execution_count": 219,
   "metadata": {
    "collapsed": true
   },
   "outputs": [],
   "source": [
    "import os as os\n",
    "import sys as sys\n",
    "import glob as glob\n",
    "import math as math\n",
    "import numpy as np\n",
    "import scipy as sc\n",
    "import subprocess as subprocess\n",
    "import matplotlib as mpl\n",
    "import matplotlib.pyplot as plt\n",
    "%matplotlib inline\n",
    "\n",
    "from numpy import genfromtxt\n",
    "from scipy import stats\n",
    "from functools import reduce\n",
    "from shutil import copyfile\n"
   ]
  },
  {
   "cell_type": "code",
   "execution_count": 15,
   "metadata": {
    "collapsed": false
   },
   "outputs": [],
   "source": [
    "import parmed as pmd\n",
    "import pytraj as pt"
   ]
  },
  {
   "cell_type": "code",
   "execution_count": 16,
   "metadata": {
    "collapsed": false
   },
   "outputs": [
    {
     "data": {
      "text/plain": [
       "'1.0.8.dev0+86bb5af'"
      ]
     },
     "execution_count": 16,
     "metadata": {},
     "output_type": "execute_result"
    }
   ],
   "source": [
    "pt.__version__"
   ]
  },
  {
   "cell_type": "markdown",
   "metadata": {},
   "source": [
    "# Read in sample data for ethanol and calculate the density.\n",
    "\n",
    "I know you can the density directly from the simulation output and indeed, I'm sure that is faster, but for now this is good practice running `cpptraj` in a loop.\n",
    "\n",
    "The experimental value is 0.7893 g cm −3 from CRC (p. 320 of physical constants of organic compounds)."
   ]
  },
  {
   "cell_type": "code",
   "execution_count": 17,
   "metadata": {
    "collapsed": true
   },
   "outputs": [],
   "source": [
    "simulation_directory = '../sample-data/pure-ethanol/'\n",
    "parameter_file       = 'full.topo'\n",
    "trajectory_files     = 'traj.001'\n",
    "dt                   = 10.0  # picoseconds (dt = 0.002 * 5000 steps/frame)"
   ]
  },
  {
   "cell_type": "code",
   "execution_count": 18,
   "metadata": {
    "collapsed": false
   },
   "outputs": [],
   "source": [
    "cpptraj_input = '''\n",
    "parm {0}\n",
    "trajin {1}\n",
    "unwrap\n",
    "diffusion average {2}\n",
    "'''.format(simulation_directory + parameter_file, simulation_directory + trajectory_files, dt)"
   ]
  },
  {
   "cell_type": "markdown",
   "metadata": {},
   "source": [
    "If we wanted to go through `pytraj`, we could load in the trajectory like this, but I think it would be slow:\n",
    "```\n",
    "pt_trajectory = pt.iterload(simulation_directory + trajectory_files, simulation_directory + parameter_file)\n",
    "```\n",
    "And then run `pytraj.all_actions.diffusion(traj, mask='', tstep=1.0, individual=False, top=None, dtype='dataset', frame_indices=None)`."
   ]
  },
  {
   "cell_type": "code",
   "execution_count": 19,
   "metadata": {
    "collapsed": false
   },
   "outputs": [
    {
     "data": {
      "text/plain": [
       "CpptrajState, include:\n",
       "<datasetlist: 11 datasets>"
      ]
     },
     "execution_count": 19,
     "metadata": {},
     "output_type": "execute_result"
    }
   ],
   "source": [
    "state = pt.load_cpptraj_state(cpptraj_input)\n",
    "state.run()"
   ]
  },
  {
   "cell_type": "code",
   "execution_count": 20,
   "metadata": {
    "collapsed": false
   },
   "outputs": [
    {
     "data": {
      "text/plain": [
       "array([ 13.0378217 ,  13.37186875,  13.1838143 ,  12.55778204])"
      ]
     },
     "execution_count": 20,
     "metadata": {},
     "output_type": "execute_result"
    }
   ],
   "source": [
    "state.data['average[D]'].values"
   ]
  },
  {
   "cell_type": "code",
   "execution_count": 21,
   "metadata": {
    "collapsed": false
   },
   "outputs": [
    {
     "name": "stdout",
     "output_type": "stream",
     "text": [
      "<pytraj.datasets.DatasetTopology: size=9000, key=full.topo> \n",
      "<pytraj.datasets.DatasetDouble: size=100, key=average[X]> \n",
      "values: \n",
      "[   0.            5.22245717    8.80575599 ...,  266.33497171  273.66801782\n",
      "  274.99426381]\n",
      "<pytraj.datasets.DatasetDouble: size=100, key=average[Y]> \n",
      "values: \n",
      "[   0.            4.94090717    8.41001025 ...,  264.37018608  269.65782134\n",
      "  269.72946968]\n",
      "<pytraj.datasets.DatasetDouble: size=100, key=average[Z]> \n",
      "values: \n",
      "[   0.            4.88053531    7.5625751  ...,  249.20578938  251.57853079\n",
      "  250.97566634]\n",
      "<pytraj.datasets.DatasetDouble: size=100, key=average[R]> \n",
      "values: \n",
      "[   0.           15.04389965   24.77834133 ...,  779.91094717  794.90436995\n",
      "  795.69939983]\n",
      "<pytraj.datasets.DatasetDouble: size=100, key=average[A]> \n",
      "values: \n",
      "[  0.           3.87864663   4.97778478 ...,  27.92688574  28.19404848\n",
      "  28.20814421]\n",
      "<pytraj.datasets.DatasetDouble: size=4, key=average[D]> \n",
      "values: \n",
      "[ 13.0378217   13.37186875  13.1838143   12.55778204]\n",
      "<pytraj.datasets.DatasetString: size=4, key=average[Label]> \n",
      "values: \n",
      "['average_AvgDr' 'average_AvgDx' 'average_AvgDy' 'average_AvgDz']\n",
      "<pytraj.datasets.DatasetDouble: size=4, key=average[Slope]> \n",
      "values: \n",
      "[ 7.82269302  2.67437375  2.63676286  2.51155641]\n",
      "<pytraj.datasets.DatasetDouble: size=4, key=average[Intercept]> \n",
      "values: \n",
      "[ 4.87721824 -2.84396358  0.35238171  7.36880011]\n",
      "<pytraj.datasets.DatasetDouble: size=4, key=average[Corr]> \n",
      "values: \n",
      "[ 0.99970768  0.99842915  0.99884208  0.99877857]\n"
     ]
    }
   ],
   "source": [
    "for dataset in state.data:\n",
    "    print(dataset)"
   ]
  },
  {
   "cell_type": "code",
   "execution_count": 100,
   "metadata": {
    "collapsed": true
   },
   "outputs": [],
   "source": [
    "pt_trajectory = pt.iterload(simulation_directory + trajectory_files, simulation_directory + parameter_file)"
   ]
  },
  {
   "cell_type": "code",
   "execution_count": 45,
   "metadata": {
    "collapsed": false,
    "scrolled": true
   },
   "outputs": [
    {
     "data": {
      "text/plain": [
       "<Box: ortho, (x, y, z, alpha, beta, gamma) = (46.18144632963842, 46.182443253221905, 46.18344017680542, 90.0, 90.0, 90.0)>"
      ]
     },
     "execution_count": 45,
     "metadata": {},
     "output_type": "execute_result"
    }
   ],
   "source": [
    "frame = pt_trajectory[0]\n",
    "frame.box"
   ]
  },
  {
   "cell_type": "code",
   "execution_count": 59,
   "metadata": {
    "collapsed": false
   },
   "outputs": [],
   "source": [
    "x_values = pt.density(pt_trajectory, density_type = 'mass', delta = 0.25, direction = 'z')['z']\n",
    "density_series = pt.density(pt_trajectory, density_type = 'mass', delta = 0.25, direction = 'z')['*']"
   ]
  },
  {
   "cell_type": "code",
   "execution_count": 60,
   "metadata": {
    "collapsed": false
   },
   "outputs": [
    {
     "name": "stdout",
     "output_type": "stream",
     "text": [
      "[ 0.44352  1.08864  5.0752  ...,  5.62944  0.92736  0.16128]\n"
     ]
    }
   ],
   "source": [
    "print(density_series[1:-1])"
   ]
  },
  {
   "cell_type": "code",
   "execution_count": 61,
   "metadata": {
    "collapsed": false
   },
   "outputs": [
    {
     "data": {
      "text/plain": [
       "[<matplotlib.lines.Line2D at 0x7f101113bdd8>]"
      ]
     },
     "execution_count": 61,
     "metadata": {},
     "output_type": "execute_result"
    },
    {
     "data": {
      "image/png": "[encoded data removed]",
      "text/plain": [
       "<matplotlib.figure.Figure at 0x7f10111a80b8>"
      ]
     },
     "metadata": {},
     "output_type": "display_data"
    }
   ],
   "source": [
    "plt.plot(x_values, density_series)"
   ]
  },
  {
   "cell_type": "code",
   "execution_count": 43,
   "metadata": {
    "collapsed": false
   },
   "outputs": [
    {
     "data": {
      "text/plain": [
       "OrderedDict([('*',\n",
       "              array([   0.        ,    6.13676757,  986.83191944,    4.55324459,    0.        ])),\n",
       "             ('sd(*)',\n",
       "              array([  0.        ,  65.43506531,  83.43054338,  75.13803612,   0.        ])),\n",
       "             ('y',\n",
       "              array([ -69.27366488,  -23.09122163,   23.09122163,   69.27366488,\n",
       "                      115.45610813]))])"
      ]
     },
     "execution_count": 43,
     "metadata": {},
     "output_type": "execute_result"
    }
   ],
   "source": [
    "pt.density(pt_trajectory, density_type = 'mass', delta = frame.box[1], direction = 'y')"
   ]
  },
  {
   "cell_type": "code",
   "execution_count": 44,
   "metadata": {
    "collapsed": false
   },
   "outputs": [
    {
     "data": {
      "text/plain": [
       "OrderedDict([('*',\n",
       "              array([   0.        ,    6.44587928,  986.56245238,    4.49206727,    0.        ])),\n",
       "             ('sd(*)',\n",
       "              array([  0.        ,  69.28637766,  77.77169486,  57.71537174,   0.        ])),\n",
       "             ('z',\n",
       "              array([ -69.27516027,  -23.09172009,   23.09172009,   69.27516027,\n",
       "                      115.45860044]))])"
      ]
     },
     "execution_count": 44,
     "metadata": {},
     "output_type": "execute_result"
    }
   ],
   "source": [
    "pt.density(pt_trajectory, density_type = 'mass', delta = frame.box[2], direction = 'z')"
   ]
  },
  {
   "cell_type": "code",
   "execution_count": 103,
   "metadata": {
    "collapsed": false
   },
   "outputs": [
    {
     "data": {
      "text/plain": [
       "array([ 0.01015241,  0.01020376,  0.01045001, ...,  0.01035352,\n",
       "        0.01022501,  0.01035067])"
      ]
     },
     "execution_count": 103,
     "metadata": {},
     "output_type": "execute_result"
    }
   ],
   "source": [
    "pt_trajectory.topology.n_residues / pt.volume(pt_trajectory)"
   ]
  },
  {
   "cell_type": "code",
   "execution_count": 124,
   "metadata": {
    "collapsed": false
   },
   "outputs": [
    {
     "data": {
      "text/plain": [
       "array([ 0.77638428,  0.78031119,  0.7991426 , ...,  0.79176336,\n",
       "        0.78193615,  0.79154588])"
      ]
     },
     "execution_count": 124,
     "metadata": {},
     "output_type": "execute_result"
    }
   ],
   "source": [
    "(np.sum(pt_trajectory.topology.mass) * 1.66) / pt.volume(pt_trajectory) # 1.66 gram/amu"
   ]
  },
  {
   "cell_type": "code",
   "execution_count": 126,
   "metadata": {
    "collapsed": false
   },
   "outputs": [
    {
     "data": {
      "text/plain": [
       "[<matplotlib.lines.Line2D at 0x7f100fae14e0>]"
      ]
     },
     "execution_count": 126,
     "metadata": {},
     "output_type": "execute_result"
    },
    {
     "data": {
      "image/png": "[encoded data removed]",
      "text/plain": [
       "<matplotlib.figure.Figure at 0x7f100fb10940>"
      ]
     },
     "metadata": {},
     "output_type": "display_data"
    }
   ],
   "source": [
    "plt.plot((np.sum(pt_trajectory.topology.mass) * 1.66) / pt.volume(pt_trajectory))"
   ]
  },
  {
   "cell_type": "code",
   "execution_count": 191,
   "metadata": {
    "collapsed": false
   },
   "outputs": [],
   "source": [
    "parameters = pmd.load_file(simulation_directory + parameter_file)"
   ]
  },
  {
   "cell_type": "code",
   "execution_count": 192,
   "metadata": {
    "collapsed": false
   },
   "outputs": [
    {
     "data": {
      "text/plain": [
       "{'c3': 1, 'h1': 4, 'hc': 3, 'ho': 5, 'oh': 2}"
      ]
     },
     "execution_count": 192,
     "metadata": {},
     "output_type": "execute_result"
    }
   ],
   "source": [
    "parameters.LJ_types"
   ]
  },
  {
   "cell_type": "code",
   "execution_count": 193,
   "metadata": {
    "collapsed": false
   },
   "outputs": [
    {
     "data": {
      "text/plain": [
       "1.9080000000152688"
      ]
     },
     "execution_count": 193,
     "metadata": {},
     "output_type": "execute_result"
    }
   ],
   "source": [
    "parameters.LJ_radius[0]"
   ]
  },
  {
   "cell_type": "code",
   "execution_count": 194,
   "metadata": {
    "collapsed": false
   },
   "outputs": [
    {
     "data": {
      "text/plain": [
       "0.10939999991572774"
      ]
     },
     "execution_count": 194,
     "metadata": {},
     "output_type": "execute_result"
    }
   ],
   "source": [
    "parameters.LJ_depth[0]"
   ]
  },
  {
   "cell_type": "code",
   "execution_count": 195,
   "metadata": {
    "collapsed": false
   },
   "outputs": [],
   "source": [
    "# changeLJSingleType <mask> <radius> <depth>"
   ]
  },
  {
   "cell_type": "code",
   "execution_count": 196,
   "metadata": {
    "collapsed": false
   },
   "outputs": [],
   "source": [
    "from parmed.tools import changeLJSingleType"
   ]
  },
  {
   "cell_type": "code",
   "execution_count": 197,
   "metadata": {
    "collapsed": false
   },
   "outputs": [],
   "source": [
    "action = changeLJSingleType(parameters, \"@%c3\", parameters.LJ_radius[0], 0.12)"
   ]
  },
  {
   "cell_type": "code",
   "execution_count": 198,
   "metadata": {
    "collapsed": false
   },
   "outputs": [],
   "source": [
    "action.execute()"
   ]
  },
  {
   "cell_type": "code",
   "execution_count": 199,
   "metadata": {
    "collapsed": false
   },
   "outputs": [
    {
     "name": "stdout",
     "output_type": "stream",
     "text": [
      "Changing @%c3 Lennard-Jones well depth from 0.1094 to 0.1200 (kal/mol) and radius from 1.9080 to 1.9080 (Angstroms)\n"
     ]
    }
   ],
   "source": [
    "print(str(action))"
   ]
  },
  {
   "cell_type": "code",
   "execution_count": 200,
   "metadata": {
    "collapsed": true
   },
   "outputs": [],
   "source": [
    "# Outparm"
   ]
  },
  {
   "cell_type": "code",
   "execution_count": 201,
   "metadata": {
    "collapsed": true
   },
   "outputs": [],
   "source": [
    "from parmed.tools import outparm, parmout"
   ]
  },
  {
   "cell_type": "code",
   "execution_count": 205,
   "metadata": {
    "collapsed": false
   },
   "outputs": [],
   "source": [
    "parameters.save(\"test.prmtop\")"
   ]
  },
  {
   "cell_type": "code",
   "execution_count": 161,
   "metadata": {
    "collapsed": true
   },
   "outputs": [],
   "source": [
    "# Add LJType seems incorrect! It just adds another line in the prmtop."
   ]
  },
  {
   "cell_type": "code",
   "execution_count": 423,
   "metadata": {
    "collapsed": false
   },
   "outputs": [],
   "source": [
    "def get_density(parameter_file, trajectory_files, experimental):\n",
    "    pt_trajectory = pt.iterload(trajectory_files, parameter_file)\n",
    "    density = np.mean((np.sum(pt_trajectory.topology.mass) * 1.660539040) / pt.volume(pt_trajectory)) # 1.66 gram/amu\n",
    "    return experimental - density"
   ]
  },
  {
   "cell_type": "code",
   "execution_count": 442,
   "metadata": {
    "collapsed": false
   },
   "outputs": [],
   "source": [
    "# def write_parameters(simulation_directory, parameter_file, parameter_step):\n",
    "#     parameters = pmd.load_file(simulation_directory + parameter_file)\n",
    "#     action = changeLJSingleType(parameters, \"@%c3\", parameters.LJ_radius[0], parameters.LJ_depth[0] + parameter_step)\n",
    "#     action.execute()\n",
    "#     print(str(action))\n",
    "#     parameters.save('parameters-c3-depth-{}.prmtop'.format(parameters.LJ_depth[0] + parameter_step))\n",
    "#     return parameters.LJ_depth[0] + parameter_step, 'parameters-c3-depth-{}.prmtop'.format(parameters.LJ_depth[0] + parameter_step)"
   ]
  },
  {
   "cell_type": "code",
   "execution_count": 462,
   "metadata": {
    "collapsed": false
   },
   "outputs": [],
   "source": [
    "def write_parameters(simulation_directory, parameter_file, value):\n",
    "    print(value[0])\n",
    "    parameters = pmd.load_file(simulation_directory + parameter_file)\n",
    "    action = changeLJSingleType(parameters, \"@%c3\", parameters.LJ_radius[0], value[0])\n",
    "    action.execute()\n",
    "    try:\n",
    "        parameters.save('parameters-c3-depth-{}.prmtop'.format(value[0]))\n",
    "    except:\n",
    "        # the parameters already exist\n",
    "        pass\n",
    "    return value, 'parameters-c3-depth-{}.prmtop'.format(value[0])"
   ]
  },
  {
   "cell_type": "code",
   "execution_count": 463,
   "metadata": {
    "collapsed": false
   },
   "outputs": [],
   "source": [
    "def prepare_simulation_files(parameter_file):\n",
    "    mdin_text = '''\n",
    "Production, NPT, ? ns (super short for testing)\n",
    "&cntrl\n",
    "  ntx=1,\n",
    "  ntc=2,\n",
    "  ntf=2,\n",
    "  dt=0.002,\n",
    "  nstlim=500,\n",
    "  cut=8.0,\n",
    "  temp0=298.16,\n",
    "  iwrap=1,\n",
    "  ntt=3,\n",
    "  ig=-1,\n",
    "  gamma_ln=2.0,\n",
    "  ntp=1,\n",
    "  barostat=1,\n",
    "  taup=3.0,\n",
    "  ntpr=500,\n",
    "  ntwr=500,\n",
    "  ntxo=2,\n",
    "  ntwx=100,\n",
    "  ioutfm=1,\n",
    "  ntwe=100,\n",
    "/\n",
    "'''\n",
    "    \n",
    "    pmemd_text = '''\n",
    "    #!/usr/bin/env bash\n",
    "    source $AMBERHOME/amber.sh\n",
    "    pmemd -O -p {} -c full.crds -i mdin -o mdout.001 -r rst.001 -x traj.001 -e mden.001 -inf mdinfo.001\n",
    "    '''.format(parameter_file)\n",
    "    \n",
    "    # os.mkdir(simulation_directory)\n",
    "    copyfile('../pure-ethanol/full.crds', os.getcwd() + 'full.crds')\n",
    "    file = open('mdin', 'w')\n",
    "    file.write(mdin_text)\n",
    "    file.close()\n",
    "                             \n",
    "    file = open('run.sh' ,'w')\n",
    "    file.write(pmemd_text)\n",
    "    file.close()             "
   ]
  },
  {
   "cell_type": "code",
   "execution_count": 464,
   "metadata": {
    "collapsed": true
   },
   "outputs": [],
   "source": [
    "def run_simulation():\n",
    "    os.system('bash ' + os.getcwd() + '/run.sh')"
   ]
  },
  {
   "cell_type": "code",
   "execution_count": 437,
   "metadata": {
    "collapsed": false,
    "scrolled": true
   },
   "outputs": [
    {
     "name": "stdout",
     "output_type": "stream",
     "text": [
      "Changing @%c3 Lennard-Jones well depth from 0.1094 to 0.0094 (kal/mol) and radius from 1.9080 to 1.9080 (Angstroms)\n",
      "0.0651054815779\n",
      "Changing @%c3 Lennard-Jones well depth from 0.1094 to 0.0294 (kal/mol) and radius from 1.9080 to 1.9080 (Angstroms)\n",
      "0.0645526845412\n",
      "Changing @%c3 Lennard-Jones well depth from 0.1094 to 0.0494 (kal/mol) and radius from 1.9080 to 1.9080 (Angstroms)\n",
      "0.0641984075195\n",
      "Changing @%c3 Lennard-Jones well depth from 0.1094 to 0.0694 (kal/mol) and radius from 1.9080 to 1.9080 (Angstroms)\n",
      "0.0640210034205\n",
      "Changing @%c3 Lennard-Jones well depth from 0.1094 to 0.0894 (kal/mol) and radius from 1.9080 to 1.9080 (Angstroms)\n",
      "0.0625459530198\n",
      "Changing @%c3 Lennard-Jones well depth from 0.1094 to 0.1094 (kal/mol) and radius from 1.9080 to 1.9080 (Angstroms)\n",
      "0.0616126070518\n",
      "Changing @%c3 Lennard-Jones well depth from 0.1094 to 0.1294 (kal/mol) and radius from 1.9080 to 1.9080 (Angstroms)\n",
      "0.0609485637293\n",
      "Changing @%c3 Lennard-Jones well depth from 0.1094 to 0.1494 (kal/mol) and radius from 1.9080 to 1.9080 (Angstroms)\n",
      "0.0603888416181\n",
      "Changing @%c3 Lennard-Jones well depth from 0.1094 to 0.1694 (kal/mol) and radius from 1.9080 to 1.9080 (Angstroms)\n",
      "0.0594843772798\n",
      "Changing @%c3 Lennard-Jones well depth from 0.1094 to 0.1894 (kal/mol) and radius from 1.9080 to 1.9080 (Angstroms)\n",
      "0.0586763270639\n"
     ]
    },
    {
     "data": {
      "image/png": "[encoded data removed]",
      "text/plain": [
       "<matplotlib.figure.Figure at 0x7f0feb971048>"
      ]
     },
     "metadata": {},
     "output_type": "display_data"
    }
   ],
   "source": [
    "sample_data_directory = '../pure-ethanol/'\n",
    "sample_parameters = 'full.topo'\n",
    "sample_trajectory = 'traj.001'\n",
    "new_simulation_root_directory = '../sample-data/loop/'\n",
    "\n",
    "fig = plt.figure()\n",
    "ax = fig.add_subplot(111)\n",
    "\n",
    "for increment in np.arange(-0.1, 0.1, 0.02):\n",
    "    os.chdir('/home/dslochower/data/projects/QMFF/sample-data/loop/')\n",
    "    LJ_depth, new_parameter_file = write_parameters(sample_data_directory, sample_parameters, increment)\n",
    "    prepare_simulation_files(new_parameter_file)\n",
    "    run_simulation()\n",
    "    print(get_density(new_parameter_file, 'traj.001', 0.7893))\n",
    "    ax.scatter(LJ_depth, get_density(new_parameter_file, 'traj.001', 0.7893))"
   ]
  },
  {
   "cell_type": "code",
   "execution_count": 441,
   "metadata": {
    "collapsed": false
   },
   "outputs": [
    {
     "data": {
      "text/plain": [
       "'2.5.1+94.g1348a5e'"
      ]
     },
     "execution_count": 441,
     "metadata": {},
     "output_type": "execute_result"
    }
   ],
   "source": [
    "pmd.__version__"
   ]
  },
  {
   "cell_type": "code",
   "execution_count": 450,
   "metadata": {
    "collapsed": true
   },
   "outputs": [],
   "source": [
    "def run_optimize(value):\n",
    "    os.chdir('/home/dslochower/data/projects/QMFF/sample-data/loop/')\n",
    "    LJ_depth, new_parameter_file = write_parameters(sample_data_directory, sample_parameters, value)\n",
    "    prepare_simulation_files(new_parameter_file)\n",
    "    run_simulation()\n",
    "    return get_density(new_parameter_file, 'traj.001', 0.7893)"
   ]
  },
  {
   "cell_type": "code",
   "execution_count": 451,
   "metadata": {
    "collapsed": true
   },
   "outputs": [],
   "source": [
    "import scipy.optimize"
   ]
  },
  {
   "cell_type": "code",
   "execution_count": 465,
   "metadata": {
    "collapsed": false,
    "scrolled": false
   },
   "outputs": [
    {
     "name": "stdout",
     "output_type": "stream",
     "text": [
      "0.05\n",
      "0.0525\n",
      "0.055\n",
      "0.05125\n",
      "0.05125\n",
      "0.05375\n",
      "0.051875\n",
      "0.051875\n",
      "0.053125\n",
      "0.0521875\n",
      "0.0521875\n",
      "0.0528125\n",
      "0.05234375\n",
      "0.05234375\n",
      "0.0521875\n",
      "0.052421875\n",
      "0.052421875\n",
      "Optimization terminated successfully.\n",
      "         Current function value: 0.063770\n",
      "         Iterations: 6\n",
      "         Function evaluations: 17\n"
     ]
    },
    {
     "data": {
      "text/plain": [
       "array([ 0.05234375])"
      ]
     },
     "execution_count": 465,
     "metadata": {},
     "output_type": "execute_result"
    }
   ],
   "source": [
    "sc.optimize.fmin(run_optimize, 0.05)"
   ]
  },
  {
   "cell_type": "code",
   "execution_count": null,
   "metadata": {
    "collapsed": true
   },
   "outputs": [],
   "source": []
  }
 ],
 "metadata": {
  "anaconda-cloud": {},
  "kernelspec": {
   "display_name": "Python [Root]",
   "language": "python",
   "name": "Python [Root]"
  },
  "language_info": {
   "codemirror_mode": {
    "name": "ipython",
    "version": 3
   },
   "file_extension": ".py",
   "mimetype": "text/x-python",
   "name": "python",
   "nbconvert_exporter": "python",
   "pygments_lexer": "ipython3",
   "version": "3.5.1"
  }
 },
 "nbformat": 4,
 "nbformat_minor": 0
}

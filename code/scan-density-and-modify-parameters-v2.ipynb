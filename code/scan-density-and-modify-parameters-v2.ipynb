{
 "cells": [
  {
   "cell_type": "code",
   "execution_count": 20,
   "metadata": {
    "collapsed": false
   },
   "outputs": [],
   "source": [
    "import os as os\n",
    "import sys as sys\n",
    "import glob as glob\n",
    "import math as math\n",
    "import numpy as np\n",
    "import scipy as sc\n",
    "import subprocess as subprocess\n",
    "import matplotlib as mpl\n",
    "import matplotlib.pyplot as plt\n",
    "%matplotlib inline\n",
    "\n",
    "from numpy import genfromtxt\n",
    "from scipy import stats\n",
    "from functools import reduce\n",
    "from shutil import copyfile\n",
    "%load_ext autoreload\n",
    "%autoreload 2"
   ]
  },
  {
   "cell_type": "code",
   "execution_count": 15,
   "metadata": {
    "collapsed": false
   },
   "outputs": [
    {
     "name": "stdout",
     "output_type": "stream",
     "text": [
      "2.5.1+94.g1348a5e\n",
      "1.0.8.dev0+86bb5af\n"
     ]
    }
   ],
   "source": [
    "import parmed as pmd\n",
    "import pytraj as pt\n",
    "print(pmd.__version__)\n",
    "print(pt.__version__)"
   ]
  },
  {
   "cell_type": "code",
   "execution_count": 1,
   "metadata": {
    "collapsed": true
   },
   "outputs": [],
   "source": [
    "simulation_directory = '../sample-data/pure-ethanol/'\n",
    "parameter_file       = 'full.topo'\n",
    "trajectory_file      = 'traj.001'\n",
    "dt                   = 10.0  # picoseconds (dt = 0.002 * 5000 steps/frame)\n",
    "experimental_density = 0.7893  # grams per cm**3"
   ]
  },
  {
   "cell_type": "code",
   "execution_count": 10,
   "metadata": {
    "collapsed": false
   },
   "outputs": [
    {
     "name": "stdout",
     "output_type": "stream",
     "text": [
      "modify-parameters.py\r\n",
      "parameters-c3-depth-0.309399999916.prmtop\r\n",
      "prepare-simulation.py\r\n",
      "report-properties.py\r\n",
      "sample-data-optimize-loop.ipynb\r\n",
      "scan-density-and-modify-parameters-v1.ipynb\r\n",
      "scan-density-and-modify-parameters-v2.ipynb\r\n",
      "simulate.py\r\n",
      "test.prmtop\r\n"
     ]
    }
   ],
   "source": []
  },
  {
   "cell_type": "code",
   "execution_count": 67,
   "metadata": {
    "collapsed": false
   },
   "outputs": [],
   "source": [
    "from modify import *\n",
    "from prepare import *\n",
    "from properties import *\n",
    "from simulate import *"
   ]
  },
  {
   "cell_type": "code",
   "execution_count": 78,
   "metadata": {
    "collapsed": false
   },
   "outputs": [
    {
     "name": "stdout",
     "output_type": "stream",
     "text": [
      "Problem linking the parameter file: parameters-c3-LJ_radius-0.0.prmtop\n",
      "../qmff-explorations/density/ethanol-loop/traj.001\n",
      "Density = 0.6596294793939389 +/- 0.004824923103791556\n",
      "../qmff-explorations/density/ethanol-loop/traj.001\n",
      "Density = 0.7323077918786132 +/- 0.0010575616707173786\n"
     ]
    }
   ],
   "source": [
    "reference_parameter_file = '../sample-data/pure-ethanol/full.topo'\n",
    "reference_parameters = pmd.load_file(reference_parameter_file)\n",
    "# These two parameters can be linked.\n",
    "atom = '@%c3'\n",
    "prop = 'LJ_radius[0]'\n",
    "reference_simulation_directory = '../qmff-explorations/density/'\n",
    "reference_mdin_file = 'mdin-10ps'\n",
    "reference_coordinate_file = 'full.crds'\n",
    "reference_parameter_file = 'full.topo'\n",
    "this_simulation_directory = '../qmff-explorations/density/ethanol-loop/'\n",
    "\n",
    "for increment in np.arange(0, 0.2, 0.1):\n",
    "    \n",
    "    new_parameters = manipulate_lj(reference_parameters, atom, prop, increment)\n",
    "    prepare_simulation_files(reference_simulation_directory, this_simulation_directory,\n",
    "                            reference_mdin_file, reference_coordinate_file, new_parameters)\n",
    "    simulate(this_simulation_directory, new_parameters)\n",
    "    difference = get_density(this_simulation_directory + new_parameters, this_simulation_directory + 'traj.001', experimental_density)"
   ]
  },
  {
   "cell_type": "code",
   "execution_count": 107,
   "metadata": {
    "collapsed": false
   },
   "outputs": [
    {
     "name": "stderr",
     "output_type": "stream",
     "text": [
      "[autoreload of properties failed: Traceback (most recent call last):\n",
      "  File \"/home/dslochower/anaconda3/lib/python3.5/site-packages/IPython/extensions/autoreload.py\", line 247, in check\n",
      "    superreload(m, reload, self.old_objects)\n",
      "  File \"/run/media/dslochower/data/projects/QMFF/code/properties.py\", line 20\n",
      "    return abs(experimental - density_mean)\n",
      "         ^\n",
      "IndentationError: expected an indented block\n",
      "]\n"
     ]
    }
   ],
   "source": [
    "def run_optimize(value):\n",
    "    print(value[0])\n",
    "    new_parameters = manipulate_lj(reference_parameters, atom, prop, value[0])\n",
    "    prepare_simulation_files(reference_simulation_directory, this_simulation_directory,\n",
    "                            reference_mdin_file, reference_coordinate_file, new_parameters)\n",
    "    simulate(this_simulation_directory, new_parameters)\n",
    "    return get_density(this_simulation_directory + new_parameters, this_simulation_directory + 'traj.001', experimental_density)"
   ]
  },
  {
   "cell_type": "code",
   "execution_count": 108,
   "metadata": {
    "collapsed": false,
    "scrolled": true
   },
   "outputs": [
    {
     "name": "stdout",
     "output_type": "stream",
     "text": [
      "0.05\n",
      "Problem linking the parameter file: parameters-c3-LJ_radius-0.05.prmtop\n",
      "Density = 0.7023857385828074 +/- 0.0014620536533793314\n",
      "0.0500000149012\n",
      "Problem linking the parameter file: parameters-c3-LJ_radius-0.0500000149011612.prmtop\n",
      "Density = 0.7024583559669925 +/- 0.0014230845079020945\n",
      "0.05\n",
      "Problem linking the parameter file: parameters-c3-LJ_radius-0.05.prmtop\n",
      "Density = 0.7023903362775651 +/- 0.0014742644583891629\n",
      "4873.32015931\n"
     ]
    },
    {
     "ename": "TypeError",
     "evalue": "unsupported operand type(s) for /: 'float' and 'NoneType'",
     "output_type": "error",
     "traceback": [
      "\u001b[1;31m---------------------------------------------------------------------------\u001b[0m",
      "\u001b[1;31mTypeError\u001b[0m                                 Traceback (most recent call last)",
      "\u001b[1;32m<ipython-input-108-0bb82b36f870>\u001b[0m in \u001b[0;36m<module>\u001b[1;34m()\u001b[0m\n\u001b[1;32m----> 1\u001b[1;33m \u001b[0msc\u001b[0m\u001b[1;33m.\u001b[0m\u001b[0moptimize\u001b[0m\u001b[1;33m.\u001b[0m\u001b[0mbasinhopping\u001b[0m\u001b[1;33m(\u001b[0m\u001b[0mrun_optimize\u001b[0m\u001b[1;33m,\u001b[0m \u001b[1;36m0.05\u001b[0m\u001b[1;33m)\u001b[0m\u001b[1;33m\u001b[0m\u001b[0m\n\u001b[0m",
      "\u001b[1;32m/home/dslochower/anaconda3/lib/python3.5/site-packages/scipy/optimize/_basinhopping.py\u001b[0m in \u001b[0;36mbasinhopping\u001b[1;34m(func, x0, niter, T, stepsize, minimizer_kwargs, take_step, accept_test, callback, interval, disp, niter_success)\u001b[0m\n\u001b[0;32m    609\u001b[0m \u001b[1;33m\u001b[0m\u001b[0m\n\u001b[0;32m    610\u001b[0m     bh = BasinHoppingRunner(x0, wrapped_minimizer, take_step_wrapped,\n\u001b[1;32m--> 611\u001b[1;33m                             accept_tests, disp=disp)\n\u001b[0m\u001b[0;32m    612\u001b[0m \u001b[1;33m\u001b[0m\u001b[0m\n\u001b[0;32m    613\u001b[0m     \u001b[1;31m# start main iteration loop\u001b[0m\u001b[1;33m\u001b[0m\u001b[1;33m\u001b[0m\u001b[0m\n",
      "\u001b[1;32m/home/dslochower/anaconda3/lib/python3.5/site-packages/scipy/optimize/_basinhopping.py\u001b[0m in \u001b[0;36m__init__\u001b[1;34m(self, x0, minimizer, step_taking, accept_tests, disp)\u001b[0m\n\u001b[0;32m     70\u001b[0m \u001b[1;33m\u001b[0m\u001b[0m\n\u001b[0;32m     71\u001b[0m         \u001b[1;31m# do initial minimization\u001b[0m\u001b[1;33m\u001b[0m\u001b[1;33m\u001b[0m\u001b[0m\n\u001b[1;32m---> 72\u001b[1;33m         \u001b[0mminres\u001b[0m \u001b[1;33m=\u001b[0m \u001b[0mminimizer\u001b[0m\u001b[1;33m(\u001b[0m\u001b[0mself\u001b[0m\u001b[1;33m.\u001b[0m\u001b[0mx\u001b[0m\u001b[1;33m)\u001b[0m\u001b[1;33m\u001b[0m\u001b[0m\n\u001b[0m\u001b[0;32m     73\u001b[0m         \u001b[1;32mif\u001b[0m \u001b[1;32mnot\u001b[0m \u001b[0mminres\u001b[0m\u001b[1;33m.\u001b[0m\u001b[0msuccess\u001b[0m\u001b[1;33m:\u001b[0m\u001b[1;33m\u001b[0m\u001b[0m\n\u001b[0;32m     74\u001b[0m             \u001b[0mself\u001b[0m\u001b[1;33m.\u001b[0m\u001b[0mres\u001b[0m\u001b[1;33m.\u001b[0m\u001b[0mminimization_failures\u001b[0m \u001b[1;33m+=\u001b[0m \u001b[1;36m1\u001b[0m\u001b[1;33m\u001b[0m\u001b[0m\n",
      "\u001b[1;32m/home/dslochower/anaconda3/lib/python3.5/site-packages/scipy/optimize/_basinhopping.py\u001b[0m in \u001b[0;36m__call__\u001b[1;34m(self, x0)\u001b[0m\n\u001b[0;32m    278\u001b[0m             \u001b[1;32mreturn\u001b[0m \u001b[0mself\u001b[0m\u001b[1;33m.\u001b[0m\u001b[0mminimizer\u001b[0m\u001b[1;33m(\u001b[0m\u001b[0mx0\u001b[0m\u001b[1;33m,\u001b[0m \u001b[1;33m**\u001b[0m\u001b[0mself\u001b[0m\u001b[1;33m.\u001b[0m\u001b[0mkwargs\u001b[0m\u001b[1;33m)\u001b[0m\u001b[1;33m\u001b[0m\u001b[0m\n\u001b[0;32m    279\u001b[0m         \u001b[1;32melse\u001b[0m\u001b[1;33m:\u001b[0m\u001b[1;33m\u001b[0m\u001b[0m\n\u001b[1;32m--> 280\u001b[1;33m             \u001b[1;32mreturn\u001b[0m \u001b[0mself\u001b[0m\u001b[1;33m.\u001b[0m\u001b[0mminimizer\u001b[0m\u001b[1;33m(\u001b[0m\u001b[0mself\u001b[0m\u001b[1;33m.\u001b[0m\u001b[0mfunc\u001b[0m\u001b[1;33m,\u001b[0m \u001b[0mx0\u001b[0m\u001b[1;33m,\u001b[0m \u001b[1;33m**\u001b[0m\u001b[0mself\u001b[0m\u001b[1;33m.\u001b[0m\u001b[0mkwargs\u001b[0m\u001b[1;33m)\u001b[0m\u001b[1;33m\u001b[0m\u001b[0m\n\u001b[0m\u001b[0;32m    281\u001b[0m \u001b[1;33m\u001b[0m\u001b[0m\n\u001b[0;32m    282\u001b[0m \u001b[1;33m\u001b[0m\u001b[0m\n",
      "\u001b[1;32m/home/dslochower/anaconda3/lib/python3.5/site-packages/scipy/optimize/_minimize.py\u001b[0m in \u001b[0;36mminimize\u001b[1;34m(fun, x0, args, method, jac, hess, hessp, bounds, constraints, tol, callback, options)\u001b[0m\n\u001b[0;32m    439\u001b[0m         \u001b[1;32mreturn\u001b[0m \u001b[0m_minimize_cg\u001b[0m\u001b[1;33m(\u001b[0m\u001b[0mfun\u001b[0m\u001b[1;33m,\u001b[0m \u001b[0mx0\u001b[0m\u001b[1;33m,\u001b[0m \u001b[0margs\u001b[0m\u001b[1;33m,\u001b[0m \u001b[0mjac\u001b[0m\u001b[1;33m,\u001b[0m \u001b[0mcallback\u001b[0m\u001b[1;33m,\u001b[0m \u001b[1;33m**\u001b[0m\u001b[0moptions\u001b[0m\u001b[1;33m)\u001b[0m\u001b[1;33m\u001b[0m\u001b[0m\n\u001b[0;32m    440\u001b[0m     \u001b[1;32melif\u001b[0m \u001b[0mmeth\u001b[0m \u001b[1;33m==\u001b[0m \u001b[1;34m'bfgs'\u001b[0m\u001b[1;33m:\u001b[0m\u001b[1;33m\u001b[0m\u001b[0m\n\u001b[1;32m--> 441\u001b[1;33m         \u001b[1;32mreturn\u001b[0m \u001b[0m_minimize_bfgs\u001b[0m\u001b[1;33m(\u001b[0m\u001b[0mfun\u001b[0m\u001b[1;33m,\u001b[0m \u001b[0mx0\u001b[0m\u001b[1;33m,\u001b[0m \u001b[0margs\u001b[0m\u001b[1;33m,\u001b[0m \u001b[0mjac\u001b[0m\u001b[1;33m,\u001b[0m \u001b[0mcallback\u001b[0m\u001b[1;33m,\u001b[0m \u001b[1;33m**\u001b[0m\u001b[0moptions\u001b[0m\u001b[1;33m)\u001b[0m\u001b[1;33m\u001b[0m\u001b[0m\n\u001b[0m\u001b[0;32m    442\u001b[0m     \u001b[1;32melif\u001b[0m \u001b[0mmeth\u001b[0m \u001b[1;33m==\u001b[0m \u001b[1;34m'newton-cg'\u001b[0m\u001b[1;33m:\u001b[0m\u001b[1;33m\u001b[0m\u001b[0m\n\u001b[0;32m    443\u001b[0m         return _minimize_newtoncg(fun, x0, args, jac, hess, hessp, callback,\n",
      "\u001b[1;32m/home/dslochower/anaconda3/lib/python3.5/site-packages/scipy/optimize/optimize.py\u001b[0m in \u001b[0;36m_minimize_bfgs\u001b[1;34m(fun, x0, args, jac, callback, gtol, norm, eps, maxiter, disp, return_all, **unknown_options)\u001b[0m\n\u001b[0;32m    863\u001b[0m             \u001b[0malpha_k\u001b[0m\u001b[1;33m,\u001b[0m \u001b[0mfc\u001b[0m\u001b[1;33m,\u001b[0m \u001b[0mgc\u001b[0m\u001b[1;33m,\u001b[0m \u001b[0mold_fval\u001b[0m\u001b[1;33m,\u001b[0m \u001b[0mold_old_fval\u001b[0m\u001b[1;33m,\u001b[0m \u001b[0mgfkp1\u001b[0m \u001b[1;33m=\u001b[0m\u001b[0;31m \u001b[0m\u001b[0;31m\\\u001b[0m\u001b[1;33m\u001b[0m\u001b[0m\n\u001b[0;32m    864\u001b[0m                      _line_search_wolfe12(f, myfprime, xk, pk, gfk,\n\u001b[1;32m--> 865\u001b[1;33m                                           old_fval, old_old_fval)\n\u001b[0m\u001b[0;32m    866\u001b[0m         \u001b[1;32mexcept\u001b[0m \u001b[0m_LineSearchError\u001b[0m\u001b[1;33m:\u001b[0m\u001b[1;33m\u001b[0m\u001b[0m\n\u001b[0;32m    867\u001b[0m             \u001b[1;31m# Line search failed to find a better solution.\u001b[0m\u001b[1;33m\u001b[0m\u001b[1;33m\u001b[0m\u001b[0m\n",
      "\u001b[1;32m/home/dslochower/anaconda3/lib/python3.5/site-packages/scipy/optimize/optimize.py\u001b[0m in \u001b[0;36m_line_search_wolfe12\u001b[1;34m(f, fprime, xk, pk, gfk, old_fval, old_old_fval, **kwargs)\u001b[0m\n\u001b[0;32m    697\u001b[0m     ret = line_search_wolfe1(f, fprime, xk, pk, gfk,\n\u001b[0;32m    698\u001b[0m                              \u001b[0mold_fval\u001b[0m\u001b[1;33m,\u001b[0m \u001b[0mold_old_fval\u001b[0m\u001b[1;33m,\u001b[0m\u001b[1;33m\u001b[0m\u001b[0m\n\u001b[1;32m--> 699\u001b[1;33m                              **kwargs)\n\u001b[0m\u001b[0;32m    700\u001b[0m \u001b[1;33m\u001b[0m\u001b[0m\n\u001b[0;32m    701\u001b[0m     \u001b[1;32mif\u001b[0m \u001b[0mret\u001b[0m\u001b[1;33m[\u001b[0m\u001b[1;36m0\u001b[0m\u001b[1;33m]\u001b[0m \u001b[1;32mis\u001b[0m \u001b[1;32mNone\u001b[0m\u001b[1;33m:\u001b[0m\u001b[1;33m\u001b[0m\u001b[0m\n",
      "\u001b[1;32m/home/dslochower/anaconda3/lib/python3.5/site-packages/scipy/optimize/linesearch.py\u001b[0m in \u001b[0;36mline_search_wolfe1\u001b[1;34m(f, fprime, xk, pk, gfk, old_fval, old_old_fval, args, c1, c2, amax, amin, xtol)\u001b[0m\n\u001b[0;32m     99\u001b[0m     stp, fval, old_fval = scalar_search_wolfe1(\n\u001b[0;32m    100\u001b[0m             \u001b[0mphi\u001b[0m\u001b[1;33m,\u001b[0m \u001b[0mderphi\u001b[0m\u001b[1;33m,\u001b[0m \u001b[0mold_fval\u001b[0m\u001b[1;33m,\u001b[0m \u001b[0mold_old_fval\u001b[0m\u001b[1;33m,\u001b[0m \u001b[0mderphi0\u001b[0m\u001b[1;33m,\u001b[0m\u001b[1;33m\u001b[0m\u001b[0m\n\u001b[1;32m--> 101\u001b[1;33m             c1=c1, c2=c2, amax=amax, amin=amin, xtol=xtol)\n\u001b[0m\u001b[0;32m    102\u001b[0m \u001b[1;33m\u001b[0m\u001b[0m\n\u001b[0;32m    103\u001b[0m     \u001b[1;32mreturn\u001b[0m \u001b[0mstp\u001b[0m\u001b[1;33m,\u001b[0m \u001b[0mfc\u001b[0m\u001b[1;33m[\u001b[0m\u001b[1;36m0\u001b[0m\u001b[1;33m]\u001b[0m\u001b[1;33m,\u001b[0m \u001b[0mgc\u001b[0m\u001b[1;33m[\u001b[0m\u001b[1;36m0\u001b[0m\u001b[1;33m]\u001b[0m\u001b[1;33m,\u001b[0m \u001b[0mfval\u001b[0m\u001b[1;33m,\u001b[0m \u001b[0mold_fval\u001b[0m\u001b[1;33m,\u001b[0m \u001b[0mgval\u001b[0m\u001b[1;33m[\u001b[0m\u001b[1;36m0\u001b[0m\u001b[1;33m]\u001b[0m\u001b[1;33m\u001b[0m\u001b[0m\n",
      "\u001b[1;32m/home/dslochower/anaconda3/lib/python3.5/site-packages/scipy/optimize/linesearch.py\u001b[0m in \u001b[0;36mscalar_search_wolfe1\u001b[1;34m(phi, derphi, phi0, old_phi0, derphi0, c1, c2, amax, amin, xtol)\u001b[0m\n\u001b[0;32m    172\u001b[0m         \u001b[1;32mif\u001b[0m \u001b[0mtask\u001b[0m\u001b[1;33m[\u001b[0m\u001b[1;33m:\u001b[0m\u001b[1;36m2\u001b[0m\u001b[1;33m]\u001b[0m \u001b[1;33m==\u001b[0m \u001b[1;34mb'FG'\u001b[0m\u001b[1;33m:\u001b[0m\u001b[1;33m\u001b[0m\u001b[0m\n\u001b[0;32m    173\u001b[0m             \u001b[0malpha1\u001b[0m \u001b[1;33m=\u001b[0m \u001b[0mstp\u001b[0m\u001b[1;33m\u001b[0m\u001b[0m\n\u001b[1;32m--> 174\u001b[1;33m             \u001b[0mphi1\u001b[0m \u001b[1;33m=\u001b[0m \u001b[0mphi\u001b[0m\u001b[1;33m(\u001b[0m\u001b[0mstp\u001b[0m\u001b[1;33m)\u001b[0m\u001b[1;33m\u001b[0m\u001b[0m\n\u001b[0m\u001b[0;32m    175\u001b[0m             \u001b[0mderphi1\u001b[0m \u001b[1;33m=\u001b[0m \u001b[0mderphi\u001b[0m\u001b[1;33m(\u001b[0m\u001b[0mstp\u001b[0m\u001b[1;33m)\u001b[0m\u001b[1;33m\u001b[0m\u001b[0m\n\u001b[0;32m    176\u001b[0m         \u001b[1;32melse\u001b[0m\u001b[1;33m:\u001b[0m\u001b[1;33m\u001b[0m\u001b[0m\n",
      "\u001b[1;32m/home/dslochower/anaconda3/lib/python3.5/site-packages/scipy/optimize/linesearch.py\u001b[0m in \u001b[0;36mphi\u001b[1;34m(s)\u001b[0m\n\u001b[0;32m     85\u001b[0m     \u001b[1;32mdef\u001b[0m \u001b[0mphi\u001b[0m\u001b[1;33m(\u001b[0m\u001b[0ms\u001b[0m\u001b[1;33m)\u001b[0m\u001b[1;33m:\u001b[0m\u001b[1;33m\u001b[0m\u001b[0m\n\u001b[0;32m     86\u001b[0m         \u001b[0mfc\u001b[0m\u001b[1;33m[\u001b[0m\u001b[1;36m0\u001b[0m\u001b[1;33m]\u001b[0m \u001b[1;33m+=\u001b[0m \u001b[1;36m1\u001b[0m\u001b[1;33m\u001b[0m\u001b[0m\n\u001b[1;32m---> 87\u001b[1;33m         \u001b[1;32mreturn\u001b[0m \u001b[0mf\u001b[0m\u001b[1;33m(\u001b[0m\u001b[0mxk\u001b[0m \u001b[1;33m+\u001b[0m \u001b[0ms\u001b[0m\u001b[1;33m*\u001b[0m\u001b[0mpk\u001b[0m\u001b[1;33m,\u001b[0m \u001b[1;33m*\u001b[0m\u001b[0margs\u001b[0m\u001b[1;33m)\u001b[0m\u001b[1;33m\u001b[0m\u001b[0m\n\u001b[0m\u001b[0;32m     88\u001b[0m \u001b[1;33m\u001b[0m\u001b[0m\n\u001b[0;32m     89\u001b[0m     \u001b[1;32mdef\u001b[0m \u001b[0mderphi\u001b[0m\u001b[1;33m(\u001b[0m\u001b[0ms\u001b[0m\u001b[1;33m)\u001b[0m\u001b[1;33m:\u001b[0m\u001b[1;33m\u001b[0m\u001b[0m\n",
      "\u001b[1;32m/home/dslochower/anaconda3/lib/python3.5/site-packages/scipy/optimize/optimize.py\u001b[0m in \u001b[0;36mfunction_wrapper\u001b[1;34m(*wrapper_args)\u001b[0m\n\u001b[0;32m    287\u001b[0m     \u001b[1;32mdef\u001b[0m \u001b[0mfunction_wrapper\u001b[0m\u001b[1;33m(\u001b[0m\u001b[1;33m*\u001b[0m\u001b[0mwrapper_args\u001b[0m\u001b[1;33m)\u001b[0m\u001b[1;33m:\u001b[0m\u001b[1;33m\u001b[0m\u001b[0m\n\u001b[0;32m    288\u001b[0m         \u001b[0mncalls\u001b[0m\u001b[1;33m[\u001b[0m\u001b[1;36m0\u001b[0m\u001b[1;33m]\u001b[0m \u001b[1;33m+=\u001b[0m \u001b[1;36m1\u001b[0m\u001b[1;33m\u001b[0m\u001b[0m\n\u001b[1;32m--> 289\u001b[1;33m         \u001b[1;32mreturn\u001b[0m \u001b[0mfunction\u001b[0m\u001b[1;33m(\u001b[0m\u001b[1;33m*\u001b[0m\u001b[1;33m(\u001b[0m\u001b[0mwrapper_args\u001b[0m \u001b[1;33m+\u001b[0m \u001b[0margs\u001b[0m\u001b[1;33m)\u001b[0m\u001b[1;33m)\u001b[0m\u001b[1;33m\u001b[0m\u001b[0m\n\u001b[0m\u001b[0;32m    290\u001b[0m \u001b[1;33m\u001b[0m\u001b[0m\n\u001b[0;32m    291\u001b[0m     \u001b[1;32mreturn\u001b[0m \u001b[0mncalls\u001b[0m\u001b[1;33m,\u001b[0m \u001b[0mfunction_wrapper\u001b[0m\u001b[1;33m\u001b[0m\u001b[0m\n",
      "\u001b[1;32m<ipython-input-107-50698eb333c1>\u001b[0m in \u001b[0;36mrun_optimize\u001b[1;34m(value)\u001b[0m\n\u001b[0;32m      5\u001b[0m                             reference_mdin_file, reference_coordinate_file, new_parameters)\n\u001b[0;32m      6\u001b[0m     \u001b[0msimulate\u001b[0m\u001b[1;33m(\u001b[0m\u001b[0mthis_simulation_directory\u001b[0m\u001b[1;33m,\u001b[0m \u001b[0mnew_parameters\u001b[0m\u001b[1;33m)\u001b[0m\u001b[1;33m\u001b[0m\u001b[0m\n\u001b[1;32m----> 7\u001b[1;33m     \u001b[1;32mreturn\u001b[0m \u001b[0mget_density\u001b[0m\u001b[1;33m(\u001b[0m\u001b[0mthis_simulation_directory\u001b[0m \u001b[1;33m+\u001b[0m \u001b[0mnew_parameters\u001b[0m\u001b[1;33m,\u001b[0m \u001b[0mthis_simulation_directory\u001b[0m \u001b[1;33m+\u001b[0m \u001b[1;34m'traj.001'\u001b[0m\u001b[1;33m,\u001b[0m \u001b[0mexperimental_density\u001b[0m\u001b[1;33m)\u001b[0m\u001b[1;33m\u001b[0m\u001b[0m\n\u001b[0m",
      "\u001b[1;32m/run/media/dslochower/data/projects/QMFF/code/properties.py\u001b[0m in \u001b[0;36mget_density\u001b[1;34m(parameter_file, trajectory_file, experimental, debug)\u001b[0m\n\u001b[0;32m     12\u001b[0m     \u001b[1;31m# 1.66 gram per amu\u001b[0m\u001b[1;33m\u001b[0m\u001b[1;33m\u001b[0m\u001b[0m\n\u001b[0;32m     13\u001b[0m     density_mean = np.mean((np.sum(pt_trajectory.topology.mass) * 1.660539040) /\n\u001b[1;32m---> 14\u001b[1;33m                        pt.volume(pt_trajectory))\n\u001b[0m\u001b[0;32m     15\u001b[0m     density_sem = sc.stats.sem((np.sum(pt_trajectory.topology.mass) * 1.660539040) /\n\u001b[0;32m     16\u001b[0m                        pt.volume(pt_trajectory))\n",
      "\u001b[1;31mTypeError\u001b[0m: unsupported operand type(s) for /: 'float' and 'NoneType'"
     ]
    }
   ],
   "source": [
    "sc.optimize.basinhopping(run_optimize, 0.05)"
   ]
  },
  {
   "cell_type": "code",
   "execution_count": 109,
   "metadata": {
    "collapsed": false,
    "scrolled": true
   },
   "outputs": [
    {
     "name": "stdout",
     "output_type": "stream",
     "text": [
      "0.0920114838885\n",
      "Density = 0.7272277736268962 +/- 0.0007746551182933613\n",
      "0.514428754798\n",
      "Density = 0.8990044193908934 +/- 0.011352923962520326\n",
      "0.417149919329\n",
      "Density = 0.8723585916718548 +/- 0.010350638234331815\n",
      "0.174150081924\n",
      "Density = 0.773918833543497 +/- 0.004412084643008948\n",
      "0.672035597841\n",
      "Density = 0.8950195885242601 +/- 0.014460172178134134\n",
      "0.315064548933\n",
      "Density = 0.8360779313477917 +/- 0.008696260885149586\n",
      "0.947759012201\n",
      "Density = 0.8824831372203613 +/- 0.0180326875546288\n",
      "0.756228574993\n",
      "Density = 0.8886298976070323 +/- 0.01536516180182981\n",
      "0.0347335861062\n",
      "Density = 0.6922680420229128 +/- 0.002147405182071528\n",
      "0.625330603039\n",
      "Density = 0.8957213882251407 +/- 0.013545024988284223\n",
      "0.397870198858\n",
      "Density = 0.8662259433205051 +/- 0.010034078949877262\n",
      "0.234928852315\n",
      "Density = 0.8020436015970651 +/- 0.006362989685581349\n",
      "0.819676112815\n",
      "Density = 0.8892197074885542 +/- 0.01604952350358548\n",
      "0.929179698249\n",
      "Density = 0.8897755969807694 +/- 0.01686352573468168\n",
      "0.568443572236\n",
      "Density = 0.9086558216861866 +/- 0.01147713848996912\n",
      "0.0546671426507\n",
      "Density = 0.7049953835492553 +/- 0.0012557335880801622\n",
      "0.475416556817\n",
      "Density = 0.8810368745809244 +/- 0.01051240913632742\n",
      "0.175591100825\n",
      "Density = 0.7736019877793194 +/- 0.004149466419030702\n",
      "0.622884517863\n",
      "Density = 0.9048253783706451 +/- 0.013073913074454291\n",
      "0.442809919623\n",
      "Density = 0.8848780219779944 +/- 0.011072498618689837\n",
      "0.414052989767\n",
      "Density = 0.8652699191957608 +/- 0.009902933163978587\n",
      "0.0825419597655\n",
      "Density = 0.7215454502798441 +/- 0.0005427570791892718\n",
      "0.520975703666\n",
      "Density = 0.9003768361176674 +/- 0.01149523261743102\n",
      "0.0755523422173\n",
      "Density = 0.7184475146981313 +/- 0.00048524466392671343\n",
      "0.602355170292\n",
      "Density = 0.9054430739805012 +/- 0.013037916898475322\n",
      "0.159983910169\n",
      "Density = 0.767073781510293 +/- 0.0036609110913499525\n",
      "0.0531719873813\n",
      "Density = 0.7050178116702212 +/- 0.0012450258579847248\n",
      "0.798289292425\n",
      "Density = 0.8957258270985856 +/- 0.01569743605100519\n",
      "0.688356965109\n",
      "Density = 0.900604358659126 +/- 0.013988470915963122\n",
      "0.930852333246\n",
      "Density = 0.8800229615443442 +/- 0.01805295198309598\n",
      "0.986391398673\n",
      "Density = 0.8812096378204327 +/- 0.018527367183804596\n",
      "0.899878202308\n",
      "Density = 0.8866397118997847 +/- 0.017251098494824382\n",
      "0.21249521076\n",
      "Density = 0.7936187530809538 +/- 0.005673396004556172\n",
      "0.211076402907\n",
      "Density = 0.7915599049417051 +/- 0.005470446711600984\n",
      "0.435302182333\n",
      "Density = 0.8822413497202983 +/- 0.010868043249979233\n",
      "0.0629522994699\n",
      "Density = 0.7084544115717759 +/- 0.0009837701367583494\n",
      "0.326034299729\n",
      "Problem executing the MD run script.\n"
     ]
    },
    {
     "ename": "RuntimeError",
     "evalue": "n_atoms = 0: make sure to load correct Topology filename or load supported topology (pdb, amber parm, psf, ...)",
     "output_type": "error",
     "traceback": [
      "\u001b[1;31m---------------------------------------------------------------------------\u001b[0m",
      "\u001b[1;31mRuntimeError\u001b[0m                              Traceback (most recent call last)",
      "\u001b[1;32m<ipython-input-109-fdbef3d55867>\u001b[0m in \u001b[0;36m<module>\u001b[1;34m()\u001b[0m\n\u001b[1;32m----> 1\u001b[1;33m \u001b[0msc\u001b[0m\u001b[1;33m.\u001b[0m\u001b[0moptimize\u001b[0m\u001b[1;33m.\u001b[0m\u001b[0mdifferential_evolution\u001b[0m\u001b[1;33m(\u001b[0m\u001b[0mrun_optimize\u001b[0m\u001b[1;33m,\u001b[0m \u001b[1;33m[\u001b[0m\u001b[1;33m(\u001b[0m\u001b[1;36m0\u001b[0m\u001b[1;33m,\u001b[0m \u001b[1;36m1\u001b[0m\u001b[1;33m)\u001b[0m\u001b[1;33m]\u001b[0m\u001b[1;33m)\u001b[0m\u001b[1;33m\u001b[0m\u001b[0m\n\u001b[0m",
      "\u001b[1;32m/home/dslochower/anaconda3/lib/python3.5/site-packages/scipy/optimize/_differentialevolution.py\u001b[0m in \u001b[0;36mdifferential_evolution\u001b[1;34m(func, bounds, args, strategy, maxiter, popsize, tol, mutation, recombination, seed, callback, disp, polish, init)\u001b[0m\n\u001b[0;32m    204\u001b[0m                                          \u001b[0mdisp\u001b[0m\u001b[1;33m=\u001b[0m\u001b[0mdisp\u001b[0m\u001b[1;33m,\u001b[0m\u001b[1;33m\u001b[0m\u001b[0m\n\u001b[0;32m    205\u001b[0m                                          init=init)\n\u001b[1;32m--> 206\u001b[1;33m     \u001b[1;32mreturn\u001b[0m \u001b[0msolver\u001b[0m\u001b[1;33m.\u001b[0m\u001b[0msolve\u001b[0m\u001b[1;33m(\u001b[0m\u001b[1;33m)\u001b[0m\u001b[1;33m\u001b[0m\u001b[0m\n\u001b[0m\u001b[0;32m    207\u001b[0m \u001b[1;33m\u001b[0m\u001b[0m\n\u001b[0;32m    208\u001b[0m \u001b[1;33m\u001b[0m\u001b[0m\n",
      "\u001b[1;32m/home/dslochower/anaconda3/lib/python3.5/site-packages/scipy/optimize/_differentialevolution.py\u001b[0m in \u001b[0;36msolve\u001b[1;34m(self)\u001b[0m\n\u001b[0;32m    518\u001b[0m \u001b[1;33m\u001b[0m\u001b[0m\n\u001b[0;32m    519\u001b[0m                 \u001b[1;31m# determine the energy of the objective function\u001b[0m\u001b[1;33m\u001b[0m\u001b[1;33m\u001b[0m\u001b[0m\n\u001b[1;32m--> 520\u001b[1;33m                 \u001b[0menergy\u001b[0m \u001b[1;33m=\u001b[0m \u001b[0mself\u001b[0m\u001b[1;33m.\u001b[0m\u001b[0mfunc\u001b[0m\u001b[1;33m(\u001b[0m\u001b[0mparameters\u001b[0m\u001b[1;33m,\u001b[0m \u001b[1;33m*\u001b[0m\u001b[0mself\u001b[0m\u001b[1;33m.\u001b[0m\u001b[0margs\u001b[0m\u001b[1;33m)\u001b[0m\u001b[1;33m\u001b[0m\u001b[0m\n\u001b[0m\u001b[0;32m    521\u001b[0m                 \u001b[0mnfev\u001b[0m \u001b[1;33m+=\u001b[0m \u001b[1;36m1\u001b[0m\u001b[1;33m\u001b[0m\u001b[0m\n\u001b[0;32m    522\u001b[0m \u001b[1;33m\u001b[0m\u001b[0m\n",
      "\u001b[1;32m<ipython-input-107-50698eb333c1>\u001b[0m in \u001b[0;36mrun_optimize\u001b[1;34m(value)\u001b[0m\n\u001b[0;32m      5\u001b[0m                             reference_mdin_file, reference_coordinate_file, new_parameters)\n\u001b[0;32m      6\u001b[0m     \u001b[0msimulate\u001b[0m\u001b[1;33m(\u001b[0m\u001b[0mthis_simulation_directory\u001b[0m\u001b[1;33m,\u001b[0m \u001b[0mnew_parameters\u001b[0m\u001b[1;33m)\u001b[0m\u001b[1;33m\u001b[0m\u001b[0m\n\u001b[1;32m----> 7\u001b[1;33m     \u001b[1;32mreturn\u001b[0m \u001b[0mget_density\u001b[0m\u001b[1;33m(\u001b[0m\u001b[0mthis_simulation_directory\u001b[0m \u001b[1;33m+\u001b[0m \u001b[0mnew_parameters\u001b[0m\u001b[1;33m,\u001b[0m \u001b[0mthis_simulation_directory\u001b[0m \u001b[1;33m+\u001b[0m \u001b[1;34m'traj.001'\u001b[0m\u001b[1;33m,\u001b[0m \u001b[0mexperimental_density\u001b[0m\u001b[1;33m)\u001b[0m\u001b[1;33m\u001b[0m\u001b[0m\n\u001b[0m",
      "\u001b[1;32m/run/media/dslochower/data/projects/QMFF/code/properties.py\u001b[0m in \u001b[0;36mget_density\u001b[1;34m(parameter_file, trajectory_file, experimental, debug)\u001b[0m\n\u001b[0;32m      9\u001b[0m     \u001b[1;32mand\u001b[0m \u001b[0mthe\u001b[0m \u001b[0mreference\u001b[0m \u001b[0mdensity\u001b[0m\u001b[1;33m.\u001b[0m\u001b[1;33m\u001b[0m\u001b[0m\n\u001b[0;32m     10\u001b[0m     '''\n\u001b[1;32m---> 11\u001b[1;33m     \u001b[0mpt_trajectory\u001b[0m \u001b[1;33m=\u001b[0m \u001b[0mpt\u001b[0m\u001b[1;33m.\u001b[0m\u001b[0miterload\u001b[0m\u001b[1;33m(\u001b[0m\u001b[0mtrajectory_file\u001b[0m\u001b[1;33m,\u001b[0m \u001b[0mparameter_file\u001b[0m\u001b[1;33m)\u001b[0m\u001b[1;33m\u001b[0m\u001b[0m\n\u001b[0m\u001b[0;32m     12\u001b[0m     \u001b[1;31m# 1.66 gram per amu\u001b[0m\u001b[1;33m\u001b[0m\u001b[1;33m\u001b[0m\u001b[0m\n\u001b[0;32m     13\u001b[0m     density_mean = np.mean((np.sum(pt_trajectory.topology.mass) * 1.660539040) /\n",
      "\u001b[1;32m/home/dslochower/anaconda3/lib/python3.5/site-packages/pytraj-1.0.8.dev0+86bb5af-py3.5-linux-x86_64.egg/pytraj/io.py\u001b[0m in \u001b[0;36miterload\u001b[1;34m(*args, **kwd)\u001b[0m\n\u001b[0;32m    221\u001b[0m         raise ValueError(\n\u001b[0;32m    222\u001b[0m             \"do not support indices for TrajectoryIterator loading\")\n\u001b[1;32m--> 223\u001b[1;33m     \u001b[1;32mreturn\u001b[0m \u001b[0mload_traj\u001b[0m\u001b[1;33m(\u001b[0m\u001b[1;33m*\u001b[0m\u001b[0margs\u001b[0m\u001b[1;33m,\u001b[0m \u001b[1;33m**\u001b[0m\u001b[0mkwd\u001b[0m\u001b[1;33m)\u001b[0m\u001b[1;33m\u001b[0m\u001b[0m\n\u001b[0m\u001b[0;32m    224\u001b[0m \u001b[1;33m\u001b[0m\u001b[0m\n\u001b[0;32m    225\u001b[0m \u001b[1;33m\u001b[0m\u001b[0m\n",
      "\u001b[1;32m/home/dslochower/anaconda3/lib/python3.5/site-packages/pytraj-1.0.8.dev0+86bb5af-py3.5-linux-x86_64.egg/pytraj/io.py\u001b[0m in \u001b[0;36mload_traj\u001b[1;34m(filename, top, *args, **kwd)\u001b[0m\n\u001b[0;32m    240\u001b[0m     \"\"\"\n\u001b[0;32m    241\u001b[0m     \u001b[1;32mif\u001b[0m \u001b[0misinstance\u001b[0m\u001b[1;33m(\u001b[0m\u001b[0mtop\u001b[0m\u001b[1;33m,\u001b[0m \u001b[0mstring_types\u001b[0m\u001b[1;33m)\u001b[0m\u001b[1;33m:\u001b[0m\u001b[1;33m\u001b[0m\u001b[0m\n\u001b[1;32m--> 242\u001b[1;33m         \u001b[0mtop\u001b[0m \u001b[1;33m=\u001b[0m \u001b[0mload_topology\u001b[0m\u001b[1;33m(\u001b[0m\u001b[0mtop\u001b[0m\u001b[1;33m)\u001b[0m\u001b[1;33m\u001b[0m\u001b[0m\n\u001b[0m\u001b[0;32m    243\u001b[0m     \u001b[1;32mif\u001b[0m \u001b[0mtop\u001b[0m \u001b[1;32mis\u001b[0m \u001b[1;32mNone\u001b[0m \u001b[1;32mor\u001b[0m \u001b[0mtop\u001b[0m\u001b[1;33m.\u001b[0m\u001b[0mis_empty\u001b[0m\u001b[1;33m(\u001b[0m\u001b[1;33m)\u001b[0m\u001b[1;33m:\u001b[0m\u001b[1;33m\u001b[0m\u001b[0m\n\u001b[0;32m    244\u001b[0m         \u001b[0mtop\u001b[0m \u001b[1;33m=\u001b[0m \u001b[0mload_topology\u001b[0m\u001b[1;33m(\u001b[0m\u001b[0mfilename\u001b[0m\u001b[1;33m)\u001b[0m\u001b[1;33m\u001b[0m\u001b[0m\n",
      "\u001b[1;32m/home/dslochower/anaconda3/lib/python3.5/site-packages/pytraj-1.0.8.dev0+86bb5af-py3.5-linux-x86_64.egg/pytraj/io.py\u001b[0m in \u001b[0;36mload_topology\u001b[1;34m(filename, option)\u001b[0m\n\u001b[0;32m    527\u001b[0m     \u001b[1;32mif\u001b[0m \u001b[0mtop\u001b[0m\u001b[1;33m.\u001b[0m\u001b[0mn_atoms\u001b[0m \u001b[1;33m==\u001b[0m \u001b[1;36m0\u001b[0m\u001b[1;33m:\u001b[0m\u001b[1;33m\u001b[0m\u001b[0m\n\u001b[0;32m    528\u001b[0m         raise RuntimeError(\n\u001b[1;32m--> 529\u001b[1;33m             \u001b[1;34m'n_atoms = 0: make sure to load correct Topology filename '\u001b[0m\u001b[1;33m\u001b[0m\u001b[0m\n\u001b[0m\u001b[0;32m    530\u001b[0m             'or load supported topology (pdb, amber parm, psf, ...)')\n\u001b[0;32m    531\u001b[0m     \u001b[1;32mreturn\u001b[0m \u001b[0mtop\u001b[0m\u001b[1;33m\u001b[0m\u001b[0m\n",
      "\u001b[1;31mRuntimeError\u001b[0m: n_atoms = 0: make sure to load correct Topology filename or load supported topology (pdb, amber parm, psf, ...)"
     ]
    }
   ],
   "source": [
    "sc.optimize.differential_evolution(run_optimize, [(0, 1)])"
   ]
  },
  {
   "cell_type": "code",
   "execution_count": 113,
   "metadata": {
    "collapsed": false,
    "scrolled": true
   },
   "outputs": [
    {
     "name": "stdout",
     "output_type": "stream",
     "text": [
      "0.05\n",
      "Problem linking the parameter file: parameters-c3-LJ_radius-0.05.prmtop\n",
      "Density = 0.70147513211011 +/- 0.0015336080307375806\n",
      "0.0525\n",
      "Density = 0.7028038221323101 +/- 0.0013998125161990142\n",
      "0.055\n",
      "Density = 0.7042997530894867 +/- 0.0012764555892992677\n",
      "0.0575\n",
      "Density = 0.7075018754433893 +/- 0.0010805655353554988\n",
      "0.0625\n",
      "Density = 0.709645025677117 +/- 0.000952648200456009\n",
      "0.0675\n",
      "Density = 0.7110649657005633 +/- 0.0008435862262555063\n",
      "0.0775\n",
      "Density = 0.7187994116792791 +/- 0.0005072732128984882\n",
      "0.0875\n",
      "Density = 0.724249195203866 +/- 0.0006492487814138987\n",
      "0.1075\n",
      "Density = 0.7350071847769284 +/- 0.0013979634059493233\n",
      "0.1275\n",
      "Density = 0.746931052194802 +/- 0.0022404043651870374\n",
      "0.1675\n",
      "Density = 0.767760278268116 +/- 0.0038796824709513827\n",
      "0.2075\n",
      "Density = 0.7899652435715364 +/- 0.005470643814976673\n",
      "0.2875\n",
      "Density = 0.8274727378760696 +/- 0.008089829729807155\n",
      "0.2475\n",
      "Density = 0.8135677942090181 +/- 0.007132832045245592\n",
      "0.1675\n",
      "Problem linking the parameter file: parameters-c3-LJ_radius-0.16750000000000043.prmtop\n",
      "Density = 0.7690292541646234 +/- 0.003871718696153649\n",
      "0.1875\n",
      "Density = 0.7791282753899494 +/- 0.00473273722466536\n",
      "0.2275\n",
      "Density = 0.8016637135389857 +/- 0.006317242452251231\n",
      "0.1975\n",
      "Density = 0.7860840559346335 +/- 0.004945128340582449\n",
      "0.2175\n",
      "Density = 0.793692143744464 +/- 0.005643956442920926\n",
      "0.2025\n",
      "Density = 0.7899307398962516 +/- 0.005531435984785199\n",
      "0.1975\n",
      "Density = 0.784892322749337 +/- 0.0051132042872037995\n",
      "0.205\n",
      "Density = 0.7886457128533466 +/- 0.005263943384912222\n",
      "0.2\n",
      "Density = 0.7886267792944303 +/- 0.005392415235718058\n",
      "0.20375\n",
      "Density = 0.788943978682018 +/- 0.0053736990121236615\n",
      "0.205\n",
      "Problem linking the parameter file: parameters-c3-LJ_radius-0.20500000000000057.prmtop\n",
      "Density = 0.7893259699449932 +/- 0.005622589627323989\n",
      "0.20625\n",
      "Density = 0.7846912214026076 +/- 0.00505067363710624\n",
      "0.20625\n",
      "Density = 0.7920079244527607 +/- 0.005658763024571771\n",
      "0.204375\n",
      "Density = 0.7880100906284595 +/- 0.0053532359819750425\n",
      "0.204375\n",
      "Problem linking the parameter file: parameters-c3-LJ_radius-0.20437500000000058.prmtop\n",
      "Density = 0.7884072189324921 +/- 0.005349102254493553\n",
      "0.205625\n",
      "Density = 0.7901343383041984 +/- 0.005332806339159158\n",
      "0.2053125\n",
      "Density = 0.7897988921150444 +/- 0.005511990801115785\n",
      "0.2046875\n",
      "Density = 0.7863813348474623 +/- 0.005122467574208987\n",
      "0.20515625\n",
      "Density = 0.7897133989961459 +/- 0.005448405164736485\n",
      "0.20484375\n",
      "Density = 0.7877420664502938 +/- 0.005129339095046211\n",
      "0.205078125\n",
      "Density = 0.7900466260860806 +/- 0.005328222369971768\n",
      "0.205078125\n",
      "Problem linking the parameter file: parameters-c3-LJ_radius-0.20507812500000058.prmtop\n",
      "Density = 0.7862707236647221 +/- 0.005211045281712442\n",
      "0.204921875\n",
      "Density = 0.7866160845687185 +/- 0.005115572200445663\n",
      "0.2049609375\n",
      "Density = 0.7884894325211291 +/- 0.005315482977936537\n",
      "0.2050390625\n",
      "Density = 0.7883508685810259 +/- 0.005367154246156411\n",
      "0.20498046875\n",
      "Density = 0.786791629596415 +/- 0.005218554142981764\n",
      "0.20498046875\n",
      "Problem linking the parameter file: parameters-c3-LJ_radius-0.2049804687500006.prmtop\n",
      "Density = 0.788084869278838 +/- 0.005354615099888428\n",
      "0.20501953125\n",
      "Density = 0.7883277478989945 +/- 0.0052739093655105275\n",
      "0.205009765625\n",
      "Density = 0.7900364895787032 +/- 0.005474007614571271\n",
      "0.204990234375\n",
      "Density = 0.7876223506190816 +/- 0.005344983295161586\n",
      "0.205004882813\n",
      "Density = 0.7888616709518216 +/- 0.005494999999576002\n",
      "0.204995117188\n",
      "Density = 0.7874205929417245 +/- 0.005095515625462988\n",
      "0.205002441406\n",
      "Density = 0.7882916142866583 +/- 0.005220638156917016\n",
      "0.205002441406\n",
      "Problem linking the parameter file: parameters-c3-LJ_radius-0.20500244140625057.prmtop\n",
      "Density = 0.7914078702724382 +/- 0.005469612050348679\n",
      "0.204997558594\n",
      "Density = 0.7873514683452355 +/- 0.0050983026295741566\n",
      "0.204998779297\n",
      "Density = 0.7886227887518864 +/- 0.005442462400722954\n",
      "0.205001220703\n",
      "Density = 0.7877516333746241 +/- 0.005307431769130929\n",
      "0.204999389648\n",
      "Density = 0.788451904911808 +/- 0.005343621637312126\n",
      "0.204999389648\n",
      "Problem linking the parameter file: parameters-c3-LJ_radius-0.20499938964843809.prmtop\n",
      "Density = 0.7894769797978776 +/- 0.0053889242205769055\n",
      "0.205000610352\n",
      "Density = 0.7876814760710544 +/- 0.005313772601486523\n",
      "0.204999694824\n",
      "Density = 0.7888986234534076 +/- 0.005371162670221275\n",
      "0.204999694824\n",
      "Problem linking the parameter file: parameters-c3-LJ_radius-0.20499969482421931.prmtop\n",
      "Density = 0.7907404064739108 +/- 0.005476676940918139\n",
      "0.205000305176\n",
      "Density = 0.787985382169041 +/- 0.00535984652979627\n",
      "0.205000152588\n",
      "Density = 0.7885182396712378 +/- 0.0053016394804240394\n",
      "0.204999847412\n",
      "Density = 0.7899318639647768 +/- 0.005442940139971258\n",
      "0.204999923706\n",
      "Density = 0.7848793690738263 +/- 0.004963181265163917\n",
      "0.205000076294\n",
      "Density = 0.791293620219134 +/- 0.005577771579802746\n",
      "0.204999923706\n",
      "Density = 0.7887321716906034 +/- 0.005520020985625431\n",
      "0.204999961853\n",
      "Density = 0.7888214113762219 +/- 0.0054139474131013375\n",
      "0.205000038147\n",
      "Density = 0.7913007969062597 +/- 0.005543924671463939\n",
      "0.204999980927\n",
      "Density = 0.7866891021970916 +/- 0.005121401406723855\n",
      "0.204999980927\n",
      "Problem linking the parameter file: parameters-c3-LJ_radius-0.20499998092651425.prmtop\n",
      "Density = 0.7901038654127909 +/- 0.005450944526882967\n",
      "0.205000019073\n",
      "Density = 0.7891415519844354 +/- 0.005565064625066987\n",
      "0.205000009537\n",
      "Density = 0.7870743522467998 +/- 0.005158000319305683\n",
      "0.204999990463\n",
      "Density = 0.790784226325265 +/- 0.005575147825730439\n",
      "0.205000009537\n",
      "Problem linking the parameter file: parameters-c3-LJ_radius-0.20500000953674374.prmtop\n",
      "Density = 0.7895690824864002 +/- 0.005362282832931391\n",
      "0.205000004768\n",
      "Density = 0.7905612558103827 +/- 0.0055489998699873614\n",
      "0.204999995232\n",
      "Density = 0.7884674576838496 +/- 0.005369440381031045\n",
      "0.205000004768\n",
      "Density = 0.7896292741544103 +/- 0.005312456434668152\n",
      "0.205000002384\n",
      "Density = 0.7902515608661378 +/- 0.005611213773334721\n",
      "0.204999997616\n",
      "Density = 0.7882794383793587 +/- 0.005468704160124762\n",
      "0.205000002384\n",
      "Density = 0.7885829722807298 +/- 0.005274893923459512\n",
      "0.205000001192\n",
      "Density = 0.789083644973712 +/- 0.0054208085231155015\n",
      "0.204999998808\n",
      "Density = 0.7895740781312159 +/- 0.005536126942188214\n",
      "0.205000000596\n",
      "Density = 0.7902775424138074 +/- 0.005539108196632955\n",
      "0.205000000596\n",
      "Problem linking the parameter file: parameters-c3-LJ_radius-0.20500000059604703.prmtop\n",
      "Density = 0.7841288101790141 +/- 0.004928748477451716\n",
      "0.204999999404\n",
      "Density = 0.7905478610451939 +/- 0.0056197031964078025\n",
      "0.204999999702\n",
      "Density = 0.7890047689081889 +/- 0.005453932552223544\n",
      "0.205000000298\n",
      "Density = 0.7868873546770228 +/- 0.005207211568567846\n",
      "0.204999999851\n",
      "Density = 0.7882277561079138 +/- 0.005389110235876012\n",
      "0.204999999851\n",
      "Problem linking the parameter file: parameters-c3-LJ_radius-0.20499999985098896.prmtop\n",
      "Density = 0.7898339962923389 +/- 0.005346440089682255\n",
      "0.205000000149\n",
      "Density = 0.7887708230877934 +/- 0.0053829394824822935\n",
      "0.205000000075\n",
      "Density = 0.7874615976615656 +/- 0.005314927974604312\n",
      "0.204999999925\n",
      "Density = 0.7863828909492827 +/- 0.005162461523600022\n",
      "0.205000000075\n",
      "Density = 0.7876270919346838 +/- 0.005253712181727273\n",
      "0.205000000037\n",
      "Density = 0.7913704480915571 +/- 0.005472513029616953\n",
      "0.204999999963\n",
      "Density = 0.7883337264953064 +/- 0.005370567374559666\n",
      "0.205000000037\n",
      "Density = 0.7907875104593707 +/- 0.005578683314991093\n",
      "0.204999999981\n",
      "Density = 0.7917742834865568 +/- 0.005578969826260227\n",
      "0.204999999981\n",
      "Problem linking the parameter file: parameters-c3-LJ_radius-0.20499999998137414.prmtop\n",
      "Density = 0.7869054689896618 +/- 0.005217488227049043\n",
      "0.205000000019\n",
      "Density = 0.7908153513664224 +/- 0.005467927647721054\n",
      "0.205000000009\n",
      "Density = 0.7902769181392774 +/- 0.0054107804737629495\n",
      "0.204999999991\n",
      "Density = 0.7849843283787595 +/- 0.005211005592898854\n",
      "0.205000000005\n",
      "Problem executing the MD run script.\n"
     ]
    },
    {
     "ename": "RuntimeError",
     "evalue": "n_atoms = 0: make sure to load correct Topology filename or load supported topology (pdb, amber parm, psf, ...)",
     "output_type": "error",
     "traceback": [
      "\u001b[1;31m---------------------------------------------------------------------------\u001b[0m",
      "\u001b[1;31mRuntimeError\u001b[0m                              Traceback (most recent call last)",
      "\u001b[1;32m<ipython-input-113-87ceca883595>\u001b[0m in \u001b[0;36m<module>\u001b[1;34m()\u001b[0m\n\u001b[1;32m----> 1\u001b[1;33m \u001b[0msc\u001b[0m\u001b[1;33m.\u001b[0m\u001b[0moptimize\u001b[0m\u001b[1;33m.\u001b[0m\u001b[0mfmin\u001b[0m\u001b[1;33m(\u001b[0m\u001b[0mrun_optimize\u001b[0m\u001b[1;33m,\u001b[0m \u001b[1;36m0.05\u001b[0m\u001b[1;33m)\u001b[0m\u001b[1;33m\u001b[0m\u001b[0m\n\u001b[0m",
      "\u001b[1;32m/home/dslochower/anaconda3/lib/python3.5/site-packages/scipy/optimize/optimize.py\u001b[0m in \u001b[0;36mfmin\u001b[1;34m(func, x0, args, xtol, ftol, maxiter, maxfun, full_output, disp, retall, callback)\u001b[0m\n\u001b[0;32m    379\u001b[0m             'return_all': retall}\n\u001b[0;32m    380\u001b[0m \u001b[1;33m\u001b[0m\u001b[0m\n\u001b[1;32m--> 381\u001b[1;33m     \u001b[0mres\u001b[0m \u001b[1;33m=\u001b[0m \u001b[0m_minimize_neldermead\u001b[0m\u001b[1;33m(\u001b[0m\u001b[0mfunc\u001b[0m\u001b[1;33m,\u001b[0m \u001b[0mx0\u001b[0m\u001b[1;33m,\u001b[0m \u001b[0margs\u001b[0m\u001b[1;33m,\u001b[0m \u001b[0mcallback\u001b[0m\u001b[1;33m=\u001b[0m\u001b[0mcallback\u001b[0m\u001b[1;33m,\u001b[0m \u001b[1;33m**\u001b[0m\u001b[0mopts\u001b[0m\u001b[1;33m)\u001b[0m\u001b[1;33m\u001b[0m\u001b[0m\n\u001b[0m\u001b[0;32m    382\u001b[0m     \u001b[1;32mif\u001b[0m \u001b[0mfull_output\u001b[0m\u001b[1;33m:\u001b[0m\u001b[1;33m\u001b[0m\u001b[0m\n\u001b[0;32m    383\u001b[0m         \u001b[0mretlist\u001b[0m \u001b[1;33m=\u001b[0m \u001b[0mres\u001b[0m\u001b[1;33m[\u001b[0m\u001b[1;34m'x'\u001b[0m\u001b[1;33m]\u001b[0m\u001b[1;33m,\u001b[0m \u001b[0mres\u001b[0m\u001b[1;33m[\u001b[0m\u001b[1;34m'fun'\u001b[0m\u001b[1;33m]\u001b[0m\u001b[1;33m,\u001b[0m \u001b[0mres\u001b[0m\u001b[1;33m[\u001b[0m\u001b[1;34m'nit'\u001b[0m\u001b[1;33m]\u001b[0m\u001b[1;33m,\u001b[0m \u001b[0mres\u001b[0m\u001b[1;33m[\u001b[0m\u001b[1;34m'nfev'\u001b[0m\u001b[1;33m]\u001b[0m\u001b[1;33m,\u001b[0m \u001b[0mres\u001b[0m\u001b[1;33m[\u001b[0m\u001b[1;34m'status'\u001b[0m\u001b[1;33m]\u001b[0m\u001b[1;33m\u001b[0m\u001b[0m\n",
      "\u001b[1;32m/home/dslochower/anaconda3/lib/python3.5/site-packages/scipy/optimize/optimize.py\u001b[0m in \u001b[0;36m_minimize_neldermead\u001b[1;34m(func, x0, args, callback, xtol, ftol, maxiter, maxfev, disp, return_all, **unknown_options)\u001b[0m\n\u001b[0;32m    496\u001b[0m                     \u001b[1;31m# Perform an inside contraction\u001b[0m\u001b[1;33m\u001b[0m\u001b[1;33m\u001b[0m\u001b[0m\n\u001b[0;32m    497\u001b[0m                     \u001b[0mxcc\u001b[0m \u001b[1;33m=\u001b[0m \u001b[1;33m(\u001b[0m\u001b[1;36m1\u001b[0m \u001b[1;33m-\u001b[0m \u001b[0mpsi\u001b[0m\u001b[1;33m)\u001b[0m \u001b[1;33m*\u001b[0m \u001b[0mxbar\u001b[0m \u001b[1;33m+\u001b[0m \u001b[0mpsi\u001b[0m \u001b[1;33m*\u001b[0m \u001b[0msim\u001b[0m\u001b[1;33m[\u001b[0m\u001b[1;33m-\u001b[0m\u001b[1;36m1\u001b[0m\u001b[1;33m]\u001b[0m\u001b[1;33m\u001b[0m\u001b[0m\n\u001b[1;32m--> 498\u001b[1;33m                     \u001b[0mfxcc\u001b[0m \u001b[1;33m=\u001b[0m \u001b[0mfunc\u001b[0m\u001b[1;33m(\u001b[0m\u001b[0mxcc\u001b[0m\u001b[1;33m)\u001b[0m\u001b[1;33m\u001b[0m\u001b[0m\n\u001b[0m\u001b[0;32m    499\u001b[0m \u001b[1;33m\u001b[0m\u001b[0m\n\u001b[0;32m    500\u001b[0m                     \u001b[1;32mif\u001b[0m \u001b[0mfxcc\u001b[0m \u001b[1;33m<\u001b[0m \u001b[0mfsim\u001b[0m\u001b[1;33m[\u001b[0m\u001b[1;33m-\u001b[0m\u001b[1;36m1\u001b[0m\u001b[1;33m]\u001b[0m\u001b[1;33m:\u001b[0m\u001b[1;33m\u001b[0m\u001b[0m\n",
      "\u001b[1;32m/home/dslochower/anaconda3/lib/python3.5/site-packages/scipy/optimize/optimize.py\u001b[0m in \u001b[0;36mfunction_wrapper\u001b[1;34m(*wrapper_args)\u001b[0m\n\u001b[0;32m    287\u001b[0m     \u001b[1;32mdef\u001b[0m \u001b[0mfunction_wrapper\u001b[0m\u001b[1;33m(\u001b[0m\u001b[1;33m*\u001b[0m\u001b[0mwrapper_args\u001b[0m\u001b[1;33m)\u001b[0m\u001b[1;33m:\u001b[0m\u001b[1;33m\u001b[0m\u001b[0m\n\u001b[0;32m    288\u001b[0m         \u001b[0mncalls\u001b[0m\u001b[1;33m[\u001b[0m\u001b[1;36m0\u001b[0m\u001b[1;33m]\u001b[0m \u001b[1;33m+=\u001b[0m \u001b[1;36m1\u001b[0m\u001b[1;33m\u001b[0m\u001b[0m\n\u001b[1;32m--> 289\u001b[1;33m         \u001b[1;32mreturn\u001b[0m \u001b[0mfunction\u001b[0m\u001b[1;33m(\u001b[0m\u001b[1;33m*\u001b[0m\u001b[1;33m(\u001b[0m\u001b[0mwrapper_args\u001b[0m \u001b[1;33m+\u001b[0m \u001b[0margs\u001b[0m\u001b[1;33m)\u001b[0m\u001b[1;33m)\u001b[0m\u001b[1;33m\u001b[0m\u001b[0m\n\u001b[0m\u001b[0;32m    290\u001b[0m \u001b[1;33m\u001b[0m\u001b[0m\n\u001b[0;32m    291\u001b[0m     \u001b[1;32mreturn\u001b[0m \u001b[0mncalls\u001b[0m\u001b[1;33m,\u001b[0m \u001b[0mfunction_wrapper\u001b[0m\u001b[1;33m\u001b[0m\u001b[0m\n",
      "\u001b[1;32m<ipython-input-107-50698eb333c1>\u001b[0m in \u001b[0;36mrun_optimize\u001b[1;34m(value)\u001b[0m\n\u001b[0;32m      5\u001b[0m                             reference_mdin_file, reference_coordinate_file, new_parameters)\n\u001b[0;32m      6\u001b[0m     \u001b[0msimulate\u001b[0m\u001b[1;33m(\u001b[0m\u001b[0mthis_simulation_directory\u001b[0m\u001b[1;33m,\u001b[0m \u001b[0mnew_parameters\u001b[0m\u001b[1;33m)\u001b[0m\u001b[1;33m\u001b[0m\u001b[0m\n\u001b[1;32m----> 7\u001b[1;33m     \u001b[1;32mreturn\u001b[0m \u001b[0mget_density\u001b[0m\u001b[1;33m(\u001b[0m\u001b[0mthis_simulation_directory\u001b[0m \u001b[1;33m+\u001b[0m \u001b[0mnew_parameters\u001b[0m\u001b[1;33m,\u001b[0m \u001b[0mthis_simulation_directory\u001b[0m \u001b[1;33m+\u001b[0m \u001b[1;34m'traj.001'\u001b[0m\u001b[1;33m,\u001b[0m \u001b[0mexperimental_density\u001b[0m\u001b[1;33m)\u001b[0m\u001b[1;33m\u001b[0m\u001b[0m\n\u001b[0m",
      "\u001b[1;32m/run/media/dslochower/data/projects/QMFF/code/properties.py\u001b[0m in \u001b[0;36mget_density\u001b[1;34m(parameter_file, trajectory_file, experimental, debug)\u001b[0m\n\u001b[0;32m      9\u001b[0m     \u001b[1;32mand\u001b[0m \u001b[0mthe\u001b[0m \u001b[0mreference\u001b[0m \u001b[0mdensity\u001b[0m\u001b[1;33m.\u001b[0m\u001b[1;33m\u001b[0m\u001b[0m\n\u001b[0;32m     10\u001b[0m     '''\n\u001b[1;32m---> 11\u001b[1;33m     \u001b[0mpt_trajectory\u001b[0m \u001b[1;33m=\u001b[0m \u001b[0mpt\u001b[0m\u001b[1;33m.\u001b[0m\u001b[0miterload\u001b[0m\u001b[1;33m(\u001b[0m\u001b[0mtrajectory_file\u001b[0m\u001b[1;33m,\u001b[0m \u001b[0mparameter_file\u001b[0m\u001b[1;33m)\u001b[0m\u001b[1;33m\u001b[0m\u001b[0m\n\u001b[0m\u001b[0;32m     12\u001b[0m     \u001b[1;31m# 1.66 gram per amu\u001b[0m\u001b[1;33m\u001b[0m\u001b[1;33m\u001b[0m\u001b[0m\n\u001b[0;32m     13\u001b[0m     density_mean = np.mean((np.sum(pt_trajectory.topology.mass) * 1.660539040) /\n",
      "\u001b[1;32m/home/dslochower/anaconda3/lib/python3.5/site-packages/pytraj-1.0.8.dev0+86bb5af-py3.5-linux-x86_64.egg/pytraj/io.py\u001b[0m in \u001b[0;36miterload\u001b[1;34m(*args, **kwd)\u001b[0m\n\u001b[0;32m    221\u001b[0m         raise ValueError(\n\u001b[0;32m    222\u001b[0m             \"do not support indices for TrajectoryIterator loading\")\n\u001b[1;32m--> 223\u001b[1;33m     \u001b[1;32mreturn\u001b[0m \u001b[0mload_traj\u001b[0m\u001b[1;33m(\u001b[0m\u001b[1;33m*\u001b[0m\u001b[0margs\u001b[0m\u001b[1;33m,\u001b[0m \u001b[1;33m**\u001b[0m\u001b[0mkwd\u001b[0m\u001b[1;33m)\u001b[0m\u001b[1;33m\u001b[0m\u001b[0m\n\u001b[0m\u001b[0;32m    224\u001b[0m \u001b[1;33m\u001b[0m\u001b[0m\n\u001b[0;32m    225\u001b[0m \u001b[1;33m\u001b[0m\u001b[0m\n",
      "\u001b[1;32m/home/dslochower/anaconda3/lib/python3.5/site-packages/pytraj-1.0.8.dev0+86bb5af-py3.5-linux-x86_64.egg/pytraj/io.py\u001b[0m in \u001b[0;36mload_traj\u001b[1;34m(filename, top, *args, **kwd)\u001b[0m\n\u001b[0;32m    240\u001b[0m     \"\"\"\n\u001b[0;32m    241\u001b[0m     \u001b[1;32mif\u001b[0m \u001b[0misinstance\u001b[0m\u001b[1;33m(\u001b[0m\u001b[0mtop\u001b[0m\u001b[1;33m,\u001b[0m \u001b[0mstring_types\u001b[0m\u001b[1;33m)\u001b[0m\u001b[1;33m:\u001b[0m\u001b[1;33m\u001b[0m\u001b[0m\n\u001b[1;32m--> 242\u001b[1;33m         \u001b[0mtop\u001b[0m \u001b[1;33m=\u001b[0m \u001b[0mload_topology\u001b[0m\u001b[1;33m(\u001b[0m\u001b[0mtop\u001b[0m\u001b[1;33m)\u001b[0m\u001b[1;33m\u001b[0m\u001b[0m\n\u001b[0m\u001b[0;32m    243\u001b[0m     \u001b[1;32mif\u001b[0m \u001b[0mtop\u001b[0m \u001b[1;32mis\u001b[0m \u001b[1;32mNone\u001b[0m \u001b[1;32mor\u001b[0m \u001b[0mtop\u001b[0m\u001b[1;33m.\u001b[0m\u001b[0mis_empty\u001b[0m\u001b[1;33m(\u001b[0m\u001b[1;33m)\u001b[0m\u001b[1;33m:\u001b[0m\u001b[1;33m\u001b[0m\u001b[0m\n\u001b[0;32m    244\u001b[0m         \u001b[0mtop\u001b[0m \u001b[1;33m=\u001b[0m \u001b[0mload_topology\u001b[0m\u001b[1;33m(\u001b[0m\u001b[0mfilename\u001b[0m\u001b[1;33m)\u001b[0m\u001b[1;33m\u001b[0m\u001b[0m\n",
      "\u001b[1;32m/home/dslochower/anaconda3/lib/python3.5/site-packages/pytraj-1.0.8.dev0+86bb5af-py3.5-linux-x86_64.egg/pytraj/io.py\u001b[0m in \u001b[0;36mload_topology\u001b[1;34m(filename, option)\u001b[0m\n\u001b[0;32m    527\u001b[0m     \u001b[1;32mif\u001b[0m \u001b[0mtop\u001b[0m\u001b[1;33m.\u001b[0m\u001b[0mn_atoms\u001b[0m \u001b[1;33m==\u001b[0m \u001b[1;36m0\u001b[0m\u001b[1;33m:\u001b[0m\u001b[1;33m\u001b[0m\u001b[0m\n\u001b[0;32m    528\u001b[0m         raise RuntimeError(\n\u001b[1;32m--> 529\u001b[1;33m             \u001b[1;34m'n_atoms = 0: make sure to load correct Topology filename '\u001b[0m\u001b[1;33m\u001b[0m\u001b[0m\n\u001b[0m\u001b[0;32m    530\u001b[0m             'or load supported topology (pdb, amber parm, psf, ...)')\n\u001b[0;32m    531\u001b[0m     \u001b[1;32mreturn\u001b[0m \u001b[0mtop\u001b[0m\u001b[1;33m\u001b[0m\u001b[0m\n",
      "\u001b[1;31mRuntimeError\u001b[0m: n_atoms = 0: make sure to load correct Topology filename or load supported topology (pdb, amber parm, psf, ...)"
     ]
    }
   ],
   "source": [
    "sc.optimize.fmin(run_optimize, 0.05)"
   ]
  },
  {
   "cell_type": "code",
   "execution_count": 128,
   "metadata": {
    "collapsed": false
   },
   "outputs": [],
   "source": [
    "radii = np.genfromtxt('radii')\n",
    "densities = np.genfromtxt('densities')\n",
    "from aesthetics import *\n",
    "# Stopped after 15ish minutes"
   ]
  },
  {
   "cell_type": "code",
   "execution_count": 130,
   "metadata": {
    "collapsed": false
   },
   "outputs": [
    {
     "data": {
      "image/png": "[encoded data removed]",
      "text/plain": [
       "<matplotlib.figure.Figure at 0x7fd7e74f6b00>"
      ]
     },
     "metadata": {},
     "output_type": "display_data"
    }
   ],
   "source": [
    "fig = plt.figure()\n",
    "ax = fig.add_subplot(111)\n",
    "ax.scatter(radii[:-1], densities, s=80)\n",
    "ax.axhline(experimental_density, c='k', lw=3)\n",
    "ax.set_title('Downhill simplex with 10 ps simulations')\n",
    "ax.set_xlabel('C3 atom LJ Radius')\n",
    "ax.set_ylabel('Pure ethanol density')\n",
    "fetching_plot(fig)"
   ]
  },
  {
   "cell_type": "code",
   "execution_count": 139,
   "metadata": {
    "collapsed": false
   },
   "outputs": [
    {
     "data": {
      "image/png": "[encoded data removed]",
      "text/plain": [
       "<matplotlib.figure.Figure at 0x7fd7d916d828>"
      ]
     },
     "metadata": {},
     "output_type": "display_data"
    }
   ],
   "source": [
    "fig = plt.figure()\n",
    "ax = fig.add_subplot(111)\n",
    "ax.plot(range(len(densities)), densities, zorder=10, label='Abandoned after 15 min.')\n",
    "ax.axhline(experimental_density, c='k', lw=1, label='Experimental')\n",
    "ax.set_title('Downhill simplex with 10 ps simulations')\n",
    "ax.set_xlabel('Iteration')\n",
    "ax.set_ylabel('Pure ethanol density')\n",
    "ax.legend()\n",
    "fetching_plot(fig)"
   ]
  },
  {
   "cell_type": "code",
   "execution_count": null,
   "metadata": {
    "collapsed": true
   },
   "outputs": [],
   "source": []
  }
 ],
 "metadata": {
  "kernelspec": {
   "display_name": "Python [Root]",
   "language": "python",
   "name": "Python [Root]"
  },
  "language_info": {
   "codemirror_mode": {
    "name": "ipython",
    "version": 3
   },
   "file_extension": ".py",
   "mimetype": "text/x-python",
   "name": "python",
   "nbconvert_exporter": "python",
   "pygments_lexer": "ipython3",
   "version": "3.5.1"
  }
 },
 "nbformat": 4,
 "nbformat_minor": 0
}
